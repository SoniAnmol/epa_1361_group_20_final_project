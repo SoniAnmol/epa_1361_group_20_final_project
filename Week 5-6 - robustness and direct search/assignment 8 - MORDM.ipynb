{
 "cells": [
  {
   "cell_type": "markdown",
   "metadata": {},
   "source": [
    "# Multi-objective robust decision making (MORDM)\n",
    "\n",
    "\n",
    "This exercise demostrates the application of MORDM on the lake model, which was used in earlier exercises.\n",
    "\n",
    "MORDM has four main steps:\n",
    "\n",
    "(i)\t    **problem formulation** based on a systems analytical problem definition framework \n",
    "\n",
    "(ii)\t**searching** for candidate solutions that optimize multiple objectives by using multi-objective evolutionary algorithms \n",
    "\n",
    "(iii)\tgenerating an ensemble of scenarios to **explore** the effects of uncertainties \n",
    "\n",
    "(iv)\tusing **scenario discovery** to detect the vulnerabilities of candidate solutions and improving thecandidate solutions\n",
    "\n",
    "\n",
    "\n",
    "## Step 1: Problem formulation\n",
    "### Lake Model\n",
    "\n",
    "Remember the lake problem used in the assignments in previous weeks. The lake problem is a hypothetical case where the inhabitants of a lake town decide on the amount of annual pollution they release into a lake. It the pollution in the lake passes a threshold, it will suffer irreversible eutrophication.\n",
    "\n",
    "The lake problem has 4 **outcome indicators**: \n",
    "   - **max_P**: maximum pollution over time, to be minimized\n",
    "   - **utility**: economic benefits obtained from polluting the lake, to be maximized\n",
    "   - **inertia**: the percentage of significant annual changes in the anthropogenic pollution rate, to be maximized\n",
    "   - **reliability**: the percentage of years where the pollution level is below the critical threshold, to be maximized\n",
    "    \n",
    "See the lake model exercise for the formulation of these outcome variables.\n",
    "\n",
    "The lake problem is characterized by both stochastic uncertainty and **deep uncertainty**. The stochastic uncertainty arises from the natural inflow. To reduce this stochastic uncertainty, multiple replications are performed and the average over the replication is taken. Deep uncertainty is presented by uncertainty about the mean $\\mu$ and standard deviation $sigma$ of the lognormal distribution characterizing the natural inflow, the natural removal rate of the lake $\\beta$, the natural recycling rate of the lake $q$, and the discount rate $\\delta$. The table below specifies the ranges for the deeply uncertain factors, as well as their best estimate or default values. \n",
    "\n",
    "|Parameter\t|Range\t        |Default value|\n",
    "|-----------|--------------:|------------:|\n",
    "|$\\mu$    \t|0.01 – 0.05\t|0.02         |\n",
    "|$\\sigma$\t|0.001 – 0.005 \t|0.0017       |\n",
    "|$b$      \t|0.1 – 0.45\t    |0.42         |\n",
    "|$q$\t    |2 – 4.5\t    |2            |\n",
    "|$\\delta$\t|0.93 – 0.99\t|0.98         |\n",
    "\n",
    "\n",
    "The lake problem in previous assignments had 100 decision **levers**, meaning that the decision makers independently decide on the amount of anthropogenic pollution at every time step (100). Then a 'policy' was a set of values for these 100 levers, which you composed by sampling from the range [0, 0.1].   \n",
    "\n",
    "In this exercise, we will use a more advanced way of deciding on the amout of anhtropogenic polution. We will use a **closed loop** version of the lake model, meaning that $a_t$ (anthropogenic pollution) is dependent on $X_t$ (the pollution level at time t). For instance, the rate of anthropogenic pollutions is lowered if the pollution level is approaching a critical threshold. Here, we use \"cubic radial basis functions\" following [Quinn et al. 2017](http://www.sciencedirect.com/science/article/pii/S1364815216302250) and formulate $a_t$ as follows:\n",
    "\n",
    "\\begin{equation}\n",
    "    a_{t} =  min\\Bigg(max\\bigg(\\sum\\limits_{j=1}^{n} w_{j}\\left\\vert{\\frac{X_{t,i}-c_{j}}{r_{j}}}\\right\\vert^3, 0.01\\bigg), 0.1\\Bigg) \\\\\n",
    "    s.t. \\\\\n",
    "    -2 \\leq c_{j} \\leq 2 \\\\\n",
    "    0 \\leq r_{j} \\leq 2 \\\\ \n",
    "    0 \\leq w_{j} \\leq 1 \\\\\n",
    "    \\sum\\limits_{j=1}^{n} w_{j} = 1\n",
    "\\end{equation}\n",
    "\n",
    "\n",
    "The parameters that define this function also define the pollution strategy over time. Hence, the decision **levers** are the five parameters of this functions, namely $c_1$, $c_2$, $r_1$, $r_2$ and $w_1$. ($w_2$ = 1 - $w_1$).\n",
    "\n",
    "Note:: i is index for the realization, given m realizations; j is the index for the radial basis function, given 2 radial basis functions. \n",
    "\n",
    "**To formulate this problem, do the following:**\n",
    "\n",
    "**1) Import the lake model function from dps_lake_model.py**\n",
    "\n",
    "**2) Create an ema_workbench interface for this problem, with corresponding uncertainties, levers and outcomes as specified above**\n",
    "\n"
   ]
  },
  {
   "cell_type": "code",
   "execution_count": 108,
   "metadata": {
    "jupyter": {
     "outputs_hidden": true
    }
   },
   "outputs": [],
   "source": [
    "from dps_lake_model import lake_model\n",
    "\n",
    "from ema_workbench import (Model, RealParameter, ScalarOutcome,\n",
    "                           MultiprocessingEvaluator, ema_logging,\n",
    "                           Constant)\n",
    "\n",
    "ema_logging.log_to_stderr(ema_logging.INFO)\n",
    "\n",
    "#instantiate the model\n",
    "lake_model = Model('lakeproblem', function=lake_model)\n",
    "lake_model.time_horizon = 100 # used to specify the number of timesteps\n",
    "\n",
    "#specify uncertainties\n",
    "lake_model.uncertainties = [RealParameter('mean', 0.01, 0.05),\n",
    "                            RealParameter('stdev', 0.001, 0.005),\n",
    "                            RealParameter('b', 0.1, 0.45),\n",
    "                            RealParameter('q', 2.0, 4.5),\n",
    "                            RealParameter('delta', 0.93, 0.99)]\n",
    "\n",
    "# set levers\n",
    "lake_model.levers = [RealParameter(\"c1\", -2, 2),\n",
    "                RealParameter(\"c2\", -2, 2),\n",
    "                RealParameter(\"r1\", 0, 2),\n",
    "                RealParameter(\"r2\", 0, 2),\n",
    "                RealParameter(\"w1\", 0, 1)]\n",
    "\n",
    "#specify outcomes \n",
    "lake_model.outcomes = [ScalarOutcome('max_P', kind=ScalarOutcome.MINIMIZE),\n",
    "                       ScalarOutcome('utility', kind=ScalarOutcome.MAXIMIZE),\n",
    "                       ScalarOutcome('inertia', kind=ScalarOutcome.MINIMIZE),\n",
    "                       ScalarOutcome('reliability', kind=ScalarOutcome.MAXIMIZE)]\n",
    "\n",
    "lake_model.constantcs = [Constant('alpha', 0.41),\n",
    "                         Constant('reps', 150)]"
   ]
  },
  {
   "cell_type": "markdown",
   "metadata": {},
   "source": [
    "## Step 2: Searching for candidate solutions\n",
    "\n",
    "In the second step of MORDM, candidate strategies are identified which are pareto optimal conditional on a reference scenario. These candiate strategies are identified through search with multi-objective evolutionary algorithms, that iteratively evaluate a large number of alternatives on multiple objectives until they find the best candidates. For instance, when we optimize the lake model levers, the lake model function will be called for each candidate evaluation, and the corresponding four objective values will be generated. \n",
    "\n",
    "Take the model interface developed in the previous step and use the optimization functionality of the workbench to identify the pareto approximate set of solutions. Try the following:\n",
    "* change the epsilon values between 0.01 and 0.1, what changes, why?\n",
    "* change the number of function evaluations from 1000 to 10.000 (this requires using multiprocessing unless you are very patient). What is the difference? You can use  convergence as explained in assignment 7 for this"
   ]
  },
  {
   "cell_type": "markdown",
   "metadata": {},
   "source": [
    "#### Answer - Lower epsilon values lead to a higher optimized outcomes. Epsilon of 0.01 resulted in 137 solutions while an epsilon of 0.1 resulted in only 12 solutions. For this experiment, an epsilon value of 0.05 is taken which resulted in 36 solutions. "
   ]
  },
  {
   "cell_type": "code",
   "execution_count": 109,
   "metadata": {},
   "outputs": [
    {
     "name": "stderr",
     "output_type": "stream",
     "text": [
      "[MainProcess/INFO] pool started\n",
      "[MainProcess/INFO] generation 0: 0/5000 nfe\n",
      "[MainProcess/INFO] generation 5: 490/5000 nfe\n",
      "[MainProcess/INFO] generation 10: 978/5000 nfe\n",
      "[MainProcess/INFO] generation 15: 1472/5000 nfe\n",
      "[MainProcess/INFO] generation 20: 1966/5000 nfe\n",
      "[MainProcess/INFO] generation 25: 2461/5000 nfe\n",
      "[MainProcess/INFO] generation 30: 2953/5000 nfe\n",
      "[MainProcess/INFO] generation 35: 3447/5000 nfe\n",
      "[MainProcess/INFO] generation 40: 3939/5000 nfe\n",
      "[MainProcess/INFO] generation 45: 4437/5000 nfe\n",
      "[MainProcess/INFO] generation 50: 4931/5000 nfe\n",
      "[MainProcess/INFO] optimization completed, found 31 solutions\n",
      "[MainProcess/INFO] terminating pool\n"
     ]
    }
   ],
   "source": [
    "# Epsilon should be a list or array with a length equal to the number of outcomes.\n",
    "\n",
    "with MultiprocessingEvaluator(lake_model) as evaluator:\n",
    "    results = evaluator.optimize(nfe=5000, epsilons=[0.05, 0.05, 0.05, 0.05, 0.05])"
   ]
  },
  {
   "cell_type": "code",
   "execution_count": 110,
   "metadata": {},
   "outputs": [
    {
     "data": {
      "text/html": [
       "<div>\n",
       "<style scoped>\n",
       "    .dataframe tbody tr th:only-of-type {\n",
       "        vertical-align: middle;\n",
       "    }\n",
       "\n",
       "    .dataframe tbody tr th {\n",
       "        vertical-align: top;\n",
       "    }\n",
       "\n",
       "    .dataframe thead th {\n",
       "        text-align: right;\n",
       "    }\n",
       "</style>\n",
       "<table border=\"1\" class=\"dataframe\">\n",
       "  <thead>\n",
       "    <tr style=\"text-align: right;\">\n",
       "      <th></th>\n",
       "      <th>c1</th>\n",
       "      <th>c2</th>\n",
       "      <th>r1</th>\n",
       "      <th>r2</th>\n",
       "      <th>w1</th>\n",
       "      <th>max_P</th>\n",
       "      <th>utility</th>\n",
       "      <th>inertia</th>\n",
       "      <th>reliability</th>\n",
       "    </tr>\n",
       "  </thead>\n",
       "  <tbody>\n",
       "    <tr>\n",
       "      <th>0</th>\n",
       "      <td>0.191158</td>\n",
       "      <td>1.868573</td>\n",
       "      <td>0.318200</td>\n",
       "      <td>1.957405</td>\n",
       "      <td>0.947215</td>\n",
       "      <td>2.283762</td>\n",
       "      <td>1.382180</td>\n",
       "      <td>0.9764</td>\n",
       "      <td>0.2098</td>\n",
       "    </tr>\n",
       "    <tr>\n",
       "      <th>1</th>\n",
       "      <td>1.586116</td>\n",
       "      <td>0.866261</td>\n",
       "      <td>0.227613</td>\n",
       "      <td>1.378879</td>\n",
       "      <td>0.396007</td>\n",
       "      <td>2.283696</td>\n",
       "      <td>1.728416</td>\n",
       "      <td>0.9831</td>\n",
       "      <td>0.0700</td>\n",
       "    </tr>\n",
       "    <tr>\n",
       "      <th>2</th>\n",
       "      <td>0.282152</td>\n",
       "      <td>1.328210</td>\n",
       "      <td>0.476679</td>\n",
       "      <td>1.817312</td>\n",
       "      <td>0.846485</td>\n",
       "      <td>2.283850</td>\n",
       "      <td>1.111175</td>\n",
       "      <td>0.9757</td>\n",
       "      <td>0.3510</td>\n",
       "    </tr>\n",
       "    <tr>\n",
       "      <th>3</th>\n",
       "      <td>1.680723</td>\n",
       "      <td>1.980611</td>\n",
       "      <td>1.151629</td>\n",
       "      <td>0.031657</td>\n",
       "      <td>0.490050</td>\n",
       "      <td>2.215729</td>\n",
       "      <td>1.483565</td>\n",
       "      <td>0.9813</td>\n",
       "      <td>0.0700</td>\n",
       "    </tr>\n",
       "    <tr>\n",
       "      <th>4</th>\n",
       "      <td>0.448362</td>\n",
       "      <td>-0.244136</td>\n",
       "      <td>1.526962</td>\n",
       "      <td>1.476774</td>\n",
       "      <td>0.987810</td>\n",
       "      <td>0.099641</td>\n",
       "      <td>0.253814</td>\n",
       "      <td>0.9900</td>\n",
       "      <td>1.0000</td>\n",
       "    </tr>\n",
       "    <tr>\n",
       "      <th>5</th>\n",
       "      <td>1.822918</td>\n",
       "      <td>1.980611</td>\n",
       "      <td>1.254682</td>\n",
       "      <td>0.041736</td>\n",
       "      <td>0.400653</td>\n",
       "      <td>2.027642</td>\n",
       "      <td>0.877638</td>\n",
       "      <td>0.9876</td>\n",
       "      <td>0.0700</td>\n",
       "    </tr>\n",
       "    <tr>\n",
       "      <th>6</th>\n",
       "      <td>1.686643</td>\n",
       "      <td>1.997568</td>\n",
       "      <td>1.197116</td>\n",
       "      <td>0.014665</td>\n",
       "      <td>0.934267</td>\n",
       "      <td>2.074697</td>\n",
       "      <td>1.032576</td>\n",
       "      <td>0.9873</td>\n",
       "      <td>0.0700</td>\n",
       "    </tr>\n",
       "    <tr>\n",
       "      <th>7</th>\n",
       "      <td>0.298718</td>\n",
       "      <td>1.323013</td>\n",
       "      <td>0.655248</td>\n",
       "      <td>1.907738</td>\n",
       "      <td>0.959086</td>\n",
       "      <td>0.149644</td>\n",
       "      <td>0.432403</td>\n",
       "      <td>0.9900</td>\n",
       "      <td>1.0000</td>\n",
       "    </tr>\n",
       "    <tr>\n",
       "      <th>8</th>\n",
       "      <td>1.680723</td>\n",
       "      <td>1.980611</td>\n",
       "      <td>1.246586</td>\n",
       "      <td>0.031657</td>\n",
       "      <td>0.485272</td>\n",
       "      <td>2.194409</td>\n",
       "      <td>1.419652</td>\n",
       "      <td>0.9820</td>\n",
       "      <td>0.0700</td>\n",
       "    </tr>\n",
       "    <tr>\n",
       "      <th>9</th>\n",
       "      <td>0.268950</td>\n",
       "      <td>1.003997</td>\n",
       "      <td>0.391029</td>\n",
       "      <td>1.797304</td>\n",
       "      <td>0.789229</td>\n",
       "      <td>0.193295</td>\n",
       "      <td>0.518320</td>\n",
       "      <td>0.9900</td>\n",
       "      <td>1.0000</td>\n",
       "    </tr>\n",
       "    <tr>\n",
       "      <th>10</th>\n",
       "      <td>0.248954</td>\n",
       "      <td>1.056927</td>\n",
       "      <td>0.358125</td>\n",
       "      <td>1.269657</td>\n",
       "      <td>0.891708</td>\n",
       "      <td>1.320040</td>\n",
       "      <td>0.602505</td>\n",
       "      <td>0.9803</td>\n",
       "      <td>0.9156</td>\n",
       "    </tr>\n",
       "    <tr>\n",
       "      <th>11</th>\n",
       "      <td>0.202001</td>\n",
       "      <td>1.512244</td>\n",
       "      <td>0.655248</td>\n",
       "      <td>1.890212</td>\n",
       "      <td>0.848958</td>\n",
       "      <td>2.283881</td>\n",
       "      <td>1.512754</td>\n",
       "      <td>0.9793</td>\n",
       "      <td>0.1500</td>\n",
       "    </tr>\n",
       "    <tr>\n",
       "      <th>12</th>\n",
       "      <td>0.264286</td>\n",
       "      <td>1.055004</td>\n",
       "      <td>0.383684</td>\n",
       "      <td>1.414396</td>\n",
       "      <td>0.822423</td>\n",
       "      <td>2.283941</td>\n",
       "      <td>1.202223</td>\n",
       "      <td>0.9761</td>\n",
       "      <td>0.3001</td>\n",
       "    </tr>\n",
       "    <tr>\n",
       "      <th>13</th>\n",
       "      <td>0.300161</td>\n",
       "      <td>0.961075</td>\n",
       "      <td>0.391029</td>\n",
       "      <td>1.414396</td>\n",
       "      <td>0.843369</td>\n",
       "      <td>0.230797</td>\n",
       "      <td>0.552913</td>\n",
       "      <td>0.9900</td>\n",
       "      <td>1.0000</td>\n",
       "    </tr>\n",
       "    <tr>\n",
       "      <th>14</th>\n",
       "      <td>1.828057</td>\n",
       "      <td>1.999501</td>\n",
       "      <td>1.250437</td>\n",
       "      <td>0.031657</td>\n",
       "      <td>0.774611</td>\n",
       "      <td>2.145816</td>\n",
       "      <td>0.983901</td>\n",
       "      <td>0.8958</td>\n",
       "      <td>0.0700</td>\n",
       "    </tr>\n",
       "    <tr>\n",
       "      <th>15</th>\n",
       "      <td>0.248726</td>\n",
       "      <td>1.056927</td>\n",
       "      <td>0.358125</td>\n",
       "      <td>1.264206</td>\n",
       "      <td>0.891708</td>\n",
       "      <td>2.263089</td>\n",
       "      <td>0.719316</td>\n",
       "      <td>0.9758</td>\n",
       "      <td>0.7254</td>\n",
       "    </tr>\n",
       "    <tr>\n",
       "      <th>16</th>\n",
       "      <td>0.248347</td>\n",
       "      <td>1.056927</td>\n",
       "      <td>0.340600</td>\n",
       "      <td>1.414396</td>\n",
       "      <td>0.843369</td>\n",
       "      <td>2.283703</td>\n",
       "      <td>0.980904</td>\n",
       "      <td>0.9758</td>\n",
       "      <td>0.4546</td>\n",
       "    </tr>\n",
       "    <tr>\n",
       "      <th>17</th>\n",
       "      <td>1.828057</td>\n",
       "      <td>1.998786</td>\n",
       "      <td>1.250437</td>\n",
       "      <td>0.031657</td>\n",
       "      <td>0.758287</td>\n",
       "      <td>2.181432</td>\n",
       "      <td>1.054440</td>\n",
       "      <td>0.9081</td>\n",
       "      <td>0.0700</td>\n",
       "    </tr>\n",
       "    <tr>\n",
       "      <th>18</th>\n",
       "      <td>1.813811</td>\n",
       "      <td>1.999849</td>\n",
       "      <td>1.285314</td>\n",
       "      <td>0.028252</td>\n",
       "      <td>0.877188</td>\n",
       "      <td>1.996611</td>\n",
       "      <td>0.759533</td>\n",
       "      <td>0.8956</td>\n",
       "      <td>0.0700</td>\n",
       "    </tr>\n",
       "    <tr>\n",
       "      <th>19</th>\n",
       "      <td>1.820504</td>\n",
       "      <td>1.999795</td>\n",
       "      <td>1.251071</td>\n",
       "      <td>0.031657</td>\n",
       "      <td>0.791977</td>\n",
       "      <td>2.032690</td>\n",
       "      <td>0.814760</td>\n",
       "      <td>0.8776</td>\n",
       "      <td>0.0700</td>\n",
       "    </tr>\n",
       "    <tr>\n",
       "      <th>20</th>\n",
       "      <td>1.679222</td>\n",
       "      <td>1.997572</td>\n",
       "      <td>1.409204</td>\n",
       "      <td>0.033156</td>\n",
       "      <td>0.663697</td>\n",
       "      <td>2.093071</td>\n",
       "      <td>0.918883</td>\n",
       "      <td>0.9196</td>\n",
       "      <td>0.0700</td>\n",
       "    </tr>\n",
       "    <tr>\n",
       "      <th>21</th>\n",
       "      <td>0.218692</td>\n",
       "      <td>1.055004</td>\n",
       "      <td>0.381531</td>\n",
       "      <td>1.430075</td>\n",
       "      <td>0.844335</td>\n",
       "      <td>2.283816</td>\n",
       "      <td>1.014304</td>\n",
       "      <td>0.9762</td>\n",
       "      <td>0.4280</td>\n",
       "    </tr>\n",
       "    <tr>\n",
       "      <th>22</th>\n",
       "      <td>1.867775</td>\n",
       "      <td>1.999769</td>\n",
       "      <td>1.355318</td>\n",
       "      <td>0.028674</td>\n",
       "      <td>0.829905</td>\n",
       "      <td>2.160843</td>\n",
       "      <td>1.024603</td>\n",
       "      <td>0.8977</td>\n",
       "      <td>0.0700</td>\n",
       "    </tr>\n",
       "    <tr>\n",
       "      <th>23</th>\n",
       "      <td>0.300161</td>\n",
       "      <td>1.025858</td>\n",
       "      <td>0.358125</td>\n",
       "      <td>1.414396</td>\n",
       "      <td>0.784616</td>\n",
       "      <td>2.283728</td>\n",
       "      <td>1.255772</td>\n",
       "      <td>0.9754</td>\n",
       "      <td>0.2657</td>\n",
       "    </tr>\n",
       "    <tr>\n",
       "      <th>24</th>\n",
       "      <td>1.828057</td>\n",
       "      <td>1.998774</td>\n",
       "      <td>1.188057</td>\n",
       "      <td>0.039864</td>\n",
       "      <td>0.563531</td>\n",
       "      <td>2.065887</td>\n",
       "      <td>0.873268</td>\n",
       "      <td>0.8883</td>\n",
       "      <td>0.0700</td>\n",
       "    </tr>\n",
       "    <tr>\n",
       "      <th>25</th>\n",
       "      <td>1.949223</td>\n",
       "      <td>1.999581</td>\n",
       "      <td>1.451443</td>\n",
       "      <td>0.033091</td>\n",
       "      <td>0.649191</td>\n",
       "      <td>2.283423</td>\n",
       "      <td>1.464394</td>\n",
       "      <td>0.9497</td>\n",
       "      <td>0.0700</td>\n",
       "    </tr>\n",
       "    <tr>\n",
       "      <th>26</th>\n",
       "      <td>0.218692</td>\n",
       "      <td>1.051327</td>\n",
       "      <td>0.381531</td>\n",
       "      <td>1.501686</td>\n",
       "      <td>0.820812</td>\n",
       "      <td>2.283738</td>\n",
       "      <td>0.905318</td>\n",
       "      <td>0.9757</td>\n",
       "      <td>0.5180</td>\n",
       "    </tr>\n",
       "    <tr>\n",
       "      <th>27</th>\n",
       "      <td>0.202001</td>\n",
       "      <td>1.336038</td>\n",
       "      <td>0.362015</td>\n",
       "      <td>1.971984</td>\n",
       "      <td>0.848852</td>\n",
       "      <td>2.119182</td>\n",
       "      <td>0.666475</td>\n",
       "      <td>0.9773</td>\n",
       "      <td>0.7977</td>\n",
       "    </tr>\n",
       "    <tr>\n",
       "      <th>28</th>\n",
       "      <td>0.196301</td>\n",
       "      <td>1.056927</td>\n",
       "      <td>0.340600</td>\n",
       "      <td>1.320799</td>\n",
       "      <td>0.787473</td>\n",
       "      <td>2.283836</td>\n",
       "      <td>1.650812</td>\n",
       "      <td>0.9800</td>\n",
       "      <td>0.1000</td>\n",
       "    </tr>\n",
       "    <tr>\n",
       "      <th>29</th>\n",
       "      <td>0.209766</td>\n",
       "      <td>1.336038</td>\n",
       "      <td>0.362015</td>\n",
       "      <td>1.950739</td>\n",
       "      <td>0.848852</td>\n",
       "      <td>2.283577</td>\n",
       "      <td>0.813048</td>\n",
       "      <td>0.9765</td>\n",
       "      <td>0.6060</td>\n",
       "    </tr>\n",
       "    <tr>\n",
       "      <th>30</th>\n",
       "      <td>1.544891</td>\n",
       "      <td>1.998081</td>\n",
       "      <td>1.165060</td>\n",
       "      <td>0.043823</td>\n",
       "      <td>0.123912</td>\n",
       "      <td>2.248376</td>\n",
       "      <td>1.222990</td>\n",
       "      <td>0.9309</td>\n",
       "      <td>0.0700</td>\n",
       "    </tr>\n",
       "  </tbody>\n",
       "</table>\n",
       "</div>"
      ],
      "text/plain": [
       "          c1        c2        r1        r2        w1     max_P   utility  \\\n",
       "0   0.191158  1.868573  0.318200  1.957405  0.947215  2.283762  1.382180   \n",
       "1   1.586116  0.866261  0.227613  1.378879  0.396007  2.283696  1.728416   \n",
       "2   0.282152  1.328210  0.476679  1.817312  0.846485  2.283850  1.111175   \n",
       "3   1.680723  1.980611  1.151629  0.031657  0.490050  2.215729  1.483565   \n",
       "4   0.448362 -0.244136  1.526962  1.476774  0.987810  0.099641  0.253814   \n",
       "5   1.822918  1.980611  1.254682  0.041736  0.400653  2.027642  0.877638   \n",
       "6   1.686643  1.997568  1.197116  0.014665  0.934267  2.074697  1.032576   \n",
       "7   0.298718  1.323013  0.655248  1.907738  0.959086  0.149644  0.432403   \n",
       "8   1.680723  1.980611  1.246586  0.031657  0.485272  2.194409  1.419652   \n",
       "9   0.268950  1.003997  0.391029  1.797304  0.789229  0.193295  0.518320   \n",
       "10  0.248954  1.056927  0.358125  1.269657  0.891708  1.320040  0.602505   \n",
       "11  0.202001  1.512244  0.655248  1.890212  0.848958  2.283881  1.512754   \n",
       "12  0.264286  1.055004  0.383684  1.414396  0.822423  2.283941  1.202223   \n",
       "13  0.300161  0.961075  0.391029  1.414396  0.843369  0.230797  0.552913   \n",
       "14  1.828057  1.999501  1.250437  0.031657  0.774611  2.145816  0.983901   \n",
       "15  0.248726  1.056927  0.358125  1.264206  0.891708  2.263089  0.719316   \n",
       "16  0.248347  1.056927  0.340600  1.414396  0.843369  2.283703  0.980904   \n",
       "17  1.828057  1.998786  1.250437  0.031657  0.758287  2.181432  1.054440   \n",
       "18  1.813811  1.999849  1.285314  0.028252  0.877188  1.996611  0.759533   \n",
       "19  1.820504  1.999795  1.251071  0.031657  0.791977  2.032690  0.814760   \n",
       "20  1.679222  1.997572  1.409204  0.033156  0.663697  2.093071  0.918883   \n",
       "21  0.218692  1.055004  0.381531  1.430075  0.844335  2.283816  1.014304   \n",
       "22  1.867775  1.999769  1.355318  0.028674  0.829905  2.160843  1.024603   \n",
       "23  0.300161  1.025858  0.358125  1.414396  0.784616  2.283728  1.255772   \n",
       "24  1.828057  1.998774  1.188057  0.039864  0.563531  2.065887  0.873268   \n",
       "25  1.949223  1.999581  1.451443  0.033091  0.649191  2.283423  1.464394   \n",
       "26  0.218692  1.051327  0.381531  1.501686  0.820812  2.283738  0.905318   \n",
       "27  0.202001  1.336038  0.362015  1.971984  0.848852  2.119182  0.666475   \n",
       "28  0.196301  1.056927  0.340600  1.320799  0.787473  2.283836  1.650812   \n",
       "29  0.209766  1.336038  0.362015  1.950739  0.848852  2.283577  0.813048   \n",
       "30  1.544891  1.998081  1.165060  0.043823  0.123912  2.248376  1.222990   \n",
       "\n",
       "    inertia  reliability  \n",
       "0    0.9764       0.2098  \n",
       "1    0.9831       0.0700  \n",
       "2    0.9757       0.3510  \n",
       "3    0.9813       0.0700  \n",
       "4    0.9900       1.0000  \n",
       "5    0.9876       0.0700  \n",
       "6    0.9873       0.0700  \n",
       "7    0.9900       1.0000  \n",
       "8    0.9820       0.0700  \n",
       "9    0.9900       1.0000  \n",
       "10   0.9803       0.9156  \n",
       "11   0.9793       0.1500  \n",
       "12   0.9761       0.3001  \n",
       "13   0.9900       1.0000  \n",
       "14   0.8958       0.0700  \n",
       "15   0.9758       0.7254  \n",
       "16   0.9758       0.4546  \n",
       "17   0.9081       0.0700  \n",
       "18   0.8956       0.0700  \n",
       "19   0.8776       0.0700  \n",
       "20   0.9196       0.0700  \n",
       "21   0.9762       0.4280  \n",
       "22   0.8977       0.0700  \n",
       "23   0.9754       0.2657  \n",
       "24   0.8883       0.0700  \n",
       "25   0.9497       0.0700  \n",
       "26   0.9757       0.5180  \n",
       "27   0.9773       0.7977  \n",
       "28   0.9800       0.1000  \n",
       "29   0.9765       0.6060  \n",
       "30   0.9309       0.0700  "
      ]
     },
     "execution_count": 110,
     "metadata": {},
     "output_type": "execute_result"
    }
   ],
   "source": [
    "#Gives a dataframe of optimized outcomes with corresponding lever values\n",
    "results"
   ]
  },
  {
   "cell_type": "code",
   "execution_count": 112,
   "metadata": {},
   "outputs": [
    {
     "data": {
      "text/plain": [
       "pandas.core.frame.DataFrame"
      ]
     },
     "execution_count": 112,
     "metadata": {},
     "output_type": "execute_result"
    }
   ],
   "source": [
    "type(results)"
   ]
  },
  {
   "cell_type": "markdown",
   "metadata": {},
   "source": [
    "**plot the tradeoffs you have found using a parallel axis plot**\n",
    "\n",
    "We can visualize these tradeoffs on **parallel axis plots**. In these plots, each dimension is shown as a vertical axis. Each solution is represented by a line on this plot, which crosses the objective axes at the corresponsing value. You can use the [parcoords functionality](https://emaworkbench.readthedocs.io/en/latest/ema_documentation/analysis/parcoords.html) for this that comes with the ema_workbench. Ensure that the direction of desirability is the same for the four objectives.|\n",
    "\n"
   ]
  },
  {
   "cell_type": "code",
   "execution_count": 119,
   "metadata": {
    "jupyter": {
     "outputs_hidden": true
    }
   },
   "outputs": [
    {
     "data": {
      "image/png": "[encoded data removed]",
      "text/plain": [
       "<Figure size 432x288 with 3 Axes>"
      ]
     },
     "metadata": {},
     "output_type": "display_data"
    }
   ],
   "source": [
    "from ema_workbench.analysis import parcoords\n",
    "import matplotlib.pyplot as plt\n",
    "\n",
    "outcomes = results.loc[:, ['max_P', 'utility', 'inertia', 'reliability']]\n",
    "\n",
    "limits = parcoords.get_limits(outcomes)\n",
    "axes = parcoords.ParallelAxes(limits)\n",
    "axes.plot(outcomes)\n",
    "\n",
    "# we invert this axis so direction of desirability is the same \n",
    "axes.invert_axis('max_P') \n",
    "plt.show()"
   ]
  },
  {
   "cell_type": "code",
   "execution_count": 114,
   "metadata": {},
   "outputs": [
    {
     "data": {
      "text/html": [
       "<div>\n",
       "<style scoped>\n",
       "    .dataframe tbody tr th:only-of-type {\n",
       "        vertical-align: middle;\n",
       "    }\n",
       "\n",
       "    .dataframe tbody tr th {\n",
       "        vertical-align: top;\n",
       "    }\n",
       "\n",
       "    .dataframe thead th {\n",
       "        text-align: right;\n",
       "    }\n",
       "</style>\n",
       "<table border=\"1\" class=\"dataframe\">\n",
       "  <thead>\n",
       "    <tr style=\"text-align: right;\">\n",
       "      <th></th>\n",
       "      <th>max_P</th>\n",
       "      <th>utility</th>\n",
       "      <th>inertia</th>\n",
       "      <th>reliability</th>\n",
       "    </tr>\n",
       "  </thead>\n",
       "  <tbody>\n",
       "    <tr>\n",
       "      <th>0</th>\n",
       "      <td>0.099641</td>\n",
       "      <td>0.253814</td>\n",
       "      <td>0.8776</td>\n",
       "      <td>0.07</td>\n",
       "    </tr>\n",
       "    <tr>\n",
       "      <th>1</th>\n",
       "      <td>2.283941</td>\n",
       "      <td>1.728416</td>\n",
       "      <td>0.9900</td>\n",
       "      <td>1.00</td>\n",
       "    </tr>\n",
       "  </tbody>\n",
       "</table>\n",
       "</div>"
      ],
      "text/plain": [
       "      max_P   utility  inertia  reliability\n",
       "0  0.099641  0.253814   0.8776         0.07\n",
       "1  2.283941  1.728416   0.9900         1.00"
      ]
     },
     "execution_count": 114,
     "metadata": {},
     "output_type": "execute_result"
    }
   ],
   "source": [
    "limits"
   ]
  },
  {
   "cell_type": "markdown",
   "metadata": {},
   "source": [
    "**What does this plot tell us about the tradeoffs and conflicting objectives?**"
   ]
  },
  {
   "cell_type": "markdown",
   "metadata": {},
   "source": [
    "MaxP with utility \\\n",
    "Utility with inertia \\\n",
    "Inertia with reliability"
   ]
  },
  {
   "cell_type": "markdown",
   "metadata": {},
   "source": [
    "## Step 3: Re-evaluate candidate solutions under uncertainty\n",
    "\n",
    "We now have a large number of candidate solutions (policies), we can re-evaluate them over the various deeply uncertain factors to assess their robustness against uncertainties.\n",
    "\n",
    "For this robustness evaluation, we need to explore the scenarios for each solution. It means that, if we would like to run for instance 1000 scenarios for each solution, we might have to execute a very large number of runs.\n",
    "\n",
    "Here, to simplify the case, let's suppose that decision makers have a hard constrain on *reliability*. No solution with less than 90% reliability is acceptable for them. Therefore, we can reduce the size of the solution set according to this constraint. \n",
    "\n",
    "**Apply this constraint of reliability on the results, and create a new dataframe named new_reults**\n"
   ]
  },
  {
   "cell_type": "code",
   "execution_count": 5,
   "metadata": {},
   "outputs": [
    {
     "data": {
      "text/html": [
       "<div>\n",
       "<style scoped>\n",
       "    .dataframe tbody tr th:only-of-type {\n",
       "        vertical-align: middle;\n",
       "    }\n",
       "\n",
       "    .dataframe tbody tr th {\n",
       "        vertical-align: top;\n",
       "    }\n",
       "\n",
       "    .dataframe thead th {\n",
       "        text-align: right;\n",
       "    }\n",
       "</style>\n",
       "<table border=\"1\" class=\"dataframe\">\n",
       "  <thead>\n",
       "    <tr style=\"text-align: right;\">\n",
       "      <th></th>\n",
       "      <th>c1</th>\n",
       "      <th>c2</th>\n",
       "      <th>r1</th>\n",
       "      <th>r2</th>\n",
       "      <th>w1</th>\n",
       "      <th>max_P</th>\n",
       "      <th>utility</th>\n",
       "      <th>inertia</th>\n",
       "      <th>reliability</th>\n",
       "    </tr>\n",
       "  </thead>\n",
       "  <tbody>\n",
       "    <tr>\n",
       "      <th>0</th>\n",
       "      <td>0.290805</td>\n",
       "      <td>0.730018</td>\n",
       "      <td>0.294348</td>\n",
       "      <td>1.485816</td>\n",
       "      <td>0.467365</td>\n",
       "      <td>0.224777</td>\n",
       "      <td>0.550268</td>\n",
       "      <td>0.99</td>\n",
       "      <td>1.0</td>\n",
       "    </tr>\n",
       "    <tr>\n",
       "      <th>6</th>\n",
       "      <td>0.292685</td>\n",
       "      <td>0.366699</td>\n",
       "      <td>0.253313</td>\n",
       "      <td>1.697207</td>\n",
       "      <td>0.089668</td>\n",
       "      <td>0.144310</td>\n",
       "      <td>0.419798</td>\n",
       "      <td>0.99</td>\n",
       "      <td>1.0</td>\n",
       "    </tr>\n",
       "    <tr>\n",
       "      <th>9</th>\n",
       "      <td>0.372951</td>\n",
       "      <td>0.436392</td>\n",
       "      <td>1.860340</td>\n",
       "      <td>0.460611</td>\n",
       "      <td>0.836414</td>\n",
       "      <td>0.192654</td>\n",
       "      <td>0.516289</td>\n",
       "      <td>0.99</td>\n",
       "      <td>1.0</td>\n",
       "    </tr>\n",
       "    <tr>\n",
       "      <th>10</th>\n",
       "      <td>0.444982</td>\n",
       "      <td>0.240289</td>\n",
       "      <td>1.885277</td>\n",
       "      <td>0.380411</td>\n",
       "      <td>0.917273</td>\n",
       "      <td>0.093977</td>\n",
       "      <td>0.235441</td>\n",
       "      <td>0.99</td>\n",
       "      <td>1.0</td>\n",
       "    </tr>\n",
       "  </tbody>\n",
       "</table>\n",
       "</div>"
      ],
      "text/plain": [
       "          c1        c2        r1        r2        w1     max_P   utility  \\\n",
       "0   0.290805  0.730018  0.294348  1.485816  0.467365  0.224777  0.550268   \n",
       "6   0.292685  0.366699  0.253313  1.697207  0.089668  0.144310  0.419798   \n",
       "9   0.372951  0.436392  1.860340  0.460611  0.836414  0.192654  0.516289   \n",
       "10  0.444982  0.240289  1.885277  0.380411  0.917273  0.093977  0.235441   \n",
       "\n",
       "    inertia  reliability  \n",
       "0      0.99          1.0  \n",
       "6      0.99          1.0  \n",
       "9      0.99          1.0  \n",
       "10     0.99          1.0  "
      ]
     },
     "execution_count": 5,
     "metadata": {},
     "output_type": "execute_result"
    }
   ],
   "source": [
    "#Restricting reliability to above 90%\n",
    "new_results = results[results['reliability']>0.9]\n",
    "new_results"
   ]
  },
  {
   "cell_type": "markdown",
   "metadata": {},
   "source": [
    "\n",
    "**From new_results, which is the reduced dataframe of candidate solutions, make a list of policies in a format that can be inputed to the *perform_experiments* function of the EMA workbench.**\n",
    "\n",
    "*hint: you need to transform each policy to a dict, and then use this dict as input for the Policy class that comes with the workbench*"
   ]
  },
  {
   "cell_type": "code",
   "execution_count": 6,
   "metadata": {
    "jupyter": {
     "outputs_hidden": true
    }
   },
   "outputs": [],
   "source": [
    "from ema_workbench import Policy, perform_experiments\n",
    "\n",
    "new_df = new_results.loc[:, ['c1', 'c2', 'r1', 'r2', 'w1']]\n",
    "policies = []\n",
    "\n",
    "for i,policy in new_df.iterrows():\n",
    "    policies.append(Policy(str(i),**policy.to_dict()))"
   ]
  },
  {
   "cell_type": "code",
   "execution_count": 50,
   "metadata": {},
   "outputs": [
    {
     "data": {
      "text/plain": [
       "[Policy({'c1': 0.29080488440940944, 'c2': 0.7300177529690992, 'r1': 0.2943475484200331, 'r2': 1.4858160442251718, 'w1': 0.46736521103574347}),\n",
       " Policy({'c1': 0.2926852354160716, 'c2': 0.3666994912045807, 'r1': 0.2533129037363746, 'r2': 1.6972071398239303, 'w1': 0.0896679710813788}),\n",
       " Policy({'c1': 0.3729511337137279, 'c2': 0.43639175962967935, 'r1': 1.8603404607382483, 'r2': 0.46061119678834994, 'w1': 0.8364143649043179}),\n",
       " Policy({'c1': 0.44498150225934174, 'c2': 0.24028881411864855, 'r1': 1.8852768943882907, 'r2': 0.3804112896127252, 'w1': 0.9172727006279391})]"
      ]
     },
     "execution_count": 50,
     "metadata": {},
     "output_type": "execute_result"
    }
   ],
   "source": [
    "policies"
   ]
  },
  {
   "cell_type": "markdown",
   "metadata": {},
   "source": [
    "**Perform 1000 scenarios for each of the policy options. Depending on how many solutions are left after implementing the constraint, consider using multiprocessing or ipyparallel to speed up calculations.**\n",
    "\n",
    "If you want to use ipyparallel, don't forget to start ipcluster."
   ]
  },
  {
   "cell_type": "code",
   "execution_count": 47,
   "metadata": {
    "jupyter": {
     "outputs_hidden": true
    }
   },
   "outputs": [
    {
     "name": "stderr",
     "output_type": "stream",
     "text": [
      "[MainProcess/INFO] pool started\n",
      "[MainProcess/INFO] performing 1000 scenarios * 4 policies * 1 model(s) = 4000 experiments\n",
      "[MainProcess/INFO] 400 cases completed\n",
      "[MainProcess/INFO] 800 cases completed\n",
      "[MainProcess/INFO] 1200 cases completed\n",
      "[MainProcess/INFO] 1600 cases completed\n",
      "[MainProcess/INFO] 2000 cases completed\n",
      "[MainProcess/INFO] 2400 cases completed\n",
      "[MainProcess/INFO] 2800 cases completed\n",
      "[MainProcess/INFO] 3200 cases completed\n",
      "[MainProcess/INFO] 3600 cases completed\n",
      "[MainProcess/INFO] 4000 cases completed\n",
      "[MainProcess/INFO] experiments finished\n",
      "[MainProcess/INFO] terminating pool\n"
     ]
    }
   ],
   "source": [
    "with MultiprocessingEvaluator(lake_model) as evaluator:\n",
    "    results = evaluator.perform_experiments(scenarios=1000,policies=policies)"
   ]
  },
  {
   "cell_type": "code",
   "execution_count": 48,
   "metadata": {},
   "outputs": [],
   "source": [
    "experiments, outcomes = results"
   ]
  },
  {
   "cell_type": "markdown",
   "metadata": {},
   "source": [
    "We can now evaluate the **robustness** of each of the policy options based on these scenario results. We can calculate the robustness of a policy option in terms of its performance on an outcome indicator across the 1000 scenarios. In other words, we can identify how robust a policy is in terms of each outcome indicator, and investigate the robustness tradeoffs.  \n",
    "\n",
    "There are multiple metrics to quantify robustness. On of them is the *signal to noise ratio*, which is simply the mean of a dataset divided by its standard deviation. For instance, for an outcome indicator to be maximized, we prefer a high average value across the scenarios, and a low standard deviation, implying a narrow uncertaintiy range. Therefore, we want to maximize the signal-to-noise ratio. For an outcome indicator to be minimized, a lower mean and a lower standard deviation is preferred. Therefore the formulation is different.\n",
    "\n",
    "**Write a function to calculate the signal-to-noise ratio for both kinds of outcome indicators. Calculate the signal-to-noise ratios for each outcome and each policy option. Plot the tradeoffs on a parallel axis plot. Which solutions look like a good compromise policy?**"
   ]
  },
  {
   "cell_type": "code",
   "execution_count": 49,
   "metadata": {},
   "outputs": [
    {
     "data": {
      "text/html": [
       "<div>\n",
       "<style scoped>\n",
       "    .dataframe tbody tr th:only-of-type {\n",
       "        vertical-align: middle;\n",
       "    }\n",
       "\n",
       "    .dataframe tbody tr th {\n",
       "        vertical-align: top;\n",
       "    }\n",
       "\n",
       "    .dataframe thead th {\n",
       "        text-align: right;\n",
       "    }\n",
       "</style>\n",
       "<table border=\"1\" class=\"dataframe\">\n",
       "  <thead>\n",
       "    <tr style=\"text-align: right;\">\n",
       "      <th></th>\n",
       "      <th>b</th>\n",
       "      <th>delta</th>\n",
       "      <th>mean</th>\n",
       "      <th>q</th>\n",
       "      <th>stdev</th>\n",
       "      <th>c1</th>\n",
       "      <th>c2</th>\n",
       "      <th>r1</th>\n",
       "      <th>r2</th>\n",
       "      <th>w1</th>\n",
       "      <th>scenario</th>\n",
       "      <th>policy</th>\n",
       "      <th>model</th>\n",
       "    </tr>\n",
       "  </thead>\n",
       "  <tbody>\n",
       "    <tr>\n",
       "      <th>0</th>\n",
       "      <td>0.124207</td>\n",
       "      <td>0.975316</td>\n",
       "      <td>0.031072</td>\n",
       "      <td>2.862678</td>\n",
       "      <td>0.003629</td>\n",
       "      <td>0.290805</td>\n",
       "      <td>0.730018</td>\n",
       "      <td>0.294348</td>\n",
       "      <td>1.485816</td>\n",
       "      <td>0.467365</td>\n",
       "      <td>1000</td>\n",
       "      <td>0</td>\n",
       "      <td>lakeproblem</td>\n",
       "    </tr>\n",
       "    <tr>\n",
       "      <th>1</th>\n",
       "      <td>0.414407</td>\n",
       "      <td>0.972929</td>\n",
       "      <td>0.029275</td>\n",
       "      <td>3.688528</td>\n",
       "      <td>0.004175</td>\n",
       "      <td>0.290805</td>\n",
       "      <td>0.730018</td>\n",
       "      <td>0.294348</td>\n",
       "      <td>1.485816</td>\n",
       "      <td>0.467365</td>\n",
       "      <td>1001</td>\n",
       "      <td>0</td>\n",
       "      <td>lakeproblem</td>\n",
       "    </tr>\n",
       "    <tr>\n",
       "      <th>2</th>\n",
       "      <td>0.399745</td>\n",
       "      <td>0.986766</td>\n",
       "      <td>0.019838</td>\n",
       "      <td>3.781305</td>\n",
       "      <td>0.004682</td>\n",
       "      <td>0.290805</td>\n",
       "      <td>0.730018</td>\n",
       "      <td>0.294348</td>\n",
       "      <td>1.485816</td>\n",
       "      <td>0.467365</td>\n",
       "      <td>1002</td>\n",
       "      <td>0</td>\n",
       "      <td>lakeproblem</td>\n",
       "    </tr>\n",
       "    <tr>\n",
       "      <th>3</th>\n",
       "      <td>0.235136</td>\n",
       "      <td>0.930421</td>\n",
       "      <td>0.045202</td>\n",
       "      <td>4.260879</td>\n",
       "      <td>0.003321</td>\n",
       "      <td>0.290805</td>\n",
       "      <td>0.730018</td>\n",
       "      <td>0.294348</td>\n",
       "      <td>1.485816</td>\n",
       "      <td>0.467365</td>\n",
       "      <td>1003</td>\n",
       "      <td>0</td>\n",
       "      <td>lakeproblem</td>\n",
       "    </tr>\n",
       "    <tr>\n",
       "      <th>4</th>\n",
       "      <td>0.164098</td>\n",
       "      <td>0.973345</td>\n",
       "      <td>0.037917</td>\n",
       "      <td>4.250303</td>\n",
       "      <td>0.002586</td>\n",
       "      <td>0.290805</td>\n",
       "      <td>0.730018</td>\n",
       "      <td>0.294348</td>\n",
       "      <td>1.485816</td>\n",
       "      <td>0.467365</td>\n",
       "      <td>1004</td>\n",
       "      <td>0</td>\n",
       "      <td>lakeproblem</td>\n",
       "    </tr>\n",
       "    <tr>\n",
       "      <th>...</th>\n",
       "      <td>...</td>\n",
       "      <td>...</td>\n",
       "      <td>...</td>\n",
       "      <td>...</td>\n",
       "      <td>...</td>\n",
       "      <td>...</td>\n",
       "      <td>...</td>\n",
       "      <td>...</td>\n",
       "      <td>...</td>\n",
       "      <td>...</td>\n",
       "      <td>...</td>\n",
       "      <td>...</td>\n",
       "      <td>...</td>\n",
       "    </tr>\n",
       "    <tr>\n",
       "      <th>3995</th>\n",
       "      <td>0.428533</td>\n",
       "      <td>0.933254</td>\n",
       "      <td>0.023627</td>\n",
       "      <td>2.608756</td>\n",
       "      <td>0.002341</td>\n",
       "      <td>0.444982</td>\n",
       "      <td>0.240289</td>\n",
       "      <td>1.885277</td>\n",
       "      <td>0.380411</td>\n",
       "      <td>0.917273</td>\n",
       "      <td>1995</td>\n",
       "      <td>10</td>\n",
       "      <td>lakeproblem</td>\n",
       "    </tr>\n",
       "    <tr>\n",
       "      <th>3996</th>\n",
       "      <td>0.190439</td>\n",
       "      <td>0.969355</td>\n",
       "      <td>0.010873</td>\n",
       "      <td>2.940649</td>\n",
       "      <td>0.003166</td>\n",
       "      <td>0.444982</td>\n",
       "      <td>0.240289</td>\n",
       "      <td>1.885277</td>\n",
       "      <td>0.380411</td>\n",
       "      <td>0.917273</td>\n",
       "      <td>1996</td>\n",
       "      <td>10</td>\n",
       "      <td>lakeproblem</td>\n",
       "    </tr>\n",
       "    <tr>\n",
       "      <th>3997</th>\n",
       "      <td>0.392207</td>\n",
       "      <td>0.946704</td>\n",
       "      <td>0.032797</td>\n",
       "      <td>3.305934</td>\n",
       "      <td>0.004125</td>\n",
       "      <td>0.444982</td>\n",
       "      <td>0.240289</td>\n",
       "      <td>1.885277</td>\n",
       "      <td>0.380411</td>\n",
       "      <td>0.917273</td>\n",
       "      <td>1997</td>\n",
       "      <td>10</td>\n",
       "      <td>lakeproblem</td>\n",
       "    </tr>\n",
       "    <tr>\n",
       "      <th>3998</th>\n",
       "      <td>0.311578</td>\n",
       "      <td>0.937371</td>\n",
       "      <td>0.020298</td>\n",
       "      <td>4.047547</td>\n",
       "      <td>0.004653</td>\n",
       "      <td>0.444982</td>\n",
       "      <td>0.240289</td>\n",
       "      <td>1.885277</td>\n",
       "      <td>0.380411</td>\n",
       "      <td>0.917273</td>\n",
       "      <td>1998</td>\n",
       "      <td>10</td>\n",
       "      <td>lakeproblem</td>\n",
       "    </tr>\n",
       "    <tr>\n",
       "      <th>3999</th>\n",
       "      <td>0.273436</td>\n",
       "      <td>0.989236</td>\n",
       "      <td>0.045082</td>\n",
       "      <td>2.449165</td>\n",
       "      <td>0.003893</td>\n",
       "      <td>0.444982</td>\n",
       "      <td>0.240289</td>\n",
       "      <td>1.885277</td>\n",
       "      <td>0.380411</td>\n",
       "      <td>0.917273</td>\n",
       "      <td>1999</td>\n",
       "      <td>10</td>\n",
       "      <td>lakeproblem</td>\n",
       "    </tr>\n",
       "  </tbody>\n",
       "</table>\n",
       "<p>4000 rows × 13 columns</p>\n",
       "</div>"
      ],
      "text/plain": [
       "             b     delta      mean         q     stdev        c1        c2  \\\n",
       "0     0.124207  0.975316  0.031072  2.862678  0.003629  0.290805  0.730018   \n",
       "1     0.414407  0.972929  0.029275  3.688528  0.004175  0.290805  0.730018   \n",
       "2     0.399745  0.986766  0.019838  3.781305  0.004682  0.290805  0.730018   \n",
       "3     0.235136  0.930421  0.045202  4.260879  0.003321  0.290805  0.730018   \n",
       "4     0.164098  0.973345  0.037917  4.250303  0.002586  0.290805  0.730018   \n",
       "...        ...       ...       ...       ...       ...       ...       ...   \n",
       "3995  0.428533  0.933254  0.023627  2.608756  0.002341  0.444982  0.240289   \n",
       "3996  0.190439  0.969355  0.010873  2.940649  0.003166  0.444982  0.240289   \n",
       "3997  0.392207  0.946704  0.032797  3.305934  0.004125  0.444982  0.240289   \n",
       "3998  0.311578  0.937371  0.020298  4.047547  0.004653  0.444982  0.240289   \n",
       "3999  0.273436  0.989236  0.045082  2.449165  0.003893  0.444982  0.240289   \n",
       "\n",
       "            r1        r2        w1 scenario policy        model  \n",
       "0     0.294348  1.485816  0.467365     1000      0  lakeproblem  \n",
       "1     0.294348  1.485816  0.467365     1001      0  lakeproblem  \n",
       "2     0.294348  1.485816  0.467365     1002      0  lakeproblem  \n",
       "3     0.294348  1.485816  0.467365     1003      0  lakeproblem  \n",
       "4     0.294348  1.485816  0.467365     1004      0  lakeproblem  \n",
       "...        ...       ...       ...      ...    ...          ...  \n",
       "3995  1.885277  0.380411  0.917273     1995     10  lakeproblem  \n",
       "3996  1.885277  0.380411  0.917273     1996     10  lakeproblem  \n",
       "3997  1.885277  0.380411  0.917273     1997     10  lakeproblem  \n",
       "3998  1.885277  0.380411  0.917273     1998     10  lakeproblem  \n",
       "3999  1.885277  0.380411  0.917273     1999     10  lakeproblem  \n",
       "\n",
       "[4000 rows x 13 columns]"
      ]
     },
     "execution_count": 49,
     "metadata": {},
     "output_type": "execute_result"
    }
   ],
   "source": [
    "experiments"
   ]
  },
  {
   "cell_type": "code",
   "execution_count": 13,
   "metadata": {},
   "outputs": [
    {
     "data": {
      "text/html": [
       "<div>\n",
       "<style scoped>\n",
       "    .dataframe tbody tr th:only-of-type {\n",
       "        vertical-align: middle;\n",
       "    }\n",
       "\n",
       "    .dataframe tbody tr th {\n",
       "        vertical-align: top;\n",
       "    }\n",
       "\n",
       "    .dataframe thead th {\n",
       "        text-align: right;\n",
       "    }\n",
       "</style>\n",
       "<table border=\"1\" class=\"dataframe\">\n",
       "  <thead>\n",
       "    <tr style=\"text-align: right;\">\n",
       "      <th></th>\n",
       "      <th>b</th>\n",
       "      <th>delta</th>\n",
       "      <th>mean</th>\n",
       "      <th>q</th>\n",
       "      <th>stdev</th>\n",
       "      <th>c1</th>\n",
       "      <th>c2</th>\n",
       "      <th>r1</th>\n",
       "      <th>r2</th>\n",
       "      <th>w1</th>\n",
       "      <th>scenario</th>\n",
       "      <th>policy</th>\n",
       "      <th>model</th>\n",
       "      <th>max_P</th>\n",
       "      <th>utility</th>\n",
       "      <th>inertia</th>\n",
       "      <th>reliability</th>\n",
       "    </tr>\n",
       "  </thead>\n",
       "  <tbody>\n",
       "    <tr>\n",
       "      <th>0</th>\n",
       "      <td>0.101361</td>\n",
       "      <td>0.937286</td>\n",
       "      <td>0.022728</td>\n",
       "      <td>2.717159</td>\n",
       "      <td>0.003041</td>\n",
       "      <td>0.290805</td>\n",
       "      <td>0.730018</td>\n",
       "      <td>0.294348</td>\n",
       "      <td>1.485816</td>\n",
       "      <td>0.467365</td>\n",
       "      <td>0</td>\n",
       "      <td>0</td>\n",
       "      <td>lakeproblem</td>\n",
       "      <td>11.062068</td>\n",
       "      <td>0.523102</td>\n",
       "      <td>0.9709</td>\n",
       "      <td>0.0304</td>\n",
       "    </tr>\n",
       "    <tr>\n",
       "      <th>1</th>\n",
       "      <td>0.279064</td>\n",
       "      <td>0.962683</td>\n",
       "      <td>0.022283</td>\n",
       "      <td>2.744880</td>\n",
       "      <td>0.004591</td>\n",
       "      <td>0.290805</td>\n",
       "      <td>0.730018</td>\n",
       "      <td>0.294348</td>\n",
       "      <td>1.485816</td>\n",
       "      <td>0.467365</td>\n",
       "      <td>1</td>\n",
       "      <td>0</td>\n",
       "      <td>lakeproblem</td>\n",
       "      <td>0.231863</td>\n",
       "      <td>0.347629</td>\n",
       "      <td>0.9900</td>\n",
       "      <td>1.0000</td>\n",
       "    </tr>\n",
       "    <tr>\n",
       "      <th>2</th>\n",
       "      <td>0.331062</td>\n",
       "      <td>0.979237</td>\n",
       "      <td>0.027062</td>\n",
       "      <td>2.388072</td>\n",
       "      <td>0.001947</td>\n",
       "      <td>0.290805</td>\n",
       "      <td>0.730018</td>\n",
       "      <td>0.294348</td>\n",
       "      <td>1.485816</td>\n",
       "      <td>0.467365</td>\n",
       "      <td>2</td>\n",
       "      <td>0</td>\n",
       "      <td>lakeproblem</td>\n",
       "      <td>0.244979</td>\n",
       "      <td>0.447188</td>\n",
       "      <td>0.9900</td>\n",
       "      <td>1.0000</td>\n",
       "    </tr>\n",
       "    <tr>\n",
       "      <th>3</th>\n",
       "      <td>0.256482</td>\n",
       "      <td>0.962317</td>\n",
       "      <td>0.019257</td>\n",
       "      <td>2.357939</td>\n",
       "      <td>0.004263</td>\n",
       "      <td>0.290805</td>\n",
       "      <td>0.730018</td>\n",
       "      <td>0.294348</td>\n",
       "      <td>1.485816</td>\n",
       "      <td>0.467365</td>\n",
       "      <td>3</td>\n",
       "      <td>0</td>\n",
       "      <td>lakeproblem</td>\n",
       "      <td>4.240033</td>\n",
       "      <td>0.702517</td>\n",
       "      <td>0.9727</td>\n",
       "      <td>0.1592</td>\n",
       "    </tr>\n",
       "    <tr>\n",
       "      <th>4</th>\n",
       "      <td>0.441120</td>\n",
       "      <td>0.940477</td>\n",
       "      <td>0.047156</td>\n",
       "      <td>3.007649</td>\n",
       "      <td>0.004136</td>\n",
       "      <td>0.290805</td>\n",
       "      <td>0.730018</td>\n",
       "      <td>0.294348</td>\n",
       "      <td>1.485816</td>\n",
       "      <td>0.467365</td>\n",
       "      <td>4</td>\n",
       "      <td>0</td>\n",
       "      <td>lakeproblem</td>\n",
       "      <td>0.218743</td>\n",
       "      <td>0.300508</td>\n",
       "      <td>0.9900</td>\n",
       "      <td>1.0000</td>\n",
       "    </tr>\n",
       "    <tr>\n",
       "      <th>...</th>\n",
       "      <td>...</td>\n",
       "      <td>...</td>\n",
       "      <td>...</td>\n",
       "      <td>...</td>\n",
       "      <td>...</td>\n",
       "      <td>...</td>\n",
       "      <td>...</td>\n",
       "      <td>...</td>\n",
       "      <td>...</td>\n",
       "      <td>...</td>\n",
       "      <td>...</td>\n",
       "      <td>...</td>\n",
       "      <td>...</td>\n",
       "      <td>...</td>\n",
       "      <td>...</td>\n",
       "      <td>...</td>\n",
       "      <td>...</td>\n",
       "    </tr>\n",
       "    <tr>\n",
       "      <th>3995</th>\n",
       "      <td>0.309564</td>\n",
       "      <td>0.944472</td>\n",
       "      <td>0.012687</td>\n",
       "      <td>3.224986</td>\n",
       "      <td>0.001619</td>\n",
       "      <td>0.444982</td>\n",
       "      <td>0.240289</td>\n",
       "      <td>1.885277</td>\n",
       "      <td>0.380411</td>\n",
       "      <td>0.917273</td>\n",
       "      <td>995</td>\n",
       "      <td>10</td>\n",
       "      <td>lakeproblem</td>\n",
       "      <td>0.082812</td>\n",
       "      <td>0.136959</td>\n",
       "      <td>0.9900</td>\n",
       "      <td>1.0000</td>\n",
       "    </tr>\n",
       "    <tr>\n",
       "      <th>3996</th>\n",
       "      <td>0.447641</td>\n",
       "      <td>0.959119</td>\n",
       "      <td>0.011409</td>\n",
       "      <td>2.052284</td>\n",
       "      <td>0.002812</td>\n",
       "      <td>0.444982</td>\n",
       "      <td>0.240289</td>\n",
       "      <td>1.885277</td>\n",
       "      <td>0.380411</td>\n",
       "      <td>0.917273</td>\n",
       "      <td>996</td>\n",
       "      <td>10</td>\n",
       "      <td>lakeproblem</td>\n",
       "      <td>0.068991</td>\n",
       "      <td>0.188758</td>\n",
       "      <td>0.9900</td>\n",
       "      <td>1.0000</td>\n",
       "    </tr>\n",
       "    <tr>\n",
       "      <th>3997</th>\n",
       "      <td>0.139530</td>\n",
       "      <td>0.937850</td>\n",
       "      <td>0.029298</td>\n",
       "      <td>2.363505</td>\n",
       "      <td>0.002390</td>\n",
       "      <td>0.444982</td>\n",
       "      <td>0.240289</td>\n",
       "      <td>1.885277</td>\n",
       "      <td>0.380411</td>\n",
       "      <td>0.917273</td>\n",
       "      <td>997</td>\n",
       "      <td>10</td>\n",
       "      <td>lakeproblem</td>\n",
       "      <td>8.043110</td>\n",
       "      <td>0.364789</td>\n",
       "      <td>0.9740</td>\n",
       "      <td>0.0704</td>\n",
       "    </tr>\n",
       "    <tr>\n",
       "      <th>3998</th>\n",
       "      <td>0.390938</td>\n",
       "      <td>0.949116</td>\n",
       "      <td>0.021588</td>\n",
       "      <td>3.507173</td>\n",
       "      <td>0.003259</td>\n",
       "      <td>0.444982</td>\n",
       "      <td>0.240289</td>\n",
       "      <td>1.885277</td>\n",
       "      <td>0.380411</td>\n",
       "      <td>0.917273</td>\n",
       "      <td>998</td>\n",
       "      <td>10</td>\n",
       "      <td>lakeproblem</td>\n",
       "      <td>0.087004</td>\n",
       "      <td>0.139573</td>\n",
       "      <td>0.9900</td>\n",
       "      <td>1.0000</td>\n",
       "    </tr>\n",
       "    <tr>\n",
       "      <th>3999</th>\n",
       "      <td>0.241238</td>\n",
       "      <td>0.935287</td>\n",
       "      <td>0.034673</td>\n",
       "      <td>3.148620</td>\n",
       "      <td>0.002828</td>\n",
       "      <td>0.444982</td>\n",
       "      <td>0.240289</td>\n",
       "      <td>1.885277</td>\n",
       "      <td>0.380411</td>\n",
       "      <td>0.917273</td>\n",
       "      <td>999</td>\n",
       "      <td>10</td>\n",
       "      <td>lakeproblem</td>\n",
       "      <td>0.220866</td>\n",
       "      <td>0.108112</td>\n",
       "      <td>0.9900</td>\n",
       "      <td>1.0000</td>\n",
       "    </tr>\n",
       "  </tbody>\n",
       "</table>\n",
       "<p>4000 rows × 17 columns</p>\n",
       "</div>"
      ],
      "text/plain": [
       "             b     delta      mean         q     stdev        c1        c2  \\\n",
       "0     0.101361  0.937286  0.022728  2.717159  0.003041  0.290805  0.730018   \n",
       "1     0.279064  0.962683  0.022283  2.744880  0.004591  0.290805  0.730018   \n",
       "2     0.331062  0.979237  0.027062  2.388072  0.001947  0.290805  0.730018   \n",
       "3     0.256482  0.962317  0.019257  2.357939  0.004263  0.290805  0.730018   \n",
       "4     0.441120  0.940477  0.047156  3.007649  0.004136  0.290805  0.730018   \n",
       "...        ...       ...       ...       ...       ...       ...       ...   \n",
       "3995  0.309564  0.944472  0.012687  3.224986  0.001619  0.444982  0.240289   \n",
       "3996  0.447641  0.959119  0.011409  2.052284  0.002812  0.444982  0.240289   \n",
       "3997  0.139530  0.937850  0.029298  2.363505  0.002390  0.444982  0.240289   \n",
       "3998  0.390938  0.949116  0.021588  3.507173  0.003259  0.444982  0.240289   \n",
       "3999  0.241238  0.935287  0.034673  3.148620  0.002828  0.444982  0.240289   \n",
       "\n",
       "            r1        r2        w1 scenario policy        model      max_P  \\\n",
       "0     0.294348  1.485816  0.467365        0      0  lakeproblem  11.062068   \n",
       "1     0.294348  1.485816  0.467365        1      0  lakeproblem   0.231863   \n",
       "2     0.294348  1.485816  0.467365        2      0  lakeproblem   0.244979   \n",
       "3     0.294348  1.485816  0.467365        3      0  lakeproblem   4.240033   \n",
       "4     0.294348  1.485816  0.467365        4      0  lakeproblem   0.218743   \n",
       "...        ...       ...       ...      ...    ...          ...        ...   \n",
       "3995  1.885277  0.380411  0.917273      995     10  lakeproblem   0.082812   \n",
       "3996  1.885277  0.380411  0.917273      996     10  lakeproblem   0.068991   \n",
       "3997  1.885277  0.380411  0.917273      997     10  lakeproblem   8.043110   \n",
       "3998  1.885277  0.380411  0.917273      998     10  lakeproblem   0.087004   \n",
       "3999  1.885277  0.380411  0.917273      999     10  lakeproblem   0.220866   \n",
       "\n",
       "       utility  inertia  reliability  \n",
       "0     0.523102   0.9709       0.0304  \n",
       "1     0.347629   0.9900       1.0000  \n",
       "2     0.447188   0.9900       1.0000  \n",
       "3     0.702517   0.9727       0.1592  \n",
       "4     0.300508   0.9900       1.0000  \n",
       "...        ...      ...          ...  \n",
       "3995  0.136959   0.9900       1.0000  \n",
       "3996  0.188758   0.9900       1.0000  \n",
       "3997  0.364789   0.9740       0.0704  \n",
       "3998  0.139573   0.9900       1.0000  \n",
       "3999  0.108112   0.9900       1.0000  \n",
       "\n",
       "[4000 rows x 17 columns]"
      ]
     },
     "execution_count": 13,
     "metadata": {},
     "output_type": "execute_result"
    }
   ],
   "source": [
    "import pandas as pd\n",
    "outcomes = pd.DataFrame.from_dict(outcomes)\n",
    "# exp = experiments[['b','delta','mean','q','stdev']]\n",
    "\n",
    "#Merging the experiments and outcomes for easier operations\n",
    "result_robustness = pd.concat([experiments, outcomes], axis=1)\n",
    "result_robustness"
   ]
  },
  {
   "cell_type": "code",
   "execution_count": 51,
   "metadata": {},
   "outputs": [
    {
     "data": {
      "text/plain": [
       "b              float64\n",
       "delta          float64\n",
       "mean           float64\n",
       "q              float64\n",
       "stdev          float64\n",
       "c1             float64\n",
       "c2             float64\n",
       "r1             float64\n",
       "r2             float64\n",
       "w1             float64\n",
       "scenario        object\n",
       "policy           int64\n",
       "model           object\n",
       "max_P          float64\n",
       "utility        float64\n",
       "inertia        float64\n",
       "reliability    float64\n",
       "dtype: object"
      ]
     },
     "execution_count": 51,
     "metadata": {},
     "output_type": "execute_result"
    }
   ],
   "source": [
    "result_robustness[\"policy\"] = pd.to_numeric(result_robustness[\"policy\"])\n",
    "result_robustness.dtypes"
   ]
  },
  {
   "cell_type": "code",
   "execution_count": 52,
   "metadata": {},
   "outputs": [],
   "source": [
    "import numpy as np\n",
    "\n",
    "#function for calculating signal-to-noise ratio\n",
    "def signal_to_noise(data):\n",
    "    mean = np.mean(data)\n",
    "    std = np.std(data)\n",
    "    sn = mean / std\n",
    "    return sn"
   ]
  },
  {
   "cell_type": "code",
   "execution_count": 71,
   "metadata": {},
   "outputs": [],
   "source": [
    "#For some reason the policy numbers are not in order and are random numbers. Hence using this as a basis for next step.\n",
    "unique_policy_numbers = result_robustness.policy.unique()"
   ]
  },
  {
   "cell_type": "code",
   "execution_count": 82,
   "metadata": {},
   "outputs": [
    {
     "data": {
      "text/html": [
       "<div>\n",
       "<style scoped>\n",
       "    .dataframe tbody tr th:only-of-type {\n",
       "        vertical-align: middle;\n",
       "    }\n",
       "\n",
       "    .dataframe tbody tr th {\n",
       "        vertical-align: top;\n",
       "    }\n",
       "\n",
       "    .dataframe thead th {\n",
       "        text-align: right;\n",
       "    }\n",
       "</style>\n",
       "<table border=\"1\" class=\"dataframe\">\n",
       "  <thead>\n",
       "    <tr style=\"text-align: right;\">\n",
       "      <th></th>\n",
       "      <th>policy</th>\n",
       "      <th>max_p_sn</th>\n",
       "      <th>utility_sn</th>\n",
       "      <th>inertia_sn</th>\n",
       "      <th>reliability_sn</th>\n",
       "    </tr>\n",
       "  </thead>\n",
       "  <tbody>\n",
       "    <tr>\n",
       "      <th>0</th>\n",
       "      <td>0</td>\n",
       "      <td>0.782356</td>\n",
       "      <td>1.49332</td>\n",
       "      <td>121.615</td>\n",
       "      <td>1.54036</td>\n",
       "    </tr>\n",
       "    <tr>\n",
       "      <th>1</th>\n",
       "      <td>6</td>\n",
       "      <td>0.717788</td>\n",
       "      <td>1.17365</td>\n",
       "      <td>120.618</td>\n",
       "      <td>1.81289</td>\n",
       "    </tr>\n",
       "    <tr>\n",
       "      <th>2</th>\n",
       "      <td>9</td>\n",
       "      <td>0.734908</td>\n",
       "      <td>1.39101</td>\n",
       "      <td>126.052</td>\n",
       "      <td>1.72571</td>\n",
       "    </tr>\n",
       "    <tr>\n",
       "      <th>3</th>\n",
       "      <td>10</td>\n",
       "      <td>0.709734</td>\n",
       "      <td>0.945634</td>\n",
       "      <td>117.567</td>\n",
       "      <td>1.92099</td>\n",
       "    </tr>\n",
       "  </tbody>\n",
       "</table>\n",
       "</div>"
      ],
      "text/plain": [
       "  policy  max_p_sn utility_sn inertia_sn reliability_sn\n",
       "0      0  0.782356    1.49332    121.615        1.54036\n",
       "1      6  0.717788    1.17365    120.618        1.81289\n",
       "2      9  0.734908    1.39101    126.052        1.72571\n",
       "3     10  0.709734   0.945634    117.567        1.92099"
      ]
     },
     "execution_count": 82,
     "metadata": {},
     "output_type": "execute_result"
    }
   ],
   "source": [
    "#creating empty data frame for sn ratios\n",
    "output_sn = pd.DataFrame(index = range(4), columns = ['policy', 'max_p_sn','utility_sn','inertia_sn','reliability_sn'] )\n",
    "\n",
    "#Iterating over the data frame to find signal-to-noise ratio for each policy and each outcome indicator\n",
    "for i in range(4):\n",
    "    policy_number = unique_policy_numbers[i]\n",
    "    output_sn.loc[i,'policy'] = policy_number\n",
    "    output_sn.loc[i,'max_p_sn'] = signal_to_noise(result_robustness['max_P'].where(result_robustness.policy==policy_number).dropna())\n",
    "    output_sn.loc[i,'utility_sn'] = signal_to_noise(result_robustness['utility'].where(result_robustness.policy==policy_number).dropna())\n",
    "    output_sn.loc[i,'inertia_sn'] = signal_to_noise(result_robustness['inertia'].where(result_robustness.policy==policy_number).dropna())\n",
    "    output_sn.loc[i,'reliability_sn'] = signal_to_noise(result_robustness['reliability'].where(result_robustness.policy==policy_number).dropna())\n",
    "\n",
    "output_sn"
   ]
  },
  {
   "cell_type": "code",
   "execution_count": 136,
   "metadata": {},
   "outputs": [
    {
     "data": {
      "text/html": [
       "<div>\n",
       "<style scoped>\n",
       "    .dataframe tbody tr th:only-of-type {\n",
       "        vertical-align: middle;\n",
       "    }\n",
       "\n",
       "    .dataframe tbody tr th {\n",
       "        vertical-align: top;\n",
       "    }\n",
       "\n",
       "    .dataframe thead th {\n",
       "        text-align: right;\n",
       "    }\n",
       "</style>\n",
       "<table border=\"1\" class=\"dataframe\">\n",
       "  <thead>\n",
       "    <tr style=\"text-align: right;\">\n",
       "      <th></th>\n",
       "      <th>max_p_sn</th>\n",
       "      <th>utility_sn</th>\n",
       "      <th>inertia_sn</th>\n",
       "      <th>reliability_sn</th>\n",
       "    </tr>\n",
       "  </thead>\n",
       "  <tbody>\n",
       "    <tr>\n",
       "      <th>0</th>\n",
       "      <td>{0.7823561176113423, 0.717787636409323, 0.7349...</td>\n",
       "      <td>{0.945633638720982, 1.4933221978401658, 1.3910...</td>\n",
       "      <td>{120.6179236796697, 121.61475043685329, 117.56...</td>\n",
       "      <td>{1.5403646681267928, 1.725712167930247, 1.8128...</td>\n",
       "    </tr>\n",
       "    <tr>\n",
       "      <th>1</th>\n",
       "      <td>{0.7823561176113423, 0.717787636409323, 0.7349...</td>\n",
       "      <td>{0.945633638720982, 1.4933221978401658, 1.3910...</td>\n",
       "      <td>{120.6179236796697, 121.61475043685329, 117.56...</td>\n",
       "      <td>{1.5403646681267928, 1.725712167930247, 1.8128...</td>\n",
       "    </tr>\n",
       "  </tbody>\n",
       "</table>\n",
       "</div>"
      ],
      "text/plain": [
       "                                            max_p_sn  \\\n",
       "0  {0.7823561176113423, 0.717787636409323, 0.7349...   \n",
       "1  {0.7823561176113423, 0.717787636409323, 0.7349...   \n",
       "\n",
       "                                          utility_sn  \\\n",
       "0  {0.945633638720982, 1.4933221978401658, 1.3910...   \n",
       "1  {0.945633638720982, 1.4933221978401658, 1.3910...   \n",
       "\n",
       "                                          inertia_sn  \\\n",
       "0  {120.6179236796697, 121.61475043685329, 117.56...   \n",
       "1  {120.6179236796697, 121.61475043685329, 117.56...   \n",
       "\n",
       "                                      reliability_sn  \n",
       "0  {1.5403646681267928, 1.725712167930247, 1.8128...  \n",
       "1  {1.5403646681267928, 1.725712167930247, 1.8128...  "
      ]
     },
     "execution_count": 136,
     "metadata": {},
     "output_type": "execute_result"
    }
   ],
   "source": [
    "outcomes\n",
    "limits = parcoords.get_limits(outcomes)\n",
    "limits"
   ]
  },
  {
   "cell_type": "code",
   "execution_count": 134,
   "metadata": {},
   "outputs": [
    {
     "ename": "AttributeError",
     "evalue": "'DataFrame' object has no attribute 'ix'",
     "output_type": "error",
     "traceback": [
      "\u001b[1;31m---------------------------------------------------------------------------\u001b[0m",
      "\u001b[1;31mAttributeError\u001b[0m                            Traceback (most recent call last)",
      "\u001b[1;32m<ipython-input-134-940162793940>\u001b[0m in \u001b[0;36m<module>\u001b[1;34m\u001b[0m\n\u001b[0;32m      5\u001b[0m \u001b[1;33m\u001b[0m\u001b[0m\n\u001b[0;32m      6\u001b[0m \u001b[0mlimits\u001b[0m \u001b[1;33m=\u001b[0m \u001b[0mparcoords\u001b[0m\u001b[1;33m.\u001b[0m\u001b[0mget_limits\u001b[0m\u001b[1;33m(\u001b[0m\u001b[0moutcomes\u001b[0m\u001b[1;33m)\u001b[0m\u001b[1;33m\u001b[0m\u001b[1;33m\u001b[0m\u001b[0m\n\u001b[1;32m----> 7\u001b[1;33m \u001b[0maxes\u001b[0m \u001b[1;33m=\u001b[0m \u001b[0mparcoords\u001b[0m\u001b[1;33m.\u001b[0m\u001b[0mParallelAxes\u001b[0m\u001b[1;33m(\u001b[0m\u001b[0mlimits\u001b[0m\u001b[1;33m)\u001b[0m\u001b[1;33m\u001b[0m\u001b[1;33m\u001b[0m\u001b[0m\n\u001b[0m\u001b[0;32m      8\u001b[0m \u001b[0maxes\u001b[0m\u001b[1;33m.\u001b[0m\u001b[0mplot\u001b[0m\u001b[1;33m(\u001b[0m\u001b[0moutput_sn\u001b[0m\u001b[1;33m)\u001b[0m\u001b[1;33m\u001b[0m\u001b[1;33m\u001b[0m\u001b[0m\n\u001b[0;32m      9\u001b[0m \u001b[1;33m\u001b[0m\u001b[0m\n",
      "\u001b[1;32m~\\Anaconda3\\envs\\gds\\lib\\site-packages\\ema_workbench\\analysis\\parcoords.py\u001b[0m in \u001b[0;36m__init__\u001b[1;34m(self, limits, formatter, fontsize, rot)\u001b[0m\n\u001b[0;32m    181\u001b[0m                 self.recoding[column] = CategoricalDtype(categories=cats,\n\u001b[0;32m    182\u001b[0m                                                          ordered=False)\n\u001b[1;32m--> 183\u001b[1;33m                 \u001b[0mlimits\u001b[0m\u001b[1;33m.\u001b[0m\u001b[0mix\u001b[0m\u001b[1;33m[\u001b[0m\u001b[1;33m:\u001b[0m\u001b[1;33m,\u001b[0m \u001b[0mcolumn\u001b[0m\u001b[1;33m]\u001b[0m \u001b[1;33m=\u001b[0m \u001b[1;33m[\u001b[0m\u001b[1;36m0\u001b[0m\u001b[1;33m,\u001b[0m \u001b[0mlen\u001b[0m\u001b[1;33m(\u001b[0m\u001b[0mcats\u001b[0m\u001b[1;33m)\u001b[0m \u001b[1;33m-\u001b[0m \u001b[1;36m1\u001b[0m\u001b[1;33m]\u001b[0m\u001b[1;33m\u001b[0m\u001b[1;33m\u001b[0m\u001b[0m\n\u001b[0m\u001b[0;32m    184\u001b[0m \u001b[1;33m\u001b[0m\u001b[0m\n\u001b[0;32m    185\u001b[0m         \u001b[0mself\u001b[0m\u001b[1;33m.\u001b[0m\u001b[0mnormalizer\u001b[0m \u001b[1;33m=\u001b[0m \u001b[0mpreprocessing\u001b[0m\u001b[1;33m.\u001b[0m\u001b[0mMinMaxScaler\u001b[0m\u001b[1;33m(\u001b[0m\u001b[1;33m)\u001b[0m\u001b[1;33m\u001b[0m\u001b[1;33m\u001b[0m\u001b[0m\n",
      "\u001b[1;32m~\\Anaconda3\\envs\\gds\\lib\\site-packages\\pandas\\core\\generic.py\u001b[0m in \u001b[0;36m__getattr__\u001b[1;34m(self, name)\u001b[0m\n\u001b[0;32m   5128\u001b[0m             \u001b[1;32mif\u001b[0m \u001b[0mself\u001b[0m\u001b[1;33m.\u001b[0m\u001b[0m_info_axis\u001b[0m\u001b[1;33m.\u001b[0m\u001b[0m_can_hold_identifiers_and_holds_name\u001b[0m\u001b[1;33m(\u001b[0m\u001b[0mname\u001b[0m\u001b[1;33m)\u001b[0m\u001b[1;33m:\u001b[0m\u001b[1;33m\u001b[0m\u001b[1;33m\u001b[0m\u001b[0m\n\u001b[0;32m   5129\u001b[0m                 \u001b[1;32mreturn\u001b[0m \u001b[0mself\u001b[0m\u001b[1;33m[\u001b[0m\u001b[0mname\u001b[0m\u001b[1;33m]\u001b[0m\u001b[1;33m\u001b[0m\u001b[1;33m\u001b[0m\u001b[0m\n\u001b[1;32m-> 5130\u001b[1;33m             \u001b[1;32mreturn\u001b[0m \u001b[0mobject\u001b[0m\u001b[1;33m.\u001b[0m\u001b[0m__getattribute__\u001b[0m\u001b[1;33m(\u001b[0m\u001b[0mself\u001b[0m\u001b[1;33m,\u001b[0m \u001b[0mname\u001b[0m\u001b[1;33m)\u001b[0m\u001b[1;33m\u001b[0m\u001b[1;33m\u001b[0m\u001b[0m\n\u001b[0m\u001b[0;32m   5131\u001b[0m \u001b[1;33m\u001b[0m\u001b[0m\n\u001b[0;32m   5132\u001b[0m     \u001b[1;32mdef\u001b[0m \u001b[0m__setattr__\u001b[0m\u001b[1;33m(\u001b[0m\u001b[0mself\u001b[0m\u001b[1;33m,\u001b[0m \u001b[0mname\u001b[0m\u001b[1;33m:\u001b[0m \u001b[0mstr\u001b[0m\u001b[1;33m,\u001b[0m \u001b[0mvalue\u001b[0m\u001b[1;33m)\u001b[0m \u001b[1;33m->\u001b[0m \u001b[1;32mNone\u001b[0m\u001b[1;33m:\u001b[0m\u001b[1;33m\u001b[0m\u001b[1;33m\u001b[0m\u001b[0m\n",
      "\u001b[1;31mAttributeError\u001b[0m: 'DataFrame' object has no attribute 'ix'"
     ]
    }
   ],
   "source": [
    "from ema_workbench.analysis import parcoords\n",
    "import matplotlib.pyplot as plt\n",
    "\n",
    "outcomes = output_sn.loc[:, ['max_p_sn', 'utility_sn', 'inertia_sn', 'reliability_sn']]\n",
    "\n",
    "limits = parcoords.get_limits(outcomes)\n",
    "axes = parcoords.ParallelAxes(limits)\n",
    "axes.plot(output_sn)\n",
    "\n",
    "# we invert this axis so direction of desirability is the same \n",
    "axes.invert_axis('policy') \n",
    "plt.show()\n",
    "\n",
    "# outcomes"
   ]
  },
  {
   "cell_type": "code",
   "execution_count": 127,
   "metadata": {},
   "outputs": [
    {
     "data": {
      "application/vnd.plotly.v1+json": {
       "config": {
        "plotlyServerURL": "https://plot.ly"
       },
       "data": [
        {
         "domain": {
          "x": [
           0,
           1
          ],
          "y": [
           0,
           1
          ]
         },
         "line": {
          "color": [
           0,
           6,
           9,
           10
          ],
          "coloraxis": "coloraxis"
         },
         "name": "",
         "type": "parcoords"
        }
       ],
       "layout": {
        "coloraxis": {
         "cmid": 4,
         "colorbar": {
          "title": {
           "text": "policy"
          }
         },
         "colorscale": [
          [
           0,
           "rgb(0, 147, 146)"
          ],
          [
           0.16666666666666666,
           "rgb(114, 170, 161)"
          ],
          [
           0.3333333333333333,
           "rgb(177, 199, 179)"
          ],
          [
           0.5,
           "rgb(241, 234, 200)"
          ],
          [
           0.6666666666666666,
           "rgb(229, 185, 173)"
          ],
          [
           0.8333333333333334,
           "rgb(217, 137, 148)"
          ],
          [
           1,
           "rgb(208, 88, 126)"
          ]
         ]
        },
        "legend": {
         "tracegroupgap": 0
        },
        "margin": {
         "t": 60
        },
        "template": {
         "data": {
          "bar": [
           {
            "error_x": {
             "color": "#2a3f5f"
            },
            "error_y": {
             "color": "#2a3f5f"
            },
            "marker": {
             "line": {
              "color": "#E5ECF6",
              "width": 0.5
             }
            },
            "type": "bar"
           }
          ],
          "barpolar": [
           {
            "marker": {
             "line": {
              "color": "#E5ECF6",
              "width": 0.5
             }
            },
            "type": "barpolar"
           }
          ],
          "carpet": [
           {
            "aaxis": {
             "endlinecolor": "#2a3f5f",
             "gridcolor": "white",
             "linecolor": "white",
             "minorgridcolor": "white",
             "startlinecolor": "#2a3f5f"
            },
            "baxis": {
             "endlinecolor": "#2a3f5f",
             "gridcolor": "white",
             "linecolor": "white",
             "minorgridcolor": "white",
             "startlinecolor": "#2a3f5f"
            },
            "type": "carpet"
           }
          ],
          "choropleth": [
           {
            "colorbar": {
             "outlinewidth": 0,
             "ticks": ""
            },
            "type": "choropleth"
           }
          ],
          "contour": [
           {
            "colorbar": {
             "outlinewidth": 0,
             "ticks": ""
            },
            "colorscale": [
             [
              0,
              "#0d0887"
             ],
             [
              0.1111111111111111,
              "#46039f"
             ],
             [
              0.2222222222222222,
              "#7201a8"
             ],
             [
              0.3333333333333333,
              "#9c179e"
             ],
             [
              0.4444444444444444,
              "#bd3786"
             ],
             [
              0.5555555555555556,
              "#d8576b"
             ],
             [
              0.6666666666666666,
              "#ed7953"
             ],
             [
              0.7777777777777778,
              "#fb9f3a"
             ],
             [
              0.8888888888888888,
              "#fdca26"
             ],
             [
              1,
              "#f0f921"
             ]
            ],
            "type": "contour"
           }
          ],
          "contourcarpet": [
           {
            "colorbar": {
             "outlinewidth": 0,
             "ticks": ""
            },
            "type": "contourcarpet"
           }
          ],
          "heatmap": [
           {
            "colorbar": {
             "outlinewidth": 0,
             "ticks": ""
            },
            "colorscale": [
             [
              0,
              "#0d0887"
             ],
             [
              0.1111111111111111,
              "#46039f"
             ],
             [
              0.2222222222222222,
              "#7201a8"
             ],
             [
              0.3333333333333333,
              "#9c179e"
             ],
             [
              0.4444444444444444,
              "#bd3786"
             ],
             [
              0.5555555555555556,
              "#d8576b"
             ],
             [
              0.6666666666666666,
              "#ed7953"
             ],
             [
              0.7777777777777778,
              "#fb9f3a"
             ],
             [
              0.8888888888888888,
              "#fdca26"
             ],
             [
              1,
              "#f0f921"
             ]
            ],
            "type": "heatmap"
           }
          ],
          "heatmapgl": [
           {
            "colorbar": {
             "outlinewidth": 0,
             "ticks": ""
            },
            "colorscale": [
             [
              0,
              "#0d0887"
             ],
             [
              0.1111111111111111,
              "#46039f"
             ],
             [
              0.2222222222222222,
              "#7201a8"
             ],
             [
              0.3333333333333333,
              "#9c179e"
             ],
             [
              0.4444444444444444,
              "#bd3786"
             ],
             [
              0.5555555555555556,
              "#d8576b"
             ],
             [
              0.6666666666666666,
              "#ed7953"
             ],
             [
              0.7777777777777778,
              "#fb9f3a"
             ],
             [
              0.8888888888888888,
              "#fdca26"
             ],
             [
              1,
              "#f0f921"
             ]
            ],
            "type": "heatmapgl"
           }
          ],
          "histogram": [
           {
            "marker": {
             "colorbar": {
              "outlinewidth": 0,
              "ticks": ""
             }
            },
            "type": "histogram"
           }
          ],
          "histogram2d": [
           {
            "colorbar": {
             "outlinewidth": 0,
             "ticks": ""
            },
            "colorscale": [
             [
              0,
              "#0d0887"
             ],
             [
              0.1111111111111111,
              "#46039f"
             ],
             [
              0.2222222222222222,
              "#7201a8"
             ],
             [
              0.3333333333333333,
              "#9c179e"
             ],
             [
              0.4444444444444444,
              "#bd3786"
             ],
             [
              0.5555555555555556,
              "#d8576b"
             ],
             [
              0.6666666666666666,
              "#ed7953"
             ],
             [
              0.7777777777777778,
              "#fb9f3a"
             ],
             [
              0.8888888888888888,
              "#fdca26"
             ],
             [
              1,
              "#f0f921"
             ]
            ],
            "type": "histogram2d"
           }
          ],
          "histogram2dcontour": [
           {
            "colorbar": {
             "outlinewidth": 0,
             "ticks": ""
            },
            "colorscale": [
             [
              0,
              "#0d0887"
             ],
             [
              0.1111111111111111,
              "#46039f"
             ],
             [
              0.2222222222222222,
              "#7201a8"
             ],
             [
              0.3333333333333333,
              "#9c179e"
             ],
             [
              0.4444444444444444,
              "#bd3786"
             ],
             [
              0.5555555555555556,
              "#d8576b"
             ],
             [
              0.6666666666666666,
              "#ed7953"
             ],
             [
              0.7777777777777778,
              "#fb9f3a"
             ],
             [
              0.8888888888888888,
              "#fdca26"
             ],
             [
              1,
              "#f0f921"
             ]
            ],
            "type": "histogram2dcontour"
           }
          ],
          "mesh3d": [
           {
            "colorbar": {
             "outlinewidth": 0,
             "ticks": ""
            },
            "type": "mesh3d"
           }
          ],
          "parcoords": [
           {
            "line": {
             "colorbar": {
              "outlinewidth": 0,
              "ticks": ""
             }
            },
            "type": "parcoords"
           }
          ],
          "pie": [
           {
            "automargin": true,
            "type": "pie"
           }
          ],
          "scatter": [
           {
            "marker": {
             "colorbar": {
              "outlinewidth": 0,
              "ticks": ""
             }
            },
            "type": "scatter"
           }
          ],
          "scatter3d": [
           {
            "line": {
             "colorbar": {
              "outlinewidth": 0,
              "ticks": ""
             }
            },
            "marker": {
             "colorbar": {
              "outlinewidth": 0,
              "ticks": ""
             }
            },
            "type": "scatter3d"
           }
          ],
          "scattercarpet": [
           {
            "marker": {
             "colorbar": {
              "outlinewidth": 0,
              "ticks": ""
             }
            },
            "type": "scattercarpet"
           }
          ],
          "scattergeo": [
           {
            "marker": {
             "colorbar": {
              "outlinewidth": 0,
              "ticks": ""
             }
            },
            "type": "scattergeo"
           }
          ],
          "scattergl": [
           {
            "marker": {
             "colorbar": {
              "outlinewidth": 0,
              "ticks": ""
             }
            },
            "type": "scattergl"
           }
          ],
          "scattermapbox": [
           {
            "marker": {
             "colorbar": {
              "outlinewidth": 0,
              "ticks": ""
             }
            },
            "type": "scattermapbox"
           }
          ],
          "scatterpolar": [
           {
            "marker": {
             "colorbar": {
              "outlinewidth": 0,
              "ticks": ""
             }
            },
            "type": "scatterpolar"
           }
          ],
          "scatterpolargl": [
           {
            "marker": {
             "colorbar": {
              "outlinewidth": 0,
              "ticks": ""
             }
            },
            "type": "scatterpolargl"
           }
          ],
          "scatterternary": [
           {
            "marker": {
             "colorbar": {
              "outlinewidth": 0,
              "ticks": ""
             }
            },
            "type": "scatterternary"
           }
          ],
          "surface": [
           {
            "colorbar": {
             "outlinewidth": 0,
             "ticks": ""
            },
            "colorscale": [
             [
              0,
              "#0d0887"
             ],
             [
              0.1111111111111111,
              "#46039f"
             ],
             [
              0.2222222222222222,
              "#7201a8"
             ],
             [
              0.3333333333333333,
              "#9c179e"
             ],
             [
              0.4444444444444444,
              "#bd3786"
             ],
             [
              0.5555555555555556,
              "#d8576b"
             ],
             [
              0.6666666666666666,
              "#ed7953"
             ],
             [
              0.7777777777777778,
              "#fb9f3a"
             ],
             [
              0.8888888888888888,
              "#fdca26"
             ],
             [
              1,
              "#f0f921"
             ]
            ],
            "type": "surface"
           }
          ],
          "table": [
           {
            "cells": {
             "fill": {
              "color": "#EBF0F8"
             },
             "line": {
              "color": "white"
             }
            },
            "header": {
             "fill": {
              "color": "#C8D4E3"
             },
             "line": {
              "color": "white"
             }
            },
            "type": "table"
           }
          ]
         },
         "layout": {
          "annotationdefaults": {
           "arrowcolor": "#2a3f5f",
           "arrowhead": 0,
           "arrowwidth": 1
          },
          "autotypenumbers": "strict",
          "coloraxis": {
           "colorbar": {
            "outlinewidth": 0,
            "ticks": ""
           }
          },
          "colorscale": {
           "diverging": [
            [
             0,
             "#8e0152"
            ],
            [
             0.1,
             "#c51b7d"
            ],
            [
             0.2,
             "#de77ae"
            ],
            [
             0.3,
             "#f1b6da"
            ],
            [
             0.4,
             "#fde0ef"
            ],
            [
             0.5,
             "#f7f7f7"
            ],
            [
             0.6,
             "#e6f5d0"
            ],
            [
             0.7,
             "#b8e186"
            ],
            [
             0.8,
             "#7fbc41"
            ],
            [
             0.9,
             "#4d9221"
            ],
            [
             1,
             "#276419"
            ]
           ],
           "sequential": [
            [
             0,
             "#0d0887"
            ],
            [
             0.1111111111111111,
             "#46039f"
            ],
            [
             0.2222222222222222,
             "#7201a8"
            ],
            [
             0.3333333333333333,
             "#9c179e"
            ],
            [
             0.4444444444444444,
             "#bd3786"
            ],
            [
             0.5555555555555556,
             "#d8576b"
            ],
            [
             0.6666666666666666,
             "#ed7953"
            ],
            [
             0.7777777777777778,
             "#fb9f3a"
            ],
            [
             0.8888888888888888,
             "#fdca26"
            ],
            [
             1,
             "#f0f921"
            ]
           ],
           "sequentialminus": [
            [
             0,
             "#0d0887"
            ],
            [
             0.1111111111111111,
             "#46039f"
            ],
            [
             0.2222222222222222,
             "#7201a8"
            ],
            [
             0.3333333333333333,
             "#9c179e"
            ],
            [
             0.4444444444444444,
             "#bd3786"
            ],
            [
             0.5555555555555556,
             "#d8576b"
            ],
            [
             0.6666666666666666,
             "#ed7953"
            ],
            [
             0.7777777777777778,
             "#fb9f3a"
            ],
            [
             0.8888888888888888,
             "#fdca26"
            ],
            [
             1,
             "#f0f921"
            ]
           ]
          },
          "colorway": [
           "#636efa",
           "#EF553B",
           "#00cc96",
           "#ab63fa",
           "#FFA15A",
           "#19d3f3",
           "#FF6692",
           "#B6E880",
           "#FF97FF",
           "#FECB52"
          ],
          "font": {
           "color": "#2a3f5f"
          },
          "geo": {
           "bgcolor": "white",
           "lakecolor": "white",
           "landcolor": "#E5ECF6",
           "showlakes": true,
           "showland": true,
           "subunitcolor": "white"
          },
          "hoverlabel": {
           "align": "left"
          },
          "hovermode": "closest",
          "mapbox": {
           "style": "light"
          },
          "paper_bgcolor": "white",
          "plot_bgcolor": "#E5ECF6",
          "polar": {
           "angularaxis": {
            "gridcolor": "white",
            "linecolor": "white",
            "ticks": ""
           },
           "bgcolor": "#E5ECF6",
           "radialaxis": {
            "gridcolor": "white",
            "linecolor": "white",
            "ticks": ""
           }
          },
          "scene": {
           "xaxis": {
            "backgroundcolor": "#E5ECF6",
            "gridcolor": "white",
            "gridwidth": 2,
            "linecolor": "white",
            "showbackground": true,
            "ticks": "",
            "zerolinecolor": "white"
           },
           "yaxis": {
            "backgroundcolor": "#E5ECF6",
            "gridcolor": "white",
            "gridwidth": 2,
            "linecolor": "white",
            "showbackground": true,
            "ticks": "",
            "zerolinecolor": "white"
           },
           "zaxis": {
            "backgroundcolor": "#E5ECF6",
            "gridcolor": "white",
            "gridwidth": 2,
            "linecolor": "white",
            "showbackground": true,
            "ticks": "",
            "zerolinecolor": "white"
           }
          },
          "shapedefaults": {
           "line": {
            "color": "#2a3f5f"
           }
          },
          "ternary": {
           "aaxis": {
            "gridcolor": "white",
            "linecolor": "white",
            "ticks": ""
           },
           "baxis": {
            "gridcolor": "white",
            "linecolor": "white",
            "ticks": ""
           },
           "bgcolor": "#E5ECF6",
           "caxis": {
            "gridcolor": "white",
            "linecolor": "white",
            "ticks": ""
           }
          },
          "title": {
           "x": 0.05
          },
          "xaxis": {
           "automargin": true,
           "gridcolor": "white",
           "linecolor": "white",
           "ticks": "",
           "title": {
            "standoff": 15
           },
           "zerolinecolor": "white",
           "zerolinewidth": 2
          },
          "yaxis": {
           "automargin": true,
           "gridcolor": "white",
           "linecolor": "white",
           "ticks": "",
           "title": {
            "standoff": 15
           },
           "zerolinecolor": "white",
           "zerolinewidth": 2
          }
         }
        }
       }
      },
      "text/html": [
       "<div>                            <div id=\"18f81e84-b0fe-44d9-b04a-c00c8ce2d75f\" class=\"plotly-graph-div\" style=\"height:525px; width:100%;\"></div>            <script type=\"text/javascript\">                require([\"plotly\"], function(Plotly) {                    window.PLOTLYENV=window.PLOTLYENV || {};                                    if (document.getElementById(\"18f81e84-b0fe-44d9-b04a-c00c8ce2d75f\")) {                    Plotly.newPlot(                        \"18f81e84-b0fe-44d9-b04a-c00c8ce2d75f\",                        [{\"domain\": {\"x\": [0.0, 1.0], \"y\": [0.0, 1.0]}, \"line\": {\"color\": [0, 6, 9, 10], \"coloraxis\": \"coloraxis\"}, \"name\": \"\", \"type\": \"parcoords\"}],                        {\"coloraxis\": {\"cmid\": 4, \"colorbar\": {\"title\": {\"text\": \"policy\"}}, \"colorscale\": [[0.0, \"rgb(0, 147, 146)\"], [0.16666666666666666, \"rgb(114, 170, 161)\"], [0.3333333333333333, \"rgb(177, 199, 179)\"], [0.5, \"rgb(241, 234, 200)\"], [0.6666666666666666, \"rgb(229, 185, 173)\"], [0.8333333333333334, \"rgb(217, 137, 148)\"], [1.0, \"rgb(208, 88, 126)\"]]}, \"legend\": {\"tracegroupgap\": 0}, \"margin\": {\"t\": 60}, \"template\": {\"data\": {\"bar\": [{\"error_x\": {\"color\": \"#2a3f5f\"}, \"error_y\": {\"color\": \"#2a3f5f\"}, \"marker\": {\"line\": {\"color\": \"#E5ECF6\", \"width\": 0.5}}, \"type\": \"bar\"}], \"barpolar\": [{\"marker\": {\"line\": {\"color\": \"#E5ECF6\", \"width\": 0.5}}, \"type\": \"barpolar\"}], \"carpet\": [{\"aaxis\": {\"endlinecolor\": \"#2a3f5f\", \"gridcolor\": \"white\", \"linecolor\": \"white\", \"minorgridcolor\": \"white\", \"startlinecolor\": \"#2a3f5f\"}, \"baxis\": {\"endlinecolor\": \"#2a3f5f\", \"gridcolor\": \"white\", \"linecolor\": \"white\", \"minorgridcolor\": \"white\", \"startlinecolor\": \"#2a3f5f\"}, \"type\": \"carpet\"}], \"choropleth\": [{\"colorbar\": {\"outlinewidth\": 0, \"ticks\": \"\"}, \"type\": \"choropleth\"}], \"contour\": [{\"colorbar\": {\"outlinewidth\": 0, \"ticks\": \"\"}, \"colorscale\": [[0.0, \"#0d0887\"], [0.1111111111111111, \"#46039f\"], [0.2222222222222222, \"#7201a8\"], [0.3333333333333333, \"#9c179e\"], [0.4444444444444444, \"#bd3786\"], [0.5555555555555556, \"#d8576b\"], [0.6666666666666666, \"#ed7953\"], [0.7777777777777778, \"#fb9f3a\"], [0.8888888888888888, \"#fdca26\"], [1.0, \"#f0f921\"]], \"type\": \"contour\"}], \"contourcarpet\": [{\"colorbar\": {\"outlinewidth\": 0, \"ticks\": \"\"}, \"type\": \"contourcarpet\"}], \"heatmap\": [{\"colorbar\": {\"outlinewidth\": 0, \"ticks\": \"\"}, \"colorscale\": [[0.0, \"#0d0887\"], [0.1111111111111111, \"#46039f\"], [0.2222222222222222, \"#7201a8\"], [0.3333333333333333, \"#9c179e\"], [0.4444444444444444, \"#bd3786\"], [0.5555555555555556, \"#d8576b\"], [0.6666666666666666, \"#ed7953\"], [0.7777777777777778, \"#fb9f3a\"], [0.8888888888888888, \"#fdca26\"], [1.0, \"#f0f921\"]], \"type\": \"heatmap\"}], \"heatmapgl\": [{\"colorbar\": {\"outlinewidth\": 0, \"ticks\": \"\"}, \"colorscale\": [[0.0, \"#0d0887\"], [0.1111111111111111, \"#46039f\"], [0.2222222222222222, \"#7201a8\"], [0.3333333333333333, \"#9c179e\"], [0.4444444444444444, \"#bd3786\"], [0.5555555555555556, \"#d8576b\"], [0.6666666666666666, \"#ed7953\"], [0.7777777777777778, \"#fb9f3a\"], [0.8888888888888888, \"#fdca26\"], [1.0, \"#f0f921\"]], \"type\": \"heatmapgl\"}], \"histogram\": [{\"marker\": {\"colorbar\": {\"outlinewidth\": 0, \"ticks\": \"\"}}, \"type\": \"histogram\"}], \"histogram2d\": [{\"colorbar\": {\"outlinewidth\": 0, \"ticks\": \"\"}, \"colorscale\": [[0.0, \"#0d0887\"], [0.1111111111111111, \"#46039f\"], [0.2222222222222222, \"#7201a8\"], [0.3333333333333333, \"#9c179e\"], [0.4444444444444444, \"#bd3786\"], [0.5555555555555556, \"#d8576b\"], [0.6666666666666666, \"#ed7953\"], [0.7777777777777778, \"#fb9f3a\"], [0.8888888888888888, \"#fdca26\"], [1.0, \"#f0f921\"]], \"type\": \"histogram2d\"}], \"histogram2dcontour\": [{\"colorbar\": {\"outlinewidth\": 0, \"ticks\": \"\"}, \"colorscale\": [[0.0, \"#0d0887\"], [0.1111111111111111, \"#46039f\"], [0.2222222222222222, \"#7201a8\"], [0.3333333333333333, \"#9c179e\"], [0.4444444444444444, \"#bd3786\"], [0.5555555555555556, \"#d8576b\"], [0.6666666666666666, \"#ed7953\"], [0.7777777777777778, \"#fb9f3a\"], [0.8888888888888888, \"#fdca26\"], [1.0, \"#f0f921\"]], \"type\": \"histogram2dcontour\"}], \"mesh3d\": [{\"colorbar\": {\"outlinewidth\": 0, \"ticks\": \"\"}, \"type\": \"mesh3d\"}], \"parcoords\": [{\"line\": {\"colorbar\": {\"outlinewidth\": 0, \"ticks\": \"\"}}, \"type\": \"parcoords\"}], \"pie\": [{\"automargin\": true, \"type\": \"pie\"}], \"scatter\": [{\"marker\": {\"colorbar\": {\"outlinewidth\": 0, \"ticks\": \"\"}}, \"type\": \"scatter\"}], \"scatter3d\": [{\"line\": {\"colorbar\": {\"outlinewidth\": 0, \"ticks\": \"\"}}, \"marker\": {\"colorbar\": {\"outlinewidth\": 0, \"ticks\": \"\"}}, \"type\": \"scatter3d\"}], \"scattercarpet\": [{\"marker\": {\"colorbar\": {\"outlinewidth\": 0, \"ticks\": \"\"}}, \"type\": \"scattercarpet\"}], \"scattergeo\": [{\"marker\": {\"colorbar\": {\"outlinewidth\": 0, \"ticks\": \"\"}}, \"type\": \"scattergeo\"}], \"scattergl\": [{\"marker\": {\"colorbar\": {\"outlinewidth\": 0, \"ticks\": \"\"}}, \"type\": \"scattergl\"}], \"scattermapbox\": [{\"marker\": {\"colorbar\": {\"outlinewidth\": 0, \"ticks\": \"\"}}, \"type\": \"scattermapbox\"}], \"scatterpolar\": [{\"marker\": {\"colorbar\": {\"outlinewidth\": 0, \"ticks\": \"\"}}, \"type\": \"scatterpolar\"}], \"scatterpolargl\": [{\"marker\": {\"colorbar\": {\"outlinewidth\": 0, \"ticks\": \"\"}}, \"type\": \"scatterpolargl\"}], \"scatterternary\": [{\"marker\": {\"colorbar\": {\"outlinewidth\": 0, \"ticks\": \"\"}}, \"type\": \"scatterternary\"}], \"surface\": [{\"colorbar\": {\"outlinewidth\": 0, \"ticks\": \"\"}, \"colorscale\": [[0.0, \"#0d0887\"], [0.1111111111111111, \"#46039f\"], [0.2222222222222222, \"#7201a8\"], [0.3333333333333333, \"#9c179e\"], [0.4444444444444444, \"#bd3786\"], [0.5555555555555556, \"#d8576b\"], [0.6666666666666666, \"#ed7953\"], [0.7777777777777778, \"#fb9f3a\"], [0.8888888888888888, \"#fdca26\"], [1.0, \"#f0f921\"]], \"type\": \"surface\"}], \"table\": [{\"cells\": {\"fill\": {\"color\": \"#EBF0F8\"}, \"line\": {\"color\": \"white\"}}, \"header\": {\"fill\": {\"color\": \"#C8D4E3\"}, \"line\": {\"color\": \"white\"}}, \"type\": \"table\"}]}, \"layout\": {\"annotationdefaults\": {\"arrowcolor\": \"#2a3f5f\", \"arrowhead\": 0, \"arrowwidth\": 1}, \"autotypenumbers\": \"strict\", \"coloraxis\": {\"colorbar\": {\"outlinewidth\": 0, \"ticks\": \"\"}}, \"colorscale\": {\"diverging\": [[0, \"#8e0152\"], [0.1, \"#c51b7d\"], [0.2, \"#de77ae\"], [0.3, \"#f1b6da\"], [0.4, \"#fde0ef\"], [0.5, \"#f7f7f7\"], [0.6, \"#e6f5d0\"], [0.7, \"#b8e186\"], [0.8, \"#7fbc41\"], [0.9, \"#4d9221\"], [1, \"#276419\"]], \"sequential\": [[0.0, \"#0d0887\"], [0.1111111111111111, \"#46039f\"], [0.2222222222222222, \"#7201a8\"], [0.3333333333333333, \"#9c179e\"], [0.4444444444444444, \"#bd3786\"], [0.5555555555555556, \"#d8576b\"], [0.6666666666666666, \"#ed7953\"], [0.7777777777777778, \"#fb9f3a\"], [0.8888888888888888, \"#fdca26\"], [1.0, \"#f0f921\"]], \"sequentialminus\": [[0.0, \"#0d0887\"], [0.1111111111111111, \"#46039f\"], [0.2222222222222222, \"#7201a8\"], [0.3333333333333333, \"#9c179e\"], [0.4444444444444444, \"#bd3786\"], [0.5555555555555556, \"#d8576b\"], [0.6666666666666666, \"#ed7953\"], [0.7777777777777778, \"#fb9f3a\"], [0.8888888888888888, \"#fdca26\"], [1.0, \"#f0f921\"]]}, \"colorway\": [\"#636efa\", \"#EF553B\", \"#00cc96\", \"#ab63fa\", \"#FFA15A\", \"#19d3f3\", \"#FF6692\", \"#B6E880\", \"#FF97FF\", \"#FECB52\"], \"font\": {\"color\": \"#2a3f5f\"}, \"geo\": {\"bgcolor\": \"white\", \"lakecolor\": \"white\", \"landcolor\": \"#E5ECF6\", \"showlakes\": true, \"showland\": true, \"subunitcolor\": \"white\"}, \"hoverlabel\": {\"align\": \"left\"}, \"hovermode\": \"closest\", \"mapbox\": {\"style\": \"light\"}, \"paper_bgcolor\": \"white\", \"plot_bgcolor\": \"#E5ECF6\", \"polar\": {\"angularaxis\": {\"gridcolor\": \"white\", \"linecolor\": \"white\", \"ticks\": \"\"}, \"bgcolor\": \"#E5ECF6\", \"radialaxis\": {\"gridcolor\": \"white\", \"linecolor\": \"white\", \"ticks\": \"\"}}, \"scene\": {\"xaxis\": {\"backgroundcolor\": \"#E5ECF6\", \"gridcolor\": \"white\", \"gridwidth\": 2, \"linecolor\": \"white\", \"showbackground\": true, \"ticks\": \"\", \"zerolinecolor\": \"white\"}, \"yaxis\": {\"backgroundcolor\": \"#E5ECF6\", \"gridcolor\": \"white\", \"gridwidth\": 2, \"linecolor\": \"white\", \"showbackground\": true, \"ticks\": \"\", \"zerolinecolor\": \"white\"}, \"zaxis\": {\"backgroundcolor\": \"#E5ECF6\", \"gridcolor\": \"white\", \"gridwidth\": 2, \"linecolor\": \"white\", \"showbackground\": true, \"ticks\": \"\", \"zerolinecolor\": \"white\"}}, \"shapedefaults\": {\"line\": {\"color\": \"#2a3f5f\"}}, \"ternary\": {\"aaxis\": {\"gridcolor\": \"white\", \"linecolor\": \"white\", \"ticks\": \"\"}, \"baxis\": {\"gridcolor\": \"white\", \"linecolor\": \"white\", \"ticks\": \"\"}, \"bgcolor\": \"#E5ECF6\", \"caxis\": {\"gridcolor\": \"white\", \"linecolor\": \"white\", \"ticks\": \"\"}}, \"title\": {\"x\": 0.05}, \"xaxis\": {\"automargin\": true, \"gridcolor\": \"white\", \"linecolor\": \"white\", \"ticks\": \"\", \"title\": {\"standoff\": 15}, \"zerolinecolor\": \"white\", \"zerolinewidth\": 2}, \"yaxis\": {\"automargin\": true, \"gridcolor\": \"white\", \"linecolor\": \"white\", \"ticks\": \"\", \"title\": {\"standoff\": 15}, \"zerolinecolor\": \"white\", \"zerolinewidth\": 2}}}},                        {\"responsive\": true}                    ).then(function(){\n",
       "                            \n",
       "var gd = document.getElementById('18f81e84-b0fe-44d9-b04a-c00c8ce2d75f');\n",
       "var x = new MutationObserver(function (mutations, observer) {{\n",
       "        var display = window.getComputedStyle(gd).display;\n",
       "        if (!display || display === 'none') {{\n",
       "            console.log([gd, 'removed!']);\n",
       "            Plotly.purge(gd);\n",
       "            observer.disconnect();\n",
       "        }}\n",
       "}});\n",
       "\n",
       "// Listen for the removal of the full notebook cells\n",
       "var notebookContainer = gd.closest('#notebook-container');\n",
       "if (notebookContainer) {{\n",
       "    x.observe(notebookContainer, {childList: true});\n",
       "}}\n",
       "\n",
       "// Listen for the clearing of the current output cell\n",
       "var outputEl = gd.closest('.output');\n",
       "if (outputEl) {{\n",
       "    x.observe(outputEl, {childList: true});\n",
       "}}\n",
       "\n",
       "                        })                };                });            </script>        </div>"
      ]
     },
     "metadata": {},
     "output_type": "display_data"
    }
   ],
   "source": [
    "import plotly.express as px\n",
    "\n",
    "df = output_sn\n",
    "fig = px.parallel_coordinates(df, color=\"policy\",\n",
    "                              dimensions=['policy', 'max_p_sn','utility_sn','inertia_sn','reliability_sn'],\n",
    "                              color_continuous_scale=px.colors.diverging.Tealrose,\n",
    "                              color_continuous_midpoint=4)\n",
    "fig.show()"
   ]
  },
  {
   "cell_type": "code",
   "execution_count": 132,
   "metadata": {},
   "outputs": [
    {
     "data": {
      "text/html": [
       "<div>\n",
       "<style scoped>\n",
       "    .dataframe tbody tr th:only-of-type {\n",
       "        vertical-align: middle;\n",
       "    }\n",
       "\n",
       "    .dataframe tbody tr th {\n",
       "        vertical-align: top;\n",
       "    }\n",
       "\n",
       "    .dataframe thead th {\n",
       "        text-align: right;\n",
       "    }\n",
       "</style>\n",
       "<table border=\"1\" class=\"dataframe\">\n",
       "  <thead>\n",
       "    <tr style=\"text-align: right;\">\n",
       "      <th></th>\n",
       "      <th>max_p_sn</th>\n",
       "      <th>utility_sn</th>\n",
       "      <th>inertia_sn</th>\n",
       "      <th>reliability_sn</th>\n",
       "    </tr>\n",
       "  </thead>\n",
       "  <tbody>\n",
       "    <tr>\n",
       "      <th>0</th>\n",
       "      <td>{0.7823561176113423, 0.717787636409323, 0.7349...</td>\n",
       "      <td>{0.945633638720982, 1.4933221978401658, 1.3910...</td>\n",
       "      <td>{120.6179236796697, 121.61475043685329, 117.56...</td>\n",
       "      <td>{1.5403646681267928, 1.725712167930247, 1.8128...</td>\n",
       "    </tr>\n",
       "    <tr>\n",
       "      <th>1</th>\n",
       "      <td>{0.7823561176113423, 0.717787636409323, 0.7349...</td>\n",
       "      <td>{0.945633638720982, 1.4933221978401658, 1.3910...</td>\n",
       "      <td>{120.6179236796697, 121.61475043685329, 117.56...</td>\n",
       "      <td>{1.5403646681267928, 1.725712167930247, 1.8128...</td>\n",
       "    </tr>\n",
       "  </tbody>\n",
       "</table>\n",
       "</div>"
      ],
      "text/plain": [
       "                                            max_p_sn  \\\n",
       "0  {0.7823561176113423, 0.717787636409323, 0.7349...   \n",
       "1  {0.7823561176113423, 0.717787636409323, 0.7349...   \n",
       "\n",
       "                                          utility_sn  \\\n",
       "0  {0.945633638720982, 1.4933221978401658, 1.3910...   \n",
       "1  {0.945633638720982, 1.4933221978401658, 1.3910...   \n",
       "\n",
       "                                          inertia_sn  \\\n",
       "0  {120.6179236796697, 121.61475043685329, 117.56...   \n",
       "1  {120.6179236796697, 121.61475043685329, 117.56...   \n",
       "\n",
       "                                      reliability_sn  \n",
       "0  {1.5403646681267928, 1.725712167930247, 1.8128...  \n",
       "1  {1.5403646681267928, 1.725712167930247, 1.8128...  "
      ]
     },
     "execution_count": 132,
     "metadata": {},
     "output_type": "execute_result"
    }
   ],
   "source": [
    "limits"
   ]
  },
  {
   "cell_type": "code",
   "execution_count": null,
   "metadata": {
    "jupyter": {
     "outputs_hidden": true
    }
   },
   "outputs": [],
   "source": [
    "# from ema_workbench.em_framework.samplers import sample_uncertainties\n",
    "# import numpy as np\n",
    "\n",
    "# # setup and execute the robust optimization\n",
    "# def signal_to_noise(data):\n",
    "#     mean = np.mean(data)\n",
    "#     std = np.std(data)\n",
    "#     sn = mean / std\n",
    "#     return sn\n",
    "\n",
    "# MAXIMIZE = ScalarOutcome.MAXIMIZE  # @UndefinedVariable\n",
    "# MINIMIZE = ScalarOutcome.MINIMIZE  # @UndefinedVariable\n",
    "\n",
    "# robustnes_functions = [\n",
    "#     ScalarOutcome(\n",
    "#         'sn max_P',\n",
    "#         kind=MINIMIZE,\n",
    "#         variable_name='max_P',\n",
    "#         function=signal_to_noise),\n",
    "#     ScalarOutcome(\n",
    "#         'sn utility',\n",
    "#         kind=MAXIMIZE,\n",
    "#         variable_name='utility',\n",
    "#         function=signal_to_noise),\n",
    "#     ScalarOutcome(\n",
    "#         'sn inertia',\n",
    "#         kind=MAXIMIZE,\n",
    "#         variable_name='inertia',\n",
    "#         function=signal_to_noise),\n",
    "#     ScalarOutcome(\n",
    "#         'sn reliability',\n",
    "#         kind=MAXIMIZE,\n",
    "#         variable_name='reliability',\n",
    "#         function=signal_to_noise)]\n",
    "\n",
    "scenarios = sample_uncertainties(lake_model, 1000)\n",
    "nfe = 5000\n",
    "\n",
    "# UNCOMMENT TO RUN THIS, FOR SOME REASON THIS DOESN'T WORK IN MY COMPUTER TAKES TOO LONG\n",
    "\n",
    "with MultiprocessingEvaluator(lake_model) as evaluator:\n",
    "    result_robustness = evaluator.robust_optimize(robustnes_functions, scenarios, nfe=nfe,\n",
    "                              epsilons=[0.05,]*len(robustnes_functions))\n"
   ]
  },
  {
   "cell_type": "code",
   "execution_count": null,
   "metadata": {},
   "outputs": [],
   "source": [
    "# For instance, for an outcome indicator to be maximized, we prefer a high average value across the scenarios, and a low \n",
    "# standard deviation, implying a narrow uncertaintiy range. Therefore, we want to maximize the signal-to-noise ratio.\n",
    "# def signal_to_noise_maximize(data):\n",
    "#     mean = np.mean(data)\n",
    "#     std = np.std(data)\n",
    "#     sn = mean / std\n",
    "#     return sn\n",
    "\n",
    "# # For an outcome indicator to be minimized, a lower mean and a lower standard deviation is preferred.\n",
    "#     mean = np.mean(data)\n",
    "#     std = np.std(data)\n",
    "#     sn = mean / std\n",
    "#     return sn"
   ]
  },
  {
   "cell_type": "code",
   "execution_count": null,
   "metadata": {},
   "outputs": [],
   "source": [
    "# import pandas as pd\n",
    "# outcomes = pd.DataFrame.from_dict(outcomes)\n",
    "# outcomes"
   ]
  },
  {
   "cell_type": "markdown",
   "metadata": {},
   "source": [
    "Another robustness metric is **maximum regret**, calculated again for each policy and for each outcome indicator. *Regret* is defined for each policy under each scenario, as the difference between the performance of the policy in a specific scenario and the berformance of a no-regret (i.e. best possible result in that scenario) policy. The *maximum regret*  is then the maximum of such regret values across all scenarios. We of course favor policy options with low *maximum regret* values. \n",
    "\n",
    "**Write a function to calculate the maximum regret. Calculate the maximum regret values for each outcome and each policy option. Plot the tradeoffs on a parallel plot. Which solutions look like a good compromise policy?**"
   ]
  },
  {
   "cell_type": "code",
   "execution_count": null,
   "metadata": {},
   "outputs": [],
   "source": [
    "# def maximum_regret(data):\n"
   ]
  },
  {
   "cell_type": "markdown",
   "metadata": {},
   "source": [
    "We now have an understanding of which solutions have decent robustness using 2 different robustness metrics. A related but different question is to assess the uncertain conditions under which we get poor performance. For this, we can use scenario discovery. Since we want to identify the uncertainties only, we can remove the policy column from the experiments DataFrame. \n",
    "\n",
    "**Perform Scenario Discovery, focussed on understanding the conditions under which utility is lower than 0.25**\n",
    "\n",
    "from the trade off curve between coverage, density and number of restricted dimensions, select a point which balances them. Next, using the `yi` attribute, select from the experiments data frame the rows which are within the box as well as the outcomes associated with these experiments.Save these results. They are the starting point for the next assignment. In pseudo code:\n",
    "\n",
    "```python\n",
    "from ema_workbench import save_results\n",
    "\n",
    "selected_experiments = experiments.iloc[box.yi]\n",
    "selected_outcomes = {k:v[box.yi] for k,v in outcomes.items()}\n",
    "\n",
    "save_results((selected_experiments, selected_outcomes), './results/selected_results.tar.gz')\n",
    "```\n",
    "\n",
    "\n",
    "\n"
   ]
  },
  {
   "cell_type": "code",
   "execution_count": null,
   "metadata": {},
   "outputs": [],
   "source": [
    "from ema_workbench import save_results\n",
    "import pandas as pd\n",
    "from ema_workbench.analysis import prim\n",
    "\n",
    "experiments, out = results"
   ]
  },
  {
   "cell_type": "code",
   "execution_count": null,
   "metadata": {},
   "outputs": [],
   "source": [
    "outcomes = pd.DataFrame.from_dict(out)\n",
    "exp = experiments[['b','delta','mean','q','stdev']]\n",
    "\n",
    "#Merging the experiments and outcomes for easier operations\n",
    "new_result = pd.concat([exp, outcomes], axis=1)"
   ]
  },
  {
   "cell_type": "code",
   "execution_count": null,
   "metadata": {},
   "outputs": [],
   "source": [
    "#Making an outcomes table where utility < 0.25 \n",
    "li = []\n",
    "\n",
    "li.append(np.where(outcomes['utility']<0.25,1,0))\n",
    "\n",
    "#Transposing list to a column format\n",
    "numpy_array = np.array(li)\n",
    "transpose = numpy_array.T\n",
    "\n",
    "#y in prim only accepts a Series 1-D array - all this to bring it to that format\n",
    "outcome_df = pd.DataFrame(transpose)\n",
    "new_result['outcomes'] = outcome_df"
   ]
  },
  {
   "cell_type": "code",
   "execution_count": null,
   "metadata": {},
   "outputs": [],
   "source": [
    "new_result"
   ]
  },
  {
   "cell_type": "code",
   "execution_count": null,
   "metadata": {},
   "outputs": [],
   "source": [
    "exp = new_result[['b','delta','mean','q','stdev']]\n",
    "outcomes = new_result.iloc[:,9]"
   ]
  },
  {
   "cell_type": "code",
   "execution_count": null,
   "metadata": {},
   "outputs": [],
   "source": [
    "#PRIM algorithm for scenario discovery\n",
    "\n",
    "prim_alg = prim.Prim(exp, outcomes, threshold=0.5, peel_alpha = 0.1)\n",
    "box = prim_alg.find_box()"
   ]
  },
  {
   "cell_type": "code",
   "execution_count": null,
   "metadata": {},
   "outputs": [],
   "source": [
    "box.inspect_tradeoff()"
   ]
  },
  {
   "cell_type": "markdown",
   "metadata": {},
   "source": [
    "I think I'm going to go with Id=23 with a density of 0.46 and coverage of 0.24."
   ]
  },
  {
   "cell_type": "code",
   "execution_count": null,
   "metadata": {},
   "outputs": [],
   "source": [
    "box.inspect(23)\n",
    "box.inspect(23, style='graph')\n",
    "plt.show()"
   ]
  },
  {
   "cell_type": "code",
   "execution_count": null,
   "metadata": {},
   "outputs": [],
   "source": [
    "#Bringing back the outcomes because it got overwritten in the above section (should name better!)\n",
    "outcomes = pd.DataFrame.from_dict(out)\n",
    "\n",
    "selected_experiments = experiments.iloc[box.yi]\n",
    "selected_outcomes = {k:v[box.yi] for k,v in outcomes.items()}"
   ]
  },
  {
   "cell_type": "code",
   "execution_count": null,
   "metadata": {},
   "outputs": [],
   "source": [
    "selected_experiments"
   ]
  },
  {
   "cell_type": "code",
   "execution_count": null,
   "metadata": {},
   "outputs": [],
   "source": [
    "pd.DataFrame.from_dict(selected_outcomes)"
   ]
  },
  {
   "cell_type": "code",
   "execution_count": null,
   "metadata": {},
   "outputs": [],
   "source": [
    "save_results((selected_experiments, selected_outcomes), './selected_results.tar.gz')"
   ]
  },
  {
   "cell_type": "code",
   "execution_count": null,
   "metadata": {},
   "outputs": [],
   "source": []
  }
 ],
 "metadata": {
  "anaconda-cloud": {},
  "kernelspec": {
   "display_name": "Python 3",
   "language": "python",
   "name": "python3"
  },
  "language_info": {
   "codemirror_mode": {
    "name": "ipython",
    "version": 3
   },
   "file_extension": ".py",
   "mimetype": "text/x-python",
   "name": "python",
   "nbconvert_exporter": "python",
   "pygments_lexer": "ipython3",
   "version": "3.7.8"
  },
  "latex_envs": {
   "LaTeX_envs_menu_present": true,
   "autocomplete": true,
   "bibliofile": "biblio.bib",
   "cite_by": "apalike",
   "current_citInitial": 1,
   "eqLabelWithNumbers": true,
   "eqNumInitial": 1,
   "hotkeys": {
    "equation": "Ctrl-E",
    "itemize": "Ctrl-I"
   },
   "labels_anchors": false,
   "latex_user_defs": false,
   "report_style_numbering": false,
   "user_envs_cfg": false
  }
 },
 "nbformat": 4,
 "nbformat_minor": 4
}
