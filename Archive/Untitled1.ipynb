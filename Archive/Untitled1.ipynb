{
 "cells": [
  {
   "cell_type": "code",
   "execution_count": 1,
   "metadata": {},
   "outputs": [],
   "source": [
    "import seaborn as sns\n",
    "import matplotlib.pyplot as plt\n",
    "import numpy as np\n",
    "import pandas as pd\n",
    "import scipy as sp"
   ]
  },
  {
   "cell_type": "code",
   "execution_count": 5,
   "metadata": {},
   "outputs": [],
   "source": [
    "results =  pd.read_csv(\"directed_search_test.csv\") "
   ]
  },
  {
   "cell_type": "markdown",
   "metadata": {},
   "source": [
    "**INPUT**\n",
    "\n",
    "nfe = 2000\n",
    "\n",
    "espilon = [1e3] * len(model.outcomes)\n",
    "\n",
    "with MultiprocessingEvaluator(model) as evaluator:\n",
    "        results, convergence = evaluator.optimize(nfe=nfe, searchover='levers',\n",
    "                                                  epsilons=espilon,\n",
    "                                                  convergence=convergence_metrics,\n",
    "                                                  reference=ref_scenario)\n",
    "                                                  \n",
    "                                                  \n",
    "reference_values = {'Bmax': 175, 'Brate': 1.5, 'pfail': 0.5,\n",
    "                    'discount rate 0': 3.5, 'discount rate 1': 3.5,\n",
    "                    'discount rate 2': 3.5,\n",
    "                    'ID flood wave shape': 4}\n"
   ]
  },
  {
   "cell_type": "code",
   "execution_count": 6,
   "metadata": {},
   "outputs": [
    {
     "data": {
      "text/html": [
       "<div>\n",
       "<style scoped>\n",
       "    .dataframe tbody tr th:only-of-type {\n",
       "        vertical-align: middle;\n",
       "    }\n",
       "\n",
       "    .dataframe tbody tr th {\n",
       "        vertical-align: top;\n",
       "    }\n",
       "\n",
       "    .dataframe thead th {\n",
       "        text-align: right;\n",
       "    }\n",
       "</style>\n",
       "<table border=\"1\" class=\"dataframe\">\n",
       "  <thead>\n",
       "    <tr style=\"text-align: right;\">\n",
       "      <th></th>\n",
       "      <th>Unnamed: 0</th>\n",
       "      <th>0_RfR 0</th>\n",
       "      <th>0_RfR 1</th>\n",
       "      <th>0_RfR 2</th>\n",
       "      <th>1_RfR 0</th>\n",
       "      <th>1_RfR 1</th>\n",
       "      <th>1_RfR 2</th>\n",
       "      <th>2_RfR 0</th>\n",
       "      <th>2_RfR 1</th>\n",
       "      <th>2_RfR 2</th>\n",
       "      <th>...</th>\n",
       "      <th>A.5_DikeIncrease 0</th>\n",
       "      <th>A.5_DikeIncrease 1</th>\n",
       "      <th>A.5_DikeIncrease 2</th>\n",
       "      <th>Total Investment Costs</th>\n",
       "      <th>A.1_Expected Annual Damage</th>\n",
       "      <th>A.1_Expected Number of Deaths</th>\n",
       "      <th>A.2_Expected Annual Damage</th>\n",
       "      <th>A.2_Expected Number of Deaths</th>\n",
       "      <th>A.3_Expected Annual Damage</th>\n",
       "      <th>A.3_Expected Number of Deaths</th>\n",
       "    </tr>\n",
       "  </thead>\n",
       "  <tbody>\n",
       "    <tr>\n",
       "      <th>0</th>\n",
       "      <td>0</td>\n",
       "      <td>0</td>\n",
       "      <td>0</td>\n",
       "      <td>0</td>\n",
       "      <td>0</td>\n",
       "      <td>0</td>\n",
       "      <td>0</td>\n",
       "      <td>0</td>\n",
       "      <td>0</td>\n",
       "      <td>0</td>\n",
       "      <td>...</td>\n",
       "      <td>3</td>\n",
       "      <td>0</td>\n",
       "      <td>7</td>\n",
       "      <td>1.224748e+08</td>\n",
       "      <td>0.018426</td>\n",
       "      <td>0.018426</td>\n",
       "      <td>0.007009</td>\n",
       "      <td>0.007009</td>\n",
       "      <td>0.0</td>\n",
       "      <td>0.0</td>\n",
       "    </tr>\n",
       "  </tbody>\n",
       "</table>\n",
       "<p>1 rows × 39 columns</p>\n",
       "</div>"
      ],
      "text/plain": [
       "   Unnamed: 0  0_RfR 0  0_RfR 1  0_RfR 2  1_RfR 0  1_RfR 1  1_RfR 2  2_RfR 0  \\\n",
       "0           0        0        0        0        0        0        0        0   \n",
       "\n",
       "   2_RfR 1  2_RfR 2  ...  A.5_DikeIncrease 0  A.5_DikeIncrease 1  \\\n",
       "0        0        0  ...                   3                   0   \n",
       "\n",
       "   A.5_DikeIncrease 2  Total Investment Costs  A.1_Expected Annual Damage  \\\n",
       "0                   7            1.224748e+08                    0.018426   \n",
       "\n",
       "   A.1_Expected Number of Deaths  A.2_Expected Annual Damage  \\\n",
       "0                       0.018426                    0.007009   \n",
       "\n",
       "   A.2_Expected Number of Deaths  A.3_Expected Annual Damage  \\\n",
       "0                       0.007009                         0.0   \n",
       "\n",
       "   A.3_Expected Number of Deaths  \n",
       "0                            0.0  \n",
       "\n",
       "[1 rows x 39 columns]"
      ]
     },
     "execution_count": 6,
     "metadata": {},
     "output_type": "execute_result"
    }
   ],
   "source": [
    "results"
   ]
  },
  {
   "cell_type": "code",
   "execution_count": 7,
   "metadata": {},
   "outputs": [
    {
     "ename": "TypeError",
     "evalue": "unsupported format string passed to Series.__format__",
     "output_type": "error",
     "traceback": [
      "\u001b[1;31m---------------------------------------------------------------------------\u001b[0m",
      "\u001b[1;31mTypeError\u001b[0m                                 Traceback (most recent call last)",
      "\u001b[1;32m<ipython-input-7-ce9870264a8f>\u001b[0m in \u001b[0;36m<module>\u001b[1;34m\u001b[0m\n\u001b[0;32m      7\u001b[0m \u001b[1;33m\u001b[0m\u001b[0m\n\u001b[0;32m      8\u001b[0m \u001b[0mlimits\u001b[0m \u001b[1;33m=\u001b[0m \u001b[0mparcoords\u001b[0m\u001b[1;33m.\u001b[0m\u001b[0mget_limits\u001b[0m\u001b[1;33m(\u001b[0m\u001b[0moutcomes\u001b[0m\u001b[1;33m)\u001b[0m\u001b[1;33m\u001b[0m\u001b[1;33m\u001b[0m\u001b[0m\n\u001b[1;32m----> 9\u001b[1;33m \u001b[0maxes\u001b[0m \u001b[1;33m=\u001b[0m \u001b[0mparcoords\u001b[0m\u001b[1;33m.\u001b[0m\u001b[0mParallelAxes\u001b[0m\u001b[1;33m(\u001b[0m\u001b[0mlimits\u001b[0m\u001b[1;33m)\u001b[0m\u001b[1;33m\u001b[0m\u001b[1;33m\u001b[0m\u001b[0m\n\u001b[0m\u001b[0;32m     10\u001b[0m \u001b[0maxes\u001b[0m\u001b[1;33m.\u001b[0m\u001b[0mplot\u001b[0m\u001b[1;33m(\u001b[0m\u001b[0moutcomes\u001b[0m\u001b[1;33m)\u001b[0m\u001b[1;33m\u001b[0m\u001b[1;33m\u001b[0m\u001b[0m\n\u001b[0;32m     11\u001b[0m \u001b[1;33m\u001b[0m\u001b[0m\n",
      "\u001b[1;32mD:\\degen\\anaconda\\lib\\site-packages\\ema_workbench\\analysis\\parcoords.py\u001b[0m in \u001b[0;36m__init__\u001b[1;34m(self, limits, formatter, fontsize, rot)\u001b[0m\n\u001b[0;32m    186\u001b[0m         \u001b[0mself\u001b[0m\u001b[1;33m.\u001b[0m\u001b[0mnormalizer\u001b[0m\u001b[1;33m.\u001b[0m\u001b[0mfit\u001b[0m\u001b[1;33m(\u001b[0m\u001b[0mself\u001b[0m\u001b[1;33m.\u001b[0m\u001b[0mlimits\u001b[0m\u001b[1;33m)\u001b[0m\u001b[1;33m\u001b[0m\u001b[1;33m\u001b[0m\u001b[0m\n\u001b[0;32m    187\u001b[0m \u001b[1;33m\u001b[0m\u001b[0m\n\u001b[1;32m--> 188\u001b[1;33m         fig, axes, ticklabels = setup_parallel_plot(\n\u001b[0m\u001b[0;32m    189\u001b[0m                         \u001b[0mself\u001b[0m\u001b[1;33m.\u001b[0m\u001b[0maxis_labels\u001b[0m\u001b[1;33m,\u001b[0m \u001b[0mlimits\u001b[0m\u001b[1;33m.\u001b[0m\u001b[0mmin\u001b[0m\u001b[1;33m(\u001b[0m\u001b[1;33m)\u001b[0m\u001b[1;33m,\u001b[0m \u001b[0mlimits\u001b[0m\u001b[1;33m.\u001b[0m\u001b[0mmax\u001b[0m\u001b[1;33m(\u001b[0m\u001b[1;33m)\u001b[0m\u001b[1;33m,\u001b[0m\u001b[1;33m\u001b[0m\u001b[1;33m\u001b[0m\u001b[0m\n\u001b[0;32m    190\u001b[0m                         fs=self.fontsize, rot=rot, formatter=formatter)\n",
      "\u001b[1;32mD:\\degen\\anaconda\\lib\\site-packages\\ema_workbench\\analysis\\parcoords.py\u001b[0m in \u001b[0;36msetup_parallel_plot\u001b[1;34m(labels, minima, maxima, formatter, fs, rot)\u001b[0m\n\u001b[0;32m     67\u001b[0m             \u001b[0mprecision\u001b[0m \u001b[1;33m=\u001b[0m \u001b[1;34m\".2f\"\u001b[0m\u001b[1;33m\u001b[0m\u001b[1;33m\u001b[0m\u001b[0m\n\u001b[0;32m     68\u001b[0m \u001b[1;33m\u001b[0m\u001b[0m\n\u001b[1;32m---> 69\u001b[1;33m         \u001b[0mmax_label\u001b[0m \u001b[1;33m=\u001b[0m \u001b[1;34mf\"{maxima[label]:{precision}}\"\u001b[0m\u001b[1;33m\u001b[0m\u001b[1;33m\u001b[0m\u001b[0m\n\u001b[0m\u001b[0;32m     70\u001b[0m         \u001b[0mmin_label\u001b[0m \u001b[1;33m=\u001b[0m \u001b[1;34mf\"{minima[label]:{precision}}\"\u001b[0m\u001b[1;33m\u001b[0m\u001b[1;33m\u001b[0m\u001b[0m\n\u001b[0;32m     71\u001b[0m         max_label = ax.text(i, 1.01, max_label, va=\"bottom\",\n",
      "\u001b[1;31mTypeError\u001b[0m: unsupported format string passed to Series.__format__"
     ]
    },
    {
     "data": {
      "image/png": "[encoded data removed]",
      "text/plain": [
       "<Figure size 432x288 with 2 Axes>"
      ]
     },
     "metadata": {},
     "output_type": "display_data"
    }
   ],
   "source": [
    "from ema_workbench.analysis import parcoords\n",
    "import matplotlib.pyplot as plt\n",
    "\n",
    "outcomes = results.loc[:, ['Total Investment Costs', 'A.1_Expected Annual Damage', 'A.1_Expected Number of Deaths',\n",
    "                           'A.2_Expected Number of Deaths','A.3_Expected Number of Deaths','A.1_Expected Annual Damage',\n",
    "                          'A.2_Expected Annual Damage', 'A.3_Expected Annual Damage']]\n",
    "\n",
    "limits = parcoords.get_limits(outcomes)\n",
    "axes = parcoords.ParallelAxes(limits)\n",
    "axes.plot(outcomes)\n",
    "\n",
    "# we invert this axis so direction of desirability is the same \n",
    "#axes.invert_axis('max_P') \n",
    "#plt.show()"
   ]
  },
  {
   "cell_type": "code",
   "execution_count": 8,
   "metadata": {},
   "outputs": [
    {
     "data": {
      "text/plain": [
       "Unnamed: 0                       0.000000e+00\n",
       "0_RfR 0                          0.000000e+00\n",
       "0_RfR 1                          0.000000e+00\n",
       "0_RfR 2                          0.000000e+00\n",
       "1_RfR 0                          0.000000e+00\n",
       "1_RfR 1                          0.000000e+00\n",
       "1_RfR 2                          0.000000e+00\n",
       "2_RfR 0                          0.000000e+00\n",
       "2_RfR 1                          0.000000e+00\n",
       "2_RfR 2                          0.000000e+00\n",
       "3_RfR 0                          0.000000e+00\n",
       "3_RfR 1                          0.000000e+00\n",
       "3_RfR 2                          0.000000e+00\n",
       "4_RfR 0                          0.000000e+00\n",
       "4_RfR 1                          0.000000e+00\n",
       "4_RfR 2                          0.000000e+00\n",
       "EWS_DaysToThreat                 3.000000e+00\n",
       "A.1_DikeIncrease 0               0.000000e+00\n",
       "A.1_DikeIncrease 1               0.000000e+00\n",
       "A.1_DikeIncrease 2               0.000000e+00\n",
       "A.2_DikeIncrease 0               0.000000e+00\n",
       "A.2_DikeIncrease 1               0.000000e+00\n",
       "A.2_DikeIncrease 2               0.000000e+00\n",
       "A.3_DikeIncrease 0               2.000000e+00\n",
       "A.3_DikeIncrease 1               0.000000e+00\n",
       "A.3_DikeIncrease 2               0.000000e+00\n",
       "A.4_DikeIncrease 0               0.000000e+00\n",
       "A.4_DikeIncrease 1               5.000000e+00\n",
       "A.4_DikeIncrease 2               3.000000e+00\n",
       "A.5_DikeIncrease 0               3.000000e+00\n",
       "A.5_DikeIncrease 1               0.000000e+00\n",
       "A.5_DikeIncrease 2               7.000000e+00\n",
       "Total Investment Costs           1.224748e+08\n",
       "A.1_Expected Annual Damage       1.842624e-02\n",
       "A.1_Expected Number of Deaths    1.842624e-02\n",
       "A.2_Expected Annual Damage       7.008639e-03\n",
       "A.2_Expected Number of Deaths    7.008639e-03\n",
       "A.3_Expected Annual Damage       0.000000e+00\n",
       "A.3_Expected Number of Deaths    0.000000e+00\n",
       "Name: 0, dtype: float64"
      ]
     },
     "execution_count": 8,
     "metadata": {},
     "output_type": "execute_result"
    }
   ],
   "source": [
    "results.iloc[0]"
   ]
  },
  {
   "cell_type": "code",
   "execution_count": null,
   "metadata": {},
   "outputs": [],
   "source": []
  }
 ],
 "metadata": {
  "kernelspec": {
   "display_name": "Python 3",
   "language": "python",
   "name": "python3"
  },
  "language_info": {
   "codemirror_mode": {
    "name": "ipython",
    "version": 3
   },
   "file_extension": ".py",
   "mimetype": "text/x-python",
   "name": "python",
   "nbconvert_exporter": "python",
   "pygments_lexer": "ipython3",
   "version": "3.8.3"
  }
 },
 "nbformat": 4,
 "nbformat_minor": 4
}
