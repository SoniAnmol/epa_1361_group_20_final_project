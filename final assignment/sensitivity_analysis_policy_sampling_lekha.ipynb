{
 "cells": [
  {
   "cell_type": "markdown",
   "metadata": {},
   "source": [
    "# Sensitivity Analysis (Policies Sampling)\n"
   ]
  },
  {
   "cell_type": "code",
   "execution_count": 1,
   "metadata": {},
   "outputs": [],
   "source": [
    "from __future__ import (unicode_literals, print_function, absolute_import, division)\n",
    "from ema_workbench import (Model, SequentialEvaluator, MultiprocessingEvaluator, Policy, Scenario)\n",
    "from ema_workbench.em_framework.evaluators import perform_experiments\n",
    "from ema_workbench.em_framework.samplers import sample_uncertainties\n",
    "from ema_workbench.util import ema_logging\n",
    "ema_logging.log_to_stderr(ema_logging.INFO)\n",
    "import time\n",
    "from prob_form import get_model_for_problem_formulation\n",
    "import seaborn as sns\n",
    "import matplotlib.pyplot as plt\n",
    "import numpy as np\n",
    "import pandas as pd\n",
    "import scipy as sp\n",
    "from ema_workbench.em_framework.evaluators import LHS, SOBOL, MORRIS\n",
    "from ema_workbench.analysis import feature_scoring\n",
    "from ema_workbench.analysis.scenario_discovery_util import RuleInductionType\n",
    "from ema_workbench.em_framework.salib_samplers import get_SALib_problem\n",
    "from SALib.analyze import sobol"
   ]
  },
  {
   "cell_type": "code",
   "execution_count": 2,
   "metadata": {},
   "outputs": [],
   "source": [
    "dike_model, planning_steps = get_model_for_problem_formulation(7)"
   ]
  },
  {
   "cell_type": "code",
   "execution_count": 3,
   "metadata": {},
   "outputs": [
    {
     "name": "stderr",
     "output_type": "stream",
     "text": [
      "[MainProcess/INFO] results loaded succesfully from C:\\Users\\lekha\\Desktop\\ReferenceMDM\\epa1361_open\\final assignment\\sobol_uncertainties_sampling.tar.gz\n"
     ]
    }
   ],
   "source": [
    "from ema_workbench import load_results\n",
    "\n",
    "experiments_loaded, outcomes_loaded = load_results('sobol_uncertainties_sampling.tar.gz')"
   ]
  },
  {
   "cell_type": "markdown",
   "metadata": {},
   "source": [
    "### Setting Reference Scenarios"
   ]
  },
  {
   "cell_type": "markdown",
   "metadata": {},
   "source": [
    "From the range of uncertainties, we will create scenarios based on changing uncertainties that matter the most (Derived from sensitivity analysis, uncertainties sampling)"
   ]
  },
  {
   "cell_type": "code",
   "execution_count": 4,
   "metadata": {},
   "outputs": [
    {
     "name": "stdout",
     "output_type": "stream",
     "text": [
      "CategoricalParameter('discount rate 0', [0, 1, 2, 3])\n",
      "CategoricalParameter('discount rate 1', [0, 1, 2, 3])\n",
      "CategoricalParameter('discount rate 2', [0, 1, 2, 3])\n",
      "IntegerParameter('A.0_ID flood wave shape', 0, 132)\n",
      "RealParameter('A.1_Bmax', 30, 350)\n",
      "RealParameter('A.1_pfail', 0, 1)\n",
      "CategoricalParameter('A.1_Brate', [0, 1, 2])\n",
      "RealParameter('A.2_Bmax', 30, 350)\n",
      "RealParameter('A.2_pfail', 0, 1)\n",
      "CategoricalParameter('A.2_Brate', [0, 1, 2])\n",
      "RealParameter('A.3_Bmax', 30, 350)\n",
      "RealParameter('A.3_pfail', 0, 1)\n",
      "CategoricalParameter('A.3_Brate', [0, 1, 2])\n",
      "RealParameter('A.4_Bmax', 30, 350)\n",
      "RealParameter('A.4_pfail', 0, 1)\n",
      "CategoricalParameter('A.4_Brate', [0, 1, 2])\n",
      "RealParameter('A.5_Bmax', 30, 350)\n",
      "RealParameter('A.5_pfail', 0, 1)\n",
      "CategoricalParameter('A.5_Brate', [0, 1, 2])\n"
     ]
    }
   ],
   "source": [
    "for unc in dike_model.uncertainties:\n",
    "    print(repr(unc))"
   ]
  },
  {
   "cell_type": "code",
   "execution_count": 5,
   "metadata": {},
   "outputs": [],
   "source": [
    "#Defining reference scenarios\n",
    "#Worst case: Flood-inducing scenario - Global warming + High probability of ALL Dikes failing along \n",
    "#with economic implications(through discount rates)\n",
    "\n",
    "ref_high_dikefailure_prob = Scenario('ref_high_dikefailure_prob', **{   \n",
    "    'A.0_ID flood wave shape':130,\n",
    "    'A.1_Bmax':300,\n",
    "    'A.1_Brate':10,\n",
    "    'A.1_pfail':experiments_loaded['A.1_pfail'].quantile(0.9),\n",
    "    'A.2_Bmax':300,\n",
    "    'A.2_Brate':5,\n",
    "    'A.2_pfail':experiments_loaded['A.2_pfail'].quantile(0.9),\n",
    "    'A.3_Bmax':300,\n",
    "    'A.3_Brate':10,  \n",
    "    'A.3_pfail':experiments_loaded['A.3_pfail'].quantile(0.9),\n",
    "    'A.4_Bmax':300,\n",
    "    'A.4_Brate':10,\n",
    "    'A.4_pfail':experiments_loaded['A.4_pfail'].quantile(0.9),\n",
    "    'A.5_Bmax':300,\n",
    "    'A.5_Brate':10,\n",
    "    'A.5_pfail':experiments_loaded['A.5_pfail'].quantile(0.9),\n",
    "    'discount rate 0':2,\n",
    "    'discount rate 1':2,\n",
    "    'discount rate 2':2\n",
    "        })"
   ]
  },
  {
   "cell_type": "code",
   "execution_count": 6,
   "metadata": {},
   "outputs": [],
   "source": [
    "#THINGS WE TRIED BUT DIDNT WORK \n",
    "\n",
    "# from ema_workbench import MultiprocessingEvaluator, SequentialEvaluator, ema_logging\n",
    "# from ema_workbench.em_framework.evaluators import BaseEvaluator\n",
    "# from ema_workbench.em_framework.optimization import (HyperVolume,\n",
    "#                                                      EpsilonProgress)\n",
    "# ema_logging.log_to_stderr(ema_logging.INFO)\n",
    "\n",
    "# def optimize(scenario, nfe, model, converge_metrics, epsilons):\n",
    "#     with SequentialEvaluator(model) as evaluator:\n",
    "#         results, convergence = evaluator.optimize(nfe=nfe, searchover='levers',\n",
    "#                                      convergence=convergence_metrics,\n",
    "#                                      epsilons=epsilons,\n",
    "#                                      reference=scenario)\n",
    "#     return results, convergence\n",
    "\n",
    "# results = []\n",
    "# # convergence_metrics = [HyperVolume.from_outcomes(dike_model.outcomes),\n",
    "# #                        EpsilonProgress()]\n",
    "\n",
    "# convergence = [HyperVolume(minimum=[0]*11, maximum=[1.75e-05, 175094.55, 289010644.28, 1.75e-05, 175094.55, 367832359.71, 0.00095, 142575315.00, 5077927.25,1644699000.0,336.2204869362749]),\n",
    "#                EpsilonProgress()]\n",
    "\n",
    "# # constraints = [Constraint(\"expected deaths A1\", outcome_names=\"A.1_Expected Number of Deaths 0\",function=lambda x:max(0, 1.75e-05)),\n",
    "# #                Constraint(\"expected damage A1\", outcome_names=\"A.1_Expected Annual Damage 0\",function=lambda x:max(0, 175094.55)),\n",
    "# #                Constraint(\"dike investment A1\", outcome_names=\"A.1_Dike Investment Costs 0\",function=lambda x:max(0, 289010644.28)),\n",
    "# #                Constraint(\"expected deaths A2\", outcome_names=\"A.2_Expected Number of Deaths 0\",function=lambda x:max(0, 1.75e-05)),\n",
    "# #                Constraint(\"expected damage A2\", outcome_names=\"A.2_Expected Annual Damage 0\",function=lambda x:max(0, 175094.55)),\n",
    "# #                Constraint(\"dike investment A2\", outcome_names=\"A.2_Dike Investment Costs 0\",function=lambda x:max(0, 367832359.71)),\n",
    "# #                Constraint(\"expected deaths A3\", outcome_names=\"A.3_Expected Number of Deaths 0\",function=lambda x:max(0, 0.00095)),\n",
    "# #                Constraint(\"expected damage A3\", outcome_names=\"A.3_Expected Annual Damage 0\",function=lambda x:max(0, 142575315.00)),\n",
    "# #                Constraint(\"dike investment A3\", outcome_names=\"A.3_Dike Investment Costs 0\",function=lambda x:max(0, 5077927.25)),\n",
    "# #                Constraint(\"rfr total costs\", outcome_names=\"RfR Total Costs\",function=lambda x:max(0, 1644699000.0)),\n",
    "# #                Constraint(\"expected evacuation costs\", outcome_names=\"Expected Evacuation Costs\",function=lambda x:max(0, 336.2204869362749)),\n",
    "# #                Constraint(\"expected deaths A1\", outcome_names=\"A.1_Expected Number of Deaths 1\",function=lambda x:max(0, 1.75e-05)),\n",
    "# #                Constraint(\"expected damage A1\", outcome_names=\"A.1_Expected Annual Damage 1\",function=lambda x:max(0, 175094.55)),\n",
    "# #                Constraint(\"dike investment A1\", outcome_names=\"A.1_Dike Investment Costs 1\",function=lambda x:max(0, 289010644.28)),\n",
    "# #                Constraint(\"expected deaths A2\", outcome_names=\"A.2_Expected Number of Deaths 1\",function=lambda x:max(0, 1.75e-05)),\n",
    "# #                Constraint(\"expected damage A2\", outcome_names=\"A.2_Expected Annual Damage 1\",function=lambda x:max(0, 175094.55)),\n",
    "# #                Constraint(\"dike investment A2\", outcome_names=\"A.2_Dike Investment Costs 1\",function=lambda x:max(0, 367832359.71)),\n",
    "# #                Constraint(\"expected deaths A3\", outcome_names=\"A.3_Expected Number of Deaths 1\",function=lambda x:max(0, 0.00095)),\n",
    "# #                Constraint(\"expected damage A3\", outcome_names=\"A.3_Expected Annual Damage 1\",function=lambda x:max(0, 142575315.00)),\n",
    "# #                Constraint(\"dike investment A3\", outcome_names=\"A.3_Dike Investment Costs 1\",function=lambda x:max(0, 5077927.25)),\n",
    "# #                Constraint(\"rfr total costs\", outcome_names=\"RfR Total Costs\",function=lambda x:max(0, 1644699000.0)),\n",
    "# #                Constraint(\"expected evacuation costs\", outcome_names=\"Expected Evacuation Costs\",function=lambda x:max(0, 336.2204869362749)),\n",
    "# #                Constraint(\"expected deaths A1\", outcome_names=\"A.1_Expected Number of Deaths 2\",function=lambda x:max(0, 1.75e-05)),\n",
    "# #                Constraint(\"expected damage A1\", outcome_names=\"A.1_Expected Annual Damage 2\",function=lambda x:max(0, 175094.55)),\n",
    "# #                Constraint(\"dike investment A1\", outcome_names=\"A.1_Dike Investment Costs 2\",function=lambda x:max(0, 289010644.28)),\n",
    "# #                Constraint(\"expected deaths A2\", outcome_names=\"A.2_Expected Number of Deaths 2\",function=lambda x:max(0, 1.75e-05)),\n",
    "# #                Constraint(\"expected damage A2\", outcome_names=\"A.2_Expected Annual Damage 2\",function=lambda x:max(0, 175094.55)),\n",
    "# #                Constraint(\"dike investment A2\", outcome_names=\"A.2_Dike Investment Costs 2\",function=lambda x:max(0, 367832359.71)),\n",
    "# #                Constraint(\"expected deaths A3\", outcome_names=\"A.3_Expected Number of Deaths 2\",function=lambda x:max(0, 0.00095)),\n",
    "# #                Constraint(\"expected damage A3\", outcome_names=\"A.3_Expected Annual Damage 2\",function=lambda x:max(0, 142575315.00)),\n",
    "# #                Constraint(\"dike investment A3\", outcome_names=\"A.3_Dike Investment Costs 2\",function=lambda x:max(0, 5077927.25)),\n",
    "# #                Constraint(\"rfr total costs\", outcome_names=\"RfR Total Costs\",function=lambda x:max(0, 1644699000.0)),\n",
    "# #                Constraint(\"expected evacuation costs\", outcome_names=\"Expected Evacuation Costs\",function=lambda x:max(0, 336.2204869362749)),\n",
    "# #               ]\n",
    "\n",
    "# epsilons = [0.08,]*len(dike_model.outcomes)\n",
    "\n",
    "# results.append(optimize(ref_high_dikefailure_prob, 10, dike_model, convergence_metrics, epsilons))\n",
    "\n",
    "# from ema_workbench.em_framework.optimization import EpsilonProgress\n",
    "# convergence = [EpsilonProgress()]\n",
    "# epsilons = [0.1,]*len(dike_model.outcomes)\n",
    "\n",
    "# with SequentialEvaluator(dike_model) as evaluator:\n",
    "#     result, convergence = evaluator.optimize(nfe=5, searchover='levers',\n",
    "#                                     epsilons=epsilons,\n",
    "#                                     )"
   ]
  },
  {
   "cell_type": "markdown",
   "metadata": {},
   "source": [
    "### Search over levers\n",
    "Directed search is most often used to search over the decision levers in order to find good candidate strategies. This is for example the first step in the Many Objective Robust Decision Making process. This is straightforward to do with the workbench using the optimize method.\n",
    "\n",
    "The result from optimize is a DataFrame with the decision variables and outcomes of interest."
   ]
  },
  {
   "cell_type": "code",
   "execution_count": 7,
   "metadata": {},
   "outputs": [],
   "source": [
    "#UNCOMMENT WHEN RUNNING  FOR THE FIRST TIME \n",
    "\n",
    "# with MultiprocessingEvaluator(dike_model) as evaluator:\n",
    "#     results_ref1 = evaluator.optimize(nfe=5000, epsilons=[0.1]*12, searchover='levers', reference=ref_high_dikefailure_prob,\n",
    "#                                )"
   ]
  },
  {
   "cell_type": "code",
   "execution_count": 8,
   "metadata": {},
   "outputs": [],
   "source": [
    "# results_ref1"
   ]
  },
  {
   "cell_type": "code",
   "execution_count": 9,
   "metadata": {},
   "outputs": [],
   "source": [
    "# results_ref1.to_csv(r'scenario_ref1_optimal_policies_new.csv',index = False)"
   ]
  },
  {
   "cell_type": "code",
   "execution_count": 10,
   "metadata": {},
   "outputs": [],
   "source": [
    "results_load = pd.read_csv('scenario_ref1_optimal_policies_new.csv')"
   ]
  },
  {
   "cell_type": "markdown",
   "metadata": {},
   "source": [
    "## Voila - Our optimal Policies! "
   ]
  },
  {
   "cell_type": "code",
   "execution_count": 11,
   "metadata": {},
   "outputs": [
    {
     "data": {
      "text/html": [
       "<div>\n",
       "<style scoped>\n",
       "    .dataframe tbody tr th:only-of-type {\n",
       "        vertical-align: middle;\n",
       "    }\n",
       "\n",
       "    .dataframe tbody tr th {\n",
       "        vertical-align: top;\n",
       "    }\n",
       "\n",
       "    .dataframe thead th {\n",
       "        text-align: right;\n",
       "    }\n",
       "</style>\n",
       "<table border=\"1\" class=\"dataframe\">\n",
       "  <thead>\n",
       "    <tr style=\"text-align: right;\">\n",
       "      <th></th>\n",
       "      <th>A.1_Expected Number of Deaths</th>\n",
       "      <th>A.1_Expected Annual Damage</th>\n",
       "      <th>A.1_Dike Investment Costs</th>\n",
       "      <th>A.2_Expected Number of Deaths</th>\n",
       "      <th>A.2_Expected Annual Damage</th>\n",
       "      <th>A.2_Dike Investment Costs</th>\n",
       "      <th>A.3_Expected Number of Deaths</th>\n",
       "      <th>A.3_Expected Annual Damage</th>\n",
       "      <th>A.3_Dike Investment Costs</th>\n",
       "      <th>RfR Total Costs</th>\n",
       "      <th>Expected Evacuation Costs</th>\n",
       "    </tr>\n",
       "  </thead>\n",
       "  <tbody>\n",
       "    <tr>\n",
       "      <th>0</th>\n",
       "      <td>0.0</td>\n",
       "      <td>0.0</td>\n",
       "      <td>0.000000e+00</td>\n",
       "      <td>0.000000</td>\n",
       "      <td>0.000000e+00</td>\n",
       "      <td>0.000000e+00</td>\n",
       "      <td>0.000000</td>\n",
       "      <td>0.000000e+00</td>\n",
       "      <td>4.129222e+07</td>\n",
       "      <td>432800000.0</td>\n",
       "      <td>0.000000</td>\n",
       "    </tr>\n",
       "    <tr>\n",
       "      <th>1</th>\n",
       "      <td>0.0</td>\n",
       "      <td>0.0</td>\n",
       "      <td>4.229151e+07</td>\n",
       "      <td>0.009067</td>\n",
       "      <td>1.077004e+07</td>\n",
       "      <td>5.335857e+07</td>\n",
       "      <td>0.006258</td>\n",
       "      <td>3.932240e+06</td>\n",
       "      <td>2.029929e+07</td>\n",
       "      <td>0.0</td>\n",
       "      <td>0.000000</td>\n",
       "    </tr>\n",
       "    <tr>\n",
       "      <th>2</th>\n",
       "      <td>0.0</td>\n",
       "      <td>0.0</td>\n",
       "      <td>1.031623e+08</td>\n",
       "      <td>0.000000</td>\n",
       "      <td>0.000000e+00</td>\n",
       "      <td>0.000000e+00</td>\n",
       "      <td>0.000000</td>\n",
       "      <td>0.000000e+00</td>\n",
       "      <td>0.000000e+00</td>\n",
       "      <td>92100000.0</td>\n",
       "      <td>0.000000</td>\n",
       "    </tr>\n",
       "    <tr>\n",
       "      <th>3</th>\n",
       "      <td>0.0</td>\n",
       "      <td>0.0</td>\n",
       "      <td>6.650701e+07</td>\n",
       "      <td>0.000000</td>\n",
       "      <td>0.000000e+00</td>\n",
       "      <td>0.000000e+00</td>\n",
       "      <td>0.000000</td>\n",
       "      <td>0.000000e+00</td>\n",
       "      <td>2.029929e+07</td>\n",
       "      <td>92100000.0</td>\n",
       "      <td>0.000000</td>\n",
       "    </tr>\n",
       "    <tr>\n",
       "      <th>4</th>\n",
       "      <td>0.0</td>\n",
       "      <td>0.0</td>\n",
       "      <td>0.000000e+00</td>\n",
       "      <td>0.000000</td>\n",
       "      <td>0.000000e+00</td>\n",
       "      <td>4.784270e+07</td>\n",
       "      <td>0.018775</td>\n",
       "      <td>1.179672e+07</td>\n",
       "      <td>2.029929e+07</td>\n",
       "      <td>0.0</td>\n",
       "      <td>0.000000</td>\n",
       "    </tr>\n",
       "    <tr>\n",
       "      <th>...</th>\n",
       "      <td>...</td>\n",
       "      <td>...</td>\n",
       "      <td>...</td>\n",
       "      <td>...</td>\n",
       "      <td>...</td>\n",
       "      <td>...</td>\n",
       "      <td>...</td>\n",
       "      <td>...</td>\n",
       "      <td>...</td>\n",
       "      <td>...</td>\n",
       "      <td>...</td>\n",
       "    </tr>\n",
       "    <tr>\n",
       "      <th>75</th>\n",
       "      <td>0.0</td>\n",
       "      <td>0.0</td>\n",
       "      <td>0.000000e+00</td>\n",
       "      <td>0.009067</td>\n",
       "      <td>1.077004e+07</td>\n",
       "      <td>7.331545e+07</td>\n",
       "      <td>0.006258</td>\n",
       "      <td>3.932240e+06</td>\n",
       "      <td>2.029929e+07</td>\n",
       "      <td>0.0</td>\n",
       "      <td>0.000000</td>\n",
       "    </tr>\n",
       "    <tr>\n",
       "      <th>76</th>\n",
       "      <td>0.0</td>\n",
       "      <td>0.0</td>\n",
       "      <td>0.000000e+00</td>\n",
       "      <td>0.001627</td>\n",
       "      <td>1.284698e+07</td>\n",
       "      <td>3.824512e+07</td>\n",
       "      <td>0.000000</td>\n",
       "      <td>0.000000e+00</td>\n",
       "      <td>3.422156e+07</td>\n",
       "      <td>0.0</td>\n",
       "      <td>476.477660</td>\n",
       "    </tr>\n",
       "    <tr>\n",
       "      <th>77</th>\n",
       "      <td>0.0</td>\n",
       "      <td>0.0</td>\n",
       "      <td>0.000000e+00</td>\n",
       "      <td>0.004534</td>\n",
       "      <td>5.385022e+06</td>\n",
       "      <td>4.281842e+07</td>\n",
       "      <td>0.065988</td>\n",
       "      <td>4.202628e+07</td>\n",
       "      <td>0.000000e+00</td>\n",
       "      <td>0.0</td>\n",
       "      <td>0.000000</td>\n",
       "    </tr>\n",
       "    <tr>\n",
       "      <th>78</th>\n",
       "      <td>0.0</td>\n",
       "      <td>0.0</td>\n",
       "      <td>3.269490e+07</td>\n",
       "      <td>0.001627</td>\n",
       "      <td>1.284698e+07</td>\n",
       "      <td>3.824512e+07</td>\n",
       "      <td>0.009860</td>\n",
       "      <td>4.193614e+07</td>\n",
       "      <td>0.000000e+00</td>\n",
       "      <td>0.0</td>\n",
       "      <td>1738.450538</td>\n",
       "    </tr>\n",
       "    <tr>\n",
       "      <th>79</th>\n",
       "      <td>0.0</td>\n",
       "      <td>0.0</td>\n",
       "      <td>0.000000e+00</td>\n",
       "      <td>0.005039</td>\n",
       "      <td>6.046170e+06</td>\n",
       "      <td>0.000000e+00</td>\n",
       "      <td>0.000000</td>\n",
       "      <td>0.000000e+00</td>\n",
       "      <td>0.000000e+00</td>\n",
       "      <td>182600000.0</td>\n",
       "      <td>0.000000</td>\n",
       "    </tr>\n",
       "  </tbody>\n",
       "</table>\n",
       "<p>80 rows × 11 columns</p>\n",
       "</div>"
      ],
      "text/plain": [
       "    A.1_Expected Number of Deaths  A.1_Expected Annual Damage  \\\n",
       "0                             0.0                         0.0   \n",
       "1                             0.0                         0.0   \n",
       "2                             0.0                         0.0   \n",
       "3                             0.0                         0.0   \n",
       "4                             0.0                         0.0   \n",
       "..                            ...                         ...   \n",
       "75                            0.0                         0.0   \n",
       "76                            0.0                         0.0   \n",
       "77                            0.0                         0.0   \n",
       "78                            0.0                         0.0   \n",
       "79                            0.0                         0.0   \n",
       "\n",
       "    A.1_Dike Investment Costs  A.2_Expected Number of Deaths  \\\n",
       "0                0.000000e+00                       0.000000   \n",
       "1                4.229151e+07                       0.009067   \n",
       "2                1.031623e+08                       0.000000   \n",
       "3                6.650701e+07                       0.000000   \n",
       "4                0.000000e+00                       0.000000   \n",
       "..                        ...                            ...   \n",
       "75               0.000000e+00                       0.009067   \n",
       "76               0.000000e+00                       0.001627   \n",
       "77               0.000000e+00                       0.004534   \n",
       "78               3.269490e+07                       0.001627   \n",
       "79               0.000000e+00                       0.005039   \n",
       "\n",
       "    A.2_Expected Annual Damage  A.2_Dike Investment Costs  \\\n",
       "0                 0.000000e+00               0.000000e+00   \n",
       "1                 1.077004e+07               5.335857e+07   \n",
       "2                 0.000000e+00               0.000000e+00   \n",
       "3                 0.000000e+00               0.000000e+00   \n",
       "4                 0.000000e+00               4.784270e+07   \n",
       "..                         ...                        ...   \n",
       "75                1.077004e+07               7.331545e+07   \n",
       "76                1.284698e+07               3.824512e+07   \n",
       "77                5.385022e+06               4.281842e+07   \n",
       "78                1.284698e+07               3.824512e+07   \n",
       "79                6.046170e+06               0.000000e+00   \n",
       "\n",
       "    A.3_Expected Number of Deaths  A.3_Expected Annual Damage  \\\n",
       "0                        0.000000                0.000000e+00   \n",
       "1                        0.006258                3.932240e+06   \n",
       "2                        0.000000                0.000000e+00   \n",
       "3                        0.000000                0.000000e+00   \n",
       "4                        0.018775                1.179672e+07   \n",
       "..                            ...                         ...   \n",
       "75                       0.006258                3.932240e+06   \n",
       "76                       0.000000                0.000000e+00   \n",
       "77                       0.065988                4.202628e+07   \n",
       "78                       0.009860                4.193614e+07   \n",
       "79                       0.000000                0.000000e+00   \n",
       "\n",
       "    A.3_Dike Investment Costs  RfR Total Costs  Expected Evacuation Costs  \n",
       "0                4.129222e+07      432800000.0                   0.000000  \n",
       "1                2.029929e+07              0.0                   0.000000  \n",
       "2                0.000000e+00       92100000.0                   0.000000  \n",
       "3                2.029929e+07       92100000.0                   0.000000  \n",
       "4                2.029929e+07              0.0                   0.000000  \n",
       "..                        ...              ...                        ...  \n",
       "75               2.029929e+07              0.0                   0.000000  \n",
       "76               3.422156e+07              0.0                 476.477660  \n",
       "77               0.000000e+00              0.0                   0.000000  \n",
       "78               0.000000e+00              0.0                1738.450538  \n",
       "79               0.000000e+00      182600000.0                   0.000000  \n",
       "\n",
       "[80 rows x 11 columns]"
      ]
     },
     "execution_count": 11,
     "metadata": {},
     "output_type": "execute_result"
    }
   ],
   "source": [
    "results_load.iloc[:,31:42]"
   ]
  },
  {
   "cell_type": "code",
   "execution_count": 17,
   "metadata": {
    "scrolled": true
   },
   "outputs": [
    {
     "data": {
      "text/plain": [
       "Index(['A.1_Expected Number of Deaths', 'A.1_Expected Annual Damage',\n",
       "       'A.1_Dike Investment Costs', 'A.2_Expected Number of Deaths',\n",
       "       'A.2_Expected Annual Damage', 'A.2_Dike Investment Costs',\n",
       "       'A.3_Expected Number of Deaths', 'A.3_Expected Annual Damage',\n",
       "       'A.3_Dike Investment Costs', 'RfR Total Costs',\n",
       "       'Expected Evacuation Costs'],\n",
       "      dtype='object')"
      ]
     },
     "execution_count": 17,
     "metadata": {},
     "output_type": "execute_result"
    }
   ],
   "source": [
    "results_load.iloc[:,31:42].columns"
   ]
  },
  {
   "cell_type": "code",
   "execution_count": 75,
   "metadata": {},
   "outputs": [],
   "source": [
    "# from ema_workbench.analysis import parcoords\n",
    "\n",
    "# paraxes = parcoords.ParallelAxes(parcoords.get_limits(results_load.iloc[:,31:34]), fontsize=9, rot=0)\n",
    "# paraxes.plot(results_load.iloc[:,31:34], color=sns.color_palette()[0])\n",
    "\n",
    "# paraxes1 = parcoords.ParallelAxes(parcoords.get_limits(results_load.iloc[:,34:37]), fontsize=9, rot=0)\n",
    "# paraxes1.plot(results_load.iloc[:,34:37], color=sns.color_palette()[1])\n",
    "\n",
    "# paraxes1 = parcoords.ParallelAxes(parcoords.get_limits(results_load.iloc[:,37:40]), fontsize=9, rot=0)\n",
    "# paraxes1.plot(results_load.iloc[:,37:40], color=sns.color_palette()[2])\n",
    "\n",
    "# paraxes1 = parcoords.ParallelAxes(parcoords.get_limits(results_load.iloc[:,40:43]), fontsize=9, rot=0)\n",
    "# paraxes1.plot(results_load.iloc[:,40:43], color=sns.color_palette()[3])\n",
    "\n",
    "# plt.show()"
   ]
  },
  {
   "cell_type": "code",
   "execution_count": 39,
   "metadata": {},
   "outputs": [],
   "source": [
    "results_index = results_load.reset_index()"
   ]
  },
  {
   "cell_type": "code",
   "execution_count": 40,
   "metadata": {
    "scrolled": true
   },
   "outputs": [
    {
     "data": {
      "text/html": [
       "<div>\n",
       "<style scoped>\n",
       "    .dataframe tbody tr th:only-of-type {\n",
       "        vertical-align: middle;\n",
       "    }\n",
       "\n",
       "    .dataframe tbody tr th {\n",
       "        vertical-align: top;\n",
       "    }\n",
       "\n",
       "    .dataframe thead th {\n",
       "        text-align: right;\n",
       "    }\n",
       "</style>\n",
       "<table border=\"1\" class=\"dataframe\">\n",
       "  <thead>\n",
       "    <tr style=\"text-align: right;\">\n",
       "      <th></th>\n",
       "      <th>index</th>\n",
       "      <th>0_RfR 0</th>\n",
       "      <th>0_RfR 1</th>\n",
       "      <th>0_RfR 2</th>\n",
       "      <th>1_RfR 0</th>\n",
       "      <th>1_RfR 1</th>\n",
       "      <th>1_RfR 2</th>\n",
       "      <th>2_RfR 0</th>\n",
       "      <th>2_RfR 1</th>\n",
       "      <th>2_RfR 2</th>\n",
       "      <th>...</th>\n",
       "      <th>A.1_Expected Annual Damage</th>\n",
       "      <th>A.1_Dike Investment Costs</th>\n",
       "      <th>A.2_Expected Number of Deaths</th>\n",
       "      <th>A.2_Expected Annual Damage</th>\n",
       "      <th>A.2_Dike Investment Costs</th>\n",
       "      <th>A.3_Expected Number of Deaths</th>\n",
       "      <th>A.3_Expected Annual Damage</th>\n",
       "      <th>A.3_Dike Investment Costs</th>\n",
       "      <th>RfR Total Costs</th>\n",
       "      <th>Expected Evacuation Costs</th>\n",
       "    </tr>\n",
       "  </thead>\n",
       "  <tbody>\n",
       "    <tr>\n",
       "      <th>0</th>\n",
       "      <td>0</td>\n",
       "      <td>0</td>\n",
       "      <td>1</td>\n",
       "      <td>0</td>\n",
       "      <td>0</td>\n",
       "      <td>0</td>\n",
       "      <td>0</td>\n",
       "      <td>1</td>\n",
       "      <td>1</td>\n",
       "      <td>1</td>\n",
       "      <td>...</td>\n",
       "      <td>0.0</td>\n",
       "      <td>0.000000e+00</td>\n",
       "      <td>0.000000</td>\n",
       "      <td>0.000000e+00</td>\n",
       "      <td>0.000000e+00</td>\n",
       "      <td>0.000000</td>\n",
       "      <td>0.000000e+00</td>\n",
       "      <td>4.129222e+07</td>\n",
       "      <td>432800000.0</td>\n",
       "      <td>0.000000</td>\n",
       "    </tr>\n",
       "    <tr>\n",
       "      <th>1</th>\n",
       "      <td>1</td>\n",
       "      <td>0</td>\n",
       "      <td>0</td>\n",
       "      <td>0</td>\n",
       "      <td>0</td>\n",
       "      <td>0</td>\n",
       "      <td>0</td>\n",
       "      <td>0</td>\n",
       "      <td>0</td>\n",
       "      <td>0</td>\n",
       "      <td>...</td>\n",
       "      <td>0.0</td>\n",
       "      <td>4.229151e+07</td>\n",
       "      <td>0.009067</td>\n",
       "      <td>1.077004e+07</td>\n",
       "      <td>5.335857e+07</td>\n",
       "      <td>0.006258</td>\n",
       "      <td>3.932240e+06</td>\n",
       "      <td>2.029929e+07</td>\n",
       "      <td>0.0</td>\n",
       "      <td>0.000000</td>\n",
       "    </tr>\n",
       "    <tr>\n",
       "      <th>2</th>\n",
       "      <td>2</td>\n",
       "      <td>0</td>\n",
       "      <td>0</td>\n",
       "      <td>0</td>\n",
       "      <td>0</td>\n",
       "      <td>0</td>\n",
       "      <td>0</td>\n",
       "      <td>1</td>\n",
       "      <td>1</td>\n",
       "      <td>1</td>\n",
       "      <td>...</td>\n",
       "      <td>0.0</td>\n",
       "      <td>1.031623e+08</td>\n",
       "      <td>0.000000</td>\n",
       "      <td>0.000000e+00</td>\n",
       "      <td>0.000000e+00</td>\n",
       "      <td>0.000000</td>\n",
       "      <td>0.000000e+00</td>\n",
       "      <td>0.000000e+00</td>\n",
       "      <td>92100000.0</td>\n",
       "      <td>0.000000</td>\n",
       "    </tr>\n",
       "    <tr>\n",
       "      <th>3</th>\n",
       "      <td>3</td>\n",
       "      <td>0</td>\n",
       "      <td>0</td>\n",
       "      <td>0</td>\n",
       "      <td>0</td>\n",
       "      <td>0</td>\n",
       "      <td>0</td>\n",
       "      <td>1</td>\n",
       "      <td>1</td>\n",
       "      <td>1</td>\n",
       "      <td>...</td>\n",
       "      <td>0.0</td>\n",
       "      <td>6.650701e+07</td>\n",
       "      <td>0.000000</td>\n",
       "      <td>0.000000e+00</td>\n",
       "      <td>0.000000e+00</td>\n",
       "      <td>0.000000</td>\n",
       "      <td>0.000000e+00</td>\n",
       "      <td>2.029929e+07</td>\n",
       "      <td>92100000.0</td>\n",
       "      <td>0.000000</td>\n",
       "    </tr>\n",
       "    <tr>\n",
       "      <th>4</th>\n",
       "      <td>4</td>\n",
       "      <td>0</td>\n",
       "      <td>0</td>\n",
       "      <td>0</td>\n",
       "      <td>0</td>\n",
       "      <td>0</td>\n",
       "      <td>0</td>\n",
       "      <td>0</td>\n",
       "      <td>0</td>\n",
       "      <td>0</td>\n",
       "      <td>...</td>\n",
       "      <td>0.0</td>\n",
       "      <td>0.000000e+00</td>\n",
       "      <td>0.000000</td>\n",
       "      <td>0.000000e+00</td>\n",
       "      <td>4.784270e+07</td>\n",
       "      <td>0.018775</td>\n",
       "      <td>1.179672e+07</td>\n",
       "      <td>2.029929e+07</td>\n",
       "      <td>0.0</td>\n",
       "      <td>0.000000</td>\n",
       "    </tr>\n",
       "    <tr>\n",
       "      <th>...</th>\n",
       "      <td>...</td>\n",
       "      <td>...</td>\n",
       "      <td>...</td>\n",
       "      <td>...</td>\n",
       "      <td>...</td>\n",
       "      <td>...</td>\n",
       "      <td>...</td>\n",
       "      <td>...</td>\n",
       "      <td>...</td>\n",
       "      <td>...</td>\n",
       "      <td>...</td>\n",
       "      <td>...</td>\n",
       "      <td>...</td>\n",
       "      <td>...</td>\n",
       "      <td>...</td>\n",
       "      <td>...</td>\n",
       "      <td>...</td>\n",
       "      <td>...</td>\n",
       "      <td>...</td>\n",
       "      <td>...</td>\n",
       "      <td>...</td>\n",
       "    </tr>\n",
       "    <tr>\n",
       "      <th>75</th>\n",
       "      <td>75</td>\n",
       "      <td>0</td>\n",
       "      <td>0</td>\n",
       "      <td>0</td>\n",
       "      <td>0</td>\n",
       "      <td>0</td>\n",
       "      <td>0</td>\n",
       "      <td>0</td>\n",
       "      <td>0</td>\n",
       "      <td>0</td>\n",
       "      <td>...</td>\n",
       "      <td>0.0</td>\n",
       "      <td>0.000000e+00</td>\n",
       "      <td>0.009067</td>\n",
       "      <td>1.077004e+07</td>\n",
       "      <td>7.331545e+07</td>\n",
       "      <td>0.006258</td>\n",
       "      <td>3.932240e+06</td>\n",
       "      <td>2.029929e+07</td>\n",
       "      <td>0.0</td>\n",
       "      <td>0.000000</td>\n",
       "    </tr>\n",
       "    <tr>\n",
       "      <th>76</th>\n",
       "      <td>76</td>\n",
       "      <td>0</td>\n",
       "      <td>0</td>\n",
       "      <td>0</td>\n",
       "      <td>0</td>\n",
       "      <td>0</td>\n",
       "      <td>0</td>\n",
       "      <td>0</td>\n",
       "      <td>0</td>\n",
       "      <td>0</td>\n",
       "      <td>...</td>\n",
       "      <td>0.0</td>\n",
       "      <td>0.000000e+00</td>\n",
       "      <td>0.001627</td>\n",
       "      <td>1.284698e+07</td>\n",
       "      <td>3.824512e+07</td>\n",
       "      <td>0.000000</td>\n",
       "      <td>0.000000e+00</td>\n",
       "      <td>3.422156e+07</td>\n",
       "      <td>0.0</td>\n",
       "      <td>476.477660</td>\n",
       "    </tr>\n",
       "    <tr>\n",
       "      <th>77</th>\n",
       "      <td>77</td>\n",
       "      <td>0</td>\n",
       "      <td>0</td>\n",
       "      <td>0</td>\n",
       "      <td>0</td>\n",
       "      <td>0</td>\n",
       "      <td>0</td>\n",
       "      <td>0</td>\n",
       "      <td>0</td>\n",
       "      <td>0</td>\n",
       "      <td>...</td>\n",
       "      <td>0.0</td>\n",
       "      <td>0.000000e+00</td>\n",
       "      <td>0.004534</td>\n",
       "      <td>5.385022e+06</td>\n",
       "      <td>4.281842e+07</td>\n",
       "      <td>0.065988</td>\n",
       "      <td>4.202628e+07</td>\n",
       "      <td>0.000000e+00</td>\n",
       "      <td>0.0</td>\n",
       "      <td>0.000000</td>\n",
       "    </tr>\n",
       "    <tr>\n",
       "      <th>78</th>\n",
       "      <td>78</td>\n",
       "      <td>0</td>\n",
       "      <td>0</td>\n",
       "      <td>0</td>\n",
       "      <td>0</td>\n",
       "      <td>0</td>\n",
       "      <td>0</td>\n",
       "      <td>0</td>\n",
       "      <td>0</td>\n",
       "      <td>0</td>\n",
       "      <td>...</td>\n",
       "      <td>0.0</td>\n",
       "      <td>3.269490e+07</td>\n",
       "      <td>0.001627</td>\n",
       "      <td>1.284698e+07</td>\n",
       "      <td>3.824512e+07</td>\n",
       "      <td>0.009860</td>\n",
       "      <td>4.193614e+07</td>\n",
       "      <td>0.000000e+00</td>\n",
       "      <td>0.0</td>\n",
       "      <td>1738.450538</td>\n",
       "    </tr>\n",
       "    <tr>\n",
       "      <th>79</th>\n",
       "      <td>79</td>\n",
       "      <td>0</td>\n",
       "      <td>0</td>\n",
       "      <td>0</td>\n",
       "      <td>0</td>\n",
       "      <td>0</td>\n",
       "      <td>0</td>\n",
       "      <td>1</td>\n",
       "      <td>0</td>\n",
       "      <td>1</td>\n",
       "      <td>...</td>\n",
       "      <td>0.0</td>\n",
       "      <td>0.000000e+00</td>\n",
       "      <td>0.005039</td>\n",
       "      <td>6.046170e+06</td>\n",
       "      <td>0.000000e+00</td>\n",
       "      <td>0.000000</td>\n",
       "      <td>0.000000e+00</td>\n",
       "      <td>0.000000e+00</td>\n",
       "      <td>182600000.0</td>\n",
       "      <td>0.000000</td>\n",
       "    </tr>\n",
       "  </tbody>\n",
       "</table>\n",
       "<p>80 rows × 43 columns</p>\n",
       "</div>"
      ],
      "text/plain": [
       "    index  0_RfR 0  0_RfR 1  0_RfR 2  1_RfR 0  1_RfR 1  1_RfR 2  2_RfR 0  \\\n",
       "0       0        0        1        0        0        0        0        1   \n",
       "1       1        0        0        0        0        0        0        0   \n",
       "2       2        0        0        0        0        0        0        1   \n",
       "3       3        0        0        0        0        0        0        1   \n",
       "4       4        0        0        0        0        0        0        0   \n",
       "..    ...      ...      ...      ...      ...      ...      ...      ...   \n",
       "75     75        0        0        0        0        0        0        0   \n",
       "76     76        0        0        0        0        0        0        0   \n",
       "77     77        0        0        0        0        0        0        0   \n",
       "78     78        0        0        0        0        0        0        0   \n",
       "79     79        0        0        0        0        0        0        1   \n",
       "\n",
       "    2_RfR 1  2_RfR 2  ...  A.1_Expected Annual Damage  \\\n",
       "0         1        1  ...                         0.0   \n",
       "1         0        0  ...                         0.0   \n",
       "2         1        1  ...                         0.0   \n",
       "3         1        1  ...                         0.0   \n",
       "4         0        0  ...                         0.0   \n",
       "..      ...      ...  ...                         ...   \n",
       "75        0        0  ...                         0.0   \n",
       "76        0        0  ...                         0.0   \n",
       "77        0        0  ...                         0.0   \n",
       "78        0        0  ...                         0.0   \n",
       "79        0        1  ...                         0.0   \n",
       "\n",
       "    A.1_Dike Investment Costs  A.2_Expected Number of Deaths  \\\n",
       "0                0.000000e+00                       0.000000   \n",
       "1                4.229151e+07                       0.009067   \n",
       "2                1.031623e+08                       0.000000   \n",
       "3                6.650701e+07                       0.000000   \n",
       "4                0.000000e+00                       0.000000   \n",
       "..                        ...                            ...   \n",
       "75               0.000000e+00                       0.009067   \n",
       "76               0.000000e+00                       0.001627   \n",
       "77               0.000000e+00                       0.004534   \n",
       "78               3.269490e+07                       0.001627   \n",
       "79               0.000000e+00                       0.005039   \n",
       "\n",
       "    A.2_Expected Annual Damage  A.2_Dike Investment Costs  \\\n",
       "0                 0.000000e+00               0.000000e+00   \n",
       "1                 1.077004e+07               5.335857e+07   \n",
       "2                 0.000000e+00               0.000000e+00   \n",
       "3                 0.000000e+00               0.000000e+00   \n",
       "4                 0.000000e+00               4.784270e+07   \n",
       "..                         ...                        ...   \n",
       "75                1.077004e+07               7.331545e+07   \n",
       "76                1.284698e+07               3.824512e+07   \n",
       "77                5.385022e+06               4.281842e+07   \n",
       "78                1.284698e+07               3.824512e+07   \n",
       "79                6.046170e+06               0.000000e+00   \n",
       "\n",
       "    A.3_Expected Number of Deaths  A.3_Expected Annual Damage  \\\n",
       "0                        0.000000                0.000000e+00   \n",
       "1                        0.006258                3.932240e+06   \n",
       "2                        0.000000                0.000000e+00   \n",
       "3                        0.000000                0.000000e+00   \n",
       "4                        0.018775                1.179672e+07   \n",
       "..                            ...                         ...   \n",
       "75                       0.006258                3.932240e+06   \n",
       "76                       0.000000                0.000000e+00   \n",
       "77                       0.065988                4.202628e+07   \n",
       "78                       0.009860                4.193614e+07   \n",
       "79                       0.000000                0.000000e+00   \n",
       "\n",
       "    A.3_Dike Investment Costs  RfR Total Costs  Expected Evacuation Costs  \n",
       "0                4.129222e+07      432800000.0                   0.000000  \n",
       "1                2.029929e+07              0.0                   0.000000  \n",
       "2                0.000000e+00       92100000.0                   0.000000  \n",
       "3                2.029929e+07       92100000.0                   0.000000  \n",
       "4                2.029929e+07              0.0                   0.000000  \n",
       "..                        ...              ...                        ...  \n",
       "75               2.029929e+07              0.0                   0.000000  \n",
       "76               3.422156e+07              0.0                 476.477660  \n",
       "77               0.000000e+00              0.0                   0.000000  \n",
       "78               0.000000e+00              0.0                1738.450538  \n",
       "79               0.000000e+00      182600000.0                   0.000000  \n",
       "\n",
       "[80 rows x 43 columns]"
      ]
     },
     "execution_count": 40,
     "metadata": {},
     "output_type": "execute_result"
    }
   ],
   "source": [
    "results_index"
   ]
  },
  {
   "cell_type": "markdown",
   "metadata": {},
   "source": [
    "### Plotting tradeoffs between outcomes using a Parallel coordinate plot. "
   ]
  },
  {
   "cell_type": "code",
   "execution_count": 58,
   "metadata": {
    "scrolled": true
   },
   "outputs": [
    {
     "data": {
      "application/vnd.plotly.v1+json": {
       "config": {
        "plotlyServerURL": "https://plot.ly"
       },
       "data": [
        {
         "dimensions": [
          {
           "label": "A.1_Expected Number of Deaths",
           "values": [
            0,
            0,
            0,
            0,
            0,
            0,
            0,
            0,
            0,
            0,
            0,
            0,
            0,
            0,
            0,
            0,
            0,
            0,
            0,
            0,
            0,
            0,
            0,
            0,
            0,
            0,
            0,
            0,
            0,
            0,
            0,
            0,
            0,
            0,
            0,
            0,
            0,
            0,
            0,
            0,
            0,
            0,
            0,
            0,
            0,
            0,
            0,
            0,
            0,
            0,
            0,
            0,
            0,
            0,
            0,
            0,
            0,
            0,
            0,
            0,
            0,
            0,
            0,
            0,
            0,
            0,
            0,
            0,
            0,
            0,
            0,
            0,
            0,
            0,
            0,
            0,
            0,
            0,
            0,
            0
           ]
          },
          {
           "label": "A.1_Expected Annual Damage",
           "values": [
            0,
            0,
            0,
            0,
            0,
            0,
            0,
            0,
            0,
            0,
            0,
            0,
            0,
            0,
            0,
            0,
            0,
            0,
            0,
            0,
            0,
            0,
            0,
            0,
            0,
            0,
            0,
            0,
            0,
            0,
            0,
            0,
            0,
            0,
            0,
            0,
            0,
            0,
            0,
            0,
            0,
            0,
            0,
            0,
            0,
            0,
            0,
            0,
            0,
            0,
            0,
            0,
            0,
            0,
            0,
            0,
            0,
            0,
            0,
            0,
            0,
            0,
            0,
            0,
            0,
            0,
            0,
            0,
            0,
            0,
            0,
            0,
            0,
            0,
            0,
            0,
            0,
            0,
            0,
            0
           ]
          },
          {
           "label": "A.1_Dike Investment Costs",
           "values": [
            0,
            42291505.65437629,
            103162272.08375776,
            66507014.9338145,
            0,
            82486364.32617709,
            0,
            0,
            32694901.09416193,
            32694901.09416193,
            0,
            76431543.68310125,
            0,
            0,
            42291505.65437629,
            0,
            0,
            0,
            0,
            125797238.44921105,
            0,
            66507014.9338145,
            32694901.09416193,
            0,
            125788764.77143934,
            66507014.9338145,
            0,
            0,
            47847947,
            32694901.09416193,
            0,
            0,
            32694901.09416193,
            0,
            0,
            0,
            0,
            42291505,
            0,
            0,
            0,
            0,
            0,
            60717312.84309486,
            32694901.09416193,
            0,
            0,
            32694901.09416193,
            0,
            0,
            83497824.69174261,
            0,
            0,
            78453877.84187987,
            0,
            32694901.09416193,
            0,
            68139002.95605196,
            0,
            0,
            32694901.09416193,
            0,
            0,
            32694901.09416193,
            0,
            32694901.09416193,
            0,
            0,
            0,
            0,
            0,
            42291505,
            0,
            0,
            37255203,
            0,
            0,
            0,
            32694901,
            0
           ]
          },
          {
           "label": "A.2_Expected Number of Deaths",
           "values": [
            0,
            0.009067007012168823,
            0,
            0,
            0,
            0.009067007012168823,
            0.005211056630899173,
            0.005211056630899173,
            0.0008001162711420771,
            0.0008001162711420771,
            0,
            0.0019202790507409848,
            0.0045335035060844135,
            0.0034740377539327822,
            0,
            0.01360051051825324,
            0.008089575822271421,
            0,
            0.008089575822271421,
            0,
            0.0008001162711420771,
            0.0039042155412944385,
            0.008089575822271421,
            0,
            0.0008001162711420771,
            0.005334108474280513,
            0,
            0,
            0,
            0,
            0,
            0,
            0,
            0,
            0.0006400930169136617,
            0.005334108474280513,
            0.005334108474280513,
            0.005334108474280513,
            0.005334108474280513,
            0.0012134363733407134,
            0.010845043170262329,
            0.0019202790507409848,
            0.0029122472960177114,
            0.009067007012168823,
            0,
            0,
            0,
            0.010845043170262329,
            0,
            0.005088004787517832,
            0,
            0.010845043170262329,
            0.01360051051825324,
            0,
            0.009067007012168823,
            0.003264122524380777,
            0.009067007012168823,
            0.0045335035060844135,
            0.0019202790507409848,
            0.0029122472960177114,
            0,
            0,
            0.0013600510518253235,
            0.0016320612621903885,
            0.005334108474280513,
            0.005334108474280513,
            0.003264122524380777,
            0.0016267564755393495,
            0,
            0.008089575822271421,
            0.008089575822271421,
            0,
            0,
            0.0016320612621903885,
            0,
            0.009067007012168823,
            0.0016267564755393495,
            0.0045335035060844135,
            0.0016267564755393495,
            0.0050387840501652965
           ]
          },
          {
           "label": "A.2_Expected Annual Damage",
           "values": [
            0,
            10770043.246504102,
            0,
            0,
            0,
            10770043.246504102,
            6153869.497370499,
            6153869.497370499,
            6230797.509217682,
            6230797.509217682,
            0,
            6230797.509217682,
            5385021.623252051,
            4102579.6649136664,
            0,
            16155064.869756153,
            9538886.629397172,
            0,
            9538886.629397172,
            0,
            6230797.509217682,
            12846975.749576665,
            9538886.629397172,
            0,
            6230797.509217682,
            6230797.509217682,
            0,
            0,
            0,
            0,
            0,
            0,
            0,
            0,
            6230797.509217682,
            6230797.509217682,
            6230797.509217682,
            6230797.509217682,
            6230797.509217682,
            9538886.629397172,
            12846975.749576665,
            6230797.509217682,
            9538886.629397172,
            10770043.246504102,
            0,
            0,
            0,
            12846975.749576665,
            0,
            6076941.485523312,
            0,
            12846975.749576665,
            16155064.869756153,
            0,
            10770043.246504102,
            10770043.246504102,
            10770043.246504102,
            5385021.623252051,
            6230797.509217682,
            9538886.629397172,
            0,
            0,
            10770043.246504102,
            5385021.623252051,
            6230797.509217682,
            6230797.509217682,
            10770043.246504102,
            12846975.749576665,
            0,
            9538886.629397172,
            9538886.629397172,
            0,
            0,
            5385021.623252051,
            0,
            10770043.246504102,
            12846975.749576665,
            5385021.623252051,
            12846975.749576665,
            6046170.280784442
           ]
          },
          {
           "label": "A.2_Dike Investment Costs",
           "values": [
            0,
            53358573,
            0,
            0,
            47842699.56310011,
            47842699.56310011,
            0,
            0,
            38245121,
            38245121,
            73315450,
            38245121,
            53358573,
            38245121,
            38245121,
            0,
            38245121,
            47842699,
            38245121.951764055,
            42818415,
            38245121,
            38245121,
            38245121,
            42818415,
            38245121,
            38245121,
            42818415.6714978,
            38245121.951764055,
            42818415.6714978,
            47842699.56310011,
            38245121,
            42818415,
            0,
            42818415,
            38245121,
            38245121,
            38245121,
            38245121,
            38245121,
            38245121,
            38245121,
            38245121.951764055,
            38245121.951764055,
            47842699.56310011,
            47842699.56310011,
            42818415.6714978,
            42818415.6714978,
            38245121.951764055,
            59410102.93073928,
            0,
            42818415.6714978,
            38245121.951764055,
            0,
            42818415.6714978,
            73315450.27094865,
            47842699.56310011,
            53358573.6002109,
            47842699.56310011,
            38245121,
            38245121,
            47842699,
            38245121,
            42818415.6714978,
            42818415.6714978,
            38245121.951764055,
            38245121.951764055,
            47842699.56310011,
            38245121.951764055,
            38245121,
            38245121,
            38245121,
            42818415,
            42818415,
            42818415,
            42818415,
            73315450,
            38245121,
            42818415,
            38245121,
            0
           ]
          },
          {
           "label": "A.3_Expected Number of Deaths",
           "values": [
            0,
            0.006258243103199858,
            0,
            0,
            0.018774729309599576,
            0.06573665503048845,
            0,
            0.0181860882820448,
            0,
            0.007562620550765875,
            0.018774729309599576,
            0.012454595936646974,
            0.012516486206399715,
            0,
            0,
            0.06548556211930318,
            0.05016637742725391,
            0.018150289321838098,
            0.0659877479416737,
            0.018774729309599576,
            0.0018774729309599574,
            0.0022529675171519487,
            0.0659877479416737,
            0.012454595936646974,
            0,
            0.006258243103199858,
            0.0051894149736029065,
            0,
            0.0022529675171519487,
            0,
            0,
            0,
            0,
            0.023845982707029225,
            0.000750989172383983,
            0.006258243103199858,
            0.06623884085285897,
            0.006258243103199858,
            0.018774729309599576,
            0.009898162191251057,
            0,
            0.006758902551455847,
            0.004505935034303897,
            0.006258243103199858,
            0.018774729309599576,
            0.006758902551455847,
            0.06623884085285897,
            0.06573665503048845,
            0.0028162093964399365,
            0,
            0.018774729309599576,
            0.006258243103199858,
            0,
            0.006758902551455847,
            0.006258243103199858,
            0.0022529675171519487,
            0.06573665503048845,
            0.012516486206399715,
            0,
            0.0022529675171519487,
            0.018774729309599576,
            0.0181860882820448,
            0.0009387364654799787,
            0.004505935034303897,
            0,
            0.018774729309599576,
            0.023665195810975842,
            0.00986049825457327,
            0,
            0,
            0.012516486206399715,
            0.06623884085285897,
            0.0028162093964399365,
            0.004505935034303897,
            0.006758902551455847,
            0.006258243103199858,
            0,
            0.0659877479416737,
            0.00986049825457327,
            0
           ]
          },
          {
           "label": "A.3_Expected Annual Damage",
           "values": [
            0,
            3932240.4916289286,
            0,
            0,
            11796721.474886784,
            41936137.20462406,
            0,
            11585409.415509012,
            0,
            32009849.374479514,
            11796721.474886784,
            21903285.42468315,
            7864480.983257857,
            0,
            0,
            41845999.14479815,
            31919711.314653605,
            32009849.374479514,
            42026275.26444997,
            11796721.474886784,
            7864480.983257857,
            3932240.4916289286,
            42026275.26444997,
            21903285.42468315,
            0,
            3932240.4916289286,
            21903285.42468315,
            0,
            11796721.474886784,
            0,
            0,
            0,
            0,
            42116413.32427587,
            3932240.4916289286,
            3932240.4916289286,
            42116413.32427587,
            3932240.4916289286,
            11796721.474886784,
            42026275.26444997,
            0,
            11796721.474886784,
            7864480.983257857,
            3932240.4916289286,
            11796721.474886784,
            11796721.474886784,
            42116413.32427587,
            41936137.20462406,
            11796721.474886784,
            0,
            11796721.474886784,
            3932240.4916289286,
            0,
            11796721.474886784,
            3932240.4916289286,
            3932240.4916289286,
            41936137.20462406,
            7864480.983257857,
            0,
            3932240.4916289286,
            11796721.474886784,
            11585409.415509012,
            3932240.4916289286,
            7864480.983257857,
            0,
            11796721.474886784,
            41936137.20462406,
            41936137.20462406,
            0,
            0,
            7864480.983257857,
            42116413.32427587,
            11796721.474886784,
            7864480.983257857,
            11796721.474886784,
            3932240.4916289286,
            0,
            42026275.26444997,
            41936137.20462406,
            0
           ]
          },
          {
           "label": "A.3_Dike Investment Costs",
           "values": [
            41292219.28177295,
            20299287.62732069,
            0,
            20299287.62732069,
            20299287.62732069,
            0,
            20299287,
            0,
            48047840,
            20299287,
            20299287,
            20299287,
            20299287,
            20299287,
            20299287,
            0,
            20299287,
            20299287,
            0,
            20299287.62732069,
            41292219.28177295,
            20299287.62732069,
            0,
            20299287.62732069,
            22167818.198803756,
            41292219.28177295,
            20299287,
            20299287,
            20299287,
            22167818,
            20299287.62732069,
            22167818.198803756,
            0,
            0,
            43224599.14167526,
            45324187.55237766,
            0,
            43224599.14167526,
            20299287.62732069,
            0,
            45324187.55237766,
            20299287,
            20299287,
            20299287,
            20299287,
            20299287.62732069,
            0,
            0,
            20299287,
            0,
            20299287,
            20299287,
            20299287,
            20299287,
            20299287,
            20299287.62732069,
            0,
            20299287.62732069,
            61001668.01785916,
            41292219.28177295,
            20299287.62732069,
            0,
            20299287,
            20299287,
            22167818,
            20299287,
            0,
            0,
            0,
            50081750.6289765,
            20299287.62732069,
            0,
            20299287.62732069,
            20299287.62732069,
            20299287.62732069,
            20299287.62732069,
            34221561.73832255,
            0,
            0,
            0
           ]
          },
          {
           "label": "RfR Total Costs",
           "values": [
            432800000,
            0,
            92100000,
            92100000,
            0,
            0,
            30700000,
            30700000,
            0,
            0,
            0,
            0,
            0,
            30700000,
            30700000,
            0,
            0,
            0,
            0,
            0,
            0,
            0,
            0,
            0,
            0,
            0,
            0,
            30700000,
            0,
            0,
            30700000,
            0,
            303800000,
            0,
            0,
            0,
            0,
            0,
            0,
            0,
            0,
            0,
            0,
            0,
            0,
            0,
            0,
            0,
            0,
            61400000,
            0,
            0,
            0,
            0,
            0,
            0,
            0,
            0,
            0,
            0,
            0,
            30700000,
            0,
            0,
            0,
            0,
            0,
            0,
            61400000,
            0,
            0,
            0,
            0,
            0,
            0,
            0,
            0,
            0,
            0,
            182600000
           ]
          },
          {
           "label": "Expected Evacuation Costs",
           "values": [
            0,
            0,
            0,
            0,
            0,
            0,
            0,
            0,
            230.04970859228757,
            1188.3564793322998,
            0,
            532.3522820163715,
            0,
            0,
            0,
            0,
            0,
            577.2389019045721,
            0,
            0,
            462.82954089755196,
            357.1155283150724,
            0,
            393.78116342901717,
            230.04970859228757,
            0,
            653.7382595989544,
            0,
            537.9021405371088,
            0,
            0,
            0,
            0,
            760.6966403801271,
            430.4002867419238,
            0,
            0,
            0,
            0,
            1615.6877640616378,
            0,
            348.89454354081664,
            353.0050359279445,
            0,
            0,
            210.3234249534623,
            0,
            0,
            349.16974845789633,
            0,
            0,
            0,
            0,
            210.3234249534623,
            0,
            310.9251554526209,
            0,
            0,
            477.2489247522674,
            282.89722761012376,
            0,
            0,
            516.1843401068902,
            260.6242902030416,
            0,
            0,
            1000.9704215807933,
            1738.4505376499178,
            0,
            0,
            0,
            0,
            911.4278250988654,
            260.6242902030416,
            210.3234249534623,
            0,
            476.47766015168725,
            0,
            1738.4505376499178,
            0
           ]
          }
         ],
         "domain": {
          "x": [
           0,
           1
          ],
          "y": [
           0,
           1
          ]
         },
         "line": {
          "color": [
           0,
           1,
           2,
           3,
           4,
           5,
           6,
           7,
           8,
           9,
           10,
           11,
           12,
           13,
           14,
           15,
           16,
           17,
           18,
           19,
           20,
           21,
           22,
           23,
           24,
           25,
           26,
           27,
           28,
           29,
           30,
           31,
           32,
           33,
           34,
           35,
           36,
           37,
           38,
           39,
           40,
           41,
           42,
           43,
           44,
           45,
           46,
           47,
           48,
           49,
           50,
           51,
           52,
           53,
           54,
           55,
           56,
           57,
           58,
           59,
           60,
           61,
           62,
           63,
           64,
           65,
           66,
           67,
           68,
           69,
           70,
           71,
           72,
           73,
           74,
           75,
           76,
           77,
           78,
           79
          ],
          "coloraxis": "coloraxis"
         },
         "name": "",
         "type": "parcoords"
        }
       ],
       "layout": {
        "coloraxis": {
         "colorbar": {
          "title": {
           "text": "index"
          }
         },
         "colorscale": [
          [
           0,
           "#0d0887"
          ],
          [
           0.1111111111111111,
           "#46039f"
          ],
          [
           0.2222222222222222,
           "#7201a8"
          ],
          [
           0.3333333333333333,
           "#9c179e"
          ],
          [
           0.4444444444444444,
           "#bd3786"
          ],
          [
           0.5555555555555556,
           "#d8576b"
          ],
          [
           0.6666666666666666,
           "#ed7953"
          ],
          [
           0.7777777777777778,
           "#fb9f3a"
          ],
          [
           0.8888888888888888,
           "#fdca26"
          ],
          [
           1,
           "#f0f921"
          ]
         ]
        },
        "height": 600,
        "legend": {
         "tracegroupgap": 0
        },
        "margin": {
         "t": 60
        },
        "template": {
         "data": {
          "bar": [
           {
            "error_x": {
             "color": "#2a3f5f"
            },
            "error_y": {
             "color": "#2a3f5f"
            },
            "marker": {
             "line": {
              "color": "#E5ECF6",
              "width": 0.5
             }
            },
            "type": "bar"
           }
          ],
          "barpolar": [
           {
            "marker": {
             "line": {
              "color": "#E5ECF6",
              "width": 0.5
             }
            },
            "type": "barpolar"
           }
          ],
          "carpet": [
           {
            "aaxis": {
             "endlinecolor": "#2a3f5f",
             "gridcolor": "white",
             "linecolor": "white",
             "minorgridcolor": "white",
             "startlinecolor": "#2a3f5f"
            },
            "baxis": {
             "endlinecolor": "#2a3f5f",
             "gridcolor": "white",
             "linecolor": "white",
             "minorgridcolor": "white",
             "startlinecolor": "#2a3f5f"
            },
            "type": "carpet"
           }
          ],
          "choropleth": [
           {
            "colorbar": {
             "outlinewidth": 0,
             "ticks": ""
            },
            "type": "choropleth"
           }
          ],
          "contour": [
           {
            "colorbar": {
             "outlinewidth": 0,
             "ticks": ""
            },
            "colorscale": [
             [
              0,
              "#0d0887"
             ],
             [
              0.1111111111111111,
              "#46039f"
             ],
             [
              0.2222222222222222,
              "#7201a8"
             ],
             [
              0.3333333333333333,
              "#9c179e"
             ],
             [
              0.4444444444444444,
              "#bd3786"
             ],
             [
              0.5555555555555556,
              "#d8576b"
             ],
             [
              0.6666666666666666,
              "#ed7953"
             ],
             [
              0.7777777777777778,
              "#fb9f3a"
             ],
             [
              0.8888888888888888,
              "#fdca26"
             ],
             [
              1,
              "#f0f921"
             ]
            ],
            "type": "contour"
           }
          ],
          "contourcarpet": [
           {
            "colorbar": {
             "outlinewidth": 0,
             "ticks": ""
            },
            "type": "contourcarpet"
           }
          ],
          "heatmap": [
           {
            "colorbar": {
             "outlinewidth": 0,
             "ticks": ""
            },
            "colorscale": [
             [
              0,
              "#0d0887"
             ],
             [
              0.1111111111111111,
              "#46039f"
             ],
             [
              0.2222222222222222,
              "#7201a8"
             ],
             [
              0.3333333333333333,
              "#9c179e"
             ],
             [
              0.4444444444444444,
              "#bd3786"
             ],
             [
              0.5555555555555556,
              "#d8576b"
             ],
             [
              0.6666666666666666,
              "#ed7953"
             ],
             [
              0.7777777777777778,
              "#fb9f3a"
             ],
             [
              0.8888888888888888,
              "#fdca26"
             ],
             [
              1,
              "#f0f921"
             ]
            ],
            "type": "heatmap"
           }
          ],
          "heatmapgl": [
           {
            "colorbar": {
             "outlinewidth": 0,
             "ticks": ""
            },
            "colorscale": [
             [
              0,
              "#0d0887"
             ],
             [
              0.1111111111111111,
              "#46039f"
             ],
             [
              0.2222222222222222,
              "#7201a8"
             ],
             [
              0.3333333333333333,
              "#9c179e"
             ],
             [
              0.4444444444444444,
              "#bd3786"
             ],
             [
              0.5555555555555556,
              "#d8576b"
             ],
             [
              0.6666666666666666,
              "#ed7953"
             ],
             [
              0.7777777777777778,
              "#fb9f3a"
             ],
             [
              0.8888888888888888,
              "#fdca26"
             ],
             [
              1,
              "#f0f921"
             ]
            ],
            "type": "heatmapgl"
           }
          ],
          "histogram": [
           {
            "marker": {
             "colorbar": {
              "outlinewidth": 0,
              "ticks": ""
             }
            },
            "type": "histogram"
           }
          ],
          "histogram2d": [
           {
            "colorbar": {
             "outlinewidth": 0,
             "ticks": ""
            },
            "colorscale": [
             [
              0,
              "#0d0887"
             ],
             [
              0.1111111111111111,
              "#46039f"
             ],
             [
              0.2222222222222222,
              "#7201a8"
             ],
             [
              0.3333333333333333,
              "#9c179e"
             ],
             [
              0.4444444444444444,
              "#bd3786"
             ],
             [
              0.5555555555555556,
              "#d8576b"
             ],
             [
              0.6666666666666666,
              "#ed7953"
             ],
             [
              0.7777777777777778,
              "#fb9f3a"
             ],
             [
              0.8888888888888888,
              "#fdca26"
             ],
             [
              1,
              "#f0f921"
             ]
            ],
            "type": "histogram2d"
           }
          ],
          "histogram2dcontour": [
           {
            "colorbar": {
             "outlinewidth": 0,
             "ticks": ""
            },
            "colorscale": [
             [
              0,
              "#0d0887"
             ],
             [
              0.1111111111111111,
              "#46039f"
             ],
             [
              0.2222222222222222,
              "#7201a8"
             ],
             [
              0.3333333333333333,
              "#9c179e"
             ],
             [
              0.4444444444444444,
              "#bd3786"
             ],
             [
              0.5555555555555556,
              "#d8576b"
             ],
             [
              0.6666666666666666,
              "#ed7953"
             ],
             [
              0.7777777777777778,
              "#fb9f3a"
             ],
             [
              0.8888888888888888,
              "#fdca26"
             ],
             [
              1,
              "#f0f921"
             ]
            ],
            "type": "histogram2dcontour"
           }
          ],
          "mesh3d": [
           {
            "colorbar": {
             "outlinewidth": 0,
             "ticks": ""
            },
            "type": "mesh3d"
           }
          ],
          "parcoords": [
           {
            "line": {
             "colorbar": {
              "outlinewidth": 0,
              "ticks": ""
             }
            },
            "type": "parcoords"
           }
          ],
          "pie": [
           {
            "automargin": true,
            "type": "pie"
           }
          ],
          "scatter": [
           {
            "marker": {
             "colorbar": {
              "outlinewidth": 0,
              "ticks": ""
             }
            },
            "type": "scatter"
           }
          ],
          "scatter3d": [
           {
            "line": {
             "colorbar": {
              "outlinewidth": 0,
              "ticks": ""
             }
            },
            "marker": {
             "colorbar": {
              "outlinewidth": 0,
              "ticks": ""
             }
            },
            "type": "scatter3d"
           }
          ],
          "scattercarpet": [
           {
            "marker": {
             "colorbar": {
              "outlinewidth": 0,
              "ticks": ""
             }
            },
            "type": "scattercarpet"
           }
          ],
          "scattergeo": [
           {
            "marker": {
             "colorbar": {
              "outlinewidth": 0,
              "ticks": ""
             }
            },
            "type": "scattergeo"
           }
          ],
          "scattergl": [
           {
            "marker": {
             "colorbar": {
              "outlinewidth": 0,
              "ticks": ""
             }
            },
            "type": "scattergl"
           }
          ],
          "scattermapbox": [
           {
            "marker": {
             "colorbar": {
              "outlinewidth": 0,
              "ticks": ""
             }
            },
            "type": "scattermapbox"
           }
          ],
          "scatterpolar": [
           {
            "marker": {
             "colorbar": {
              "outlinewidth": 0,
              "ticks": ""
             }
            },
            "type": "scatterpolar"
           }
          ],
          "scatterpolargl": [
           {
            "marker": {
             "colorbar": {
              "outlinewidth": 0,
              "ticks": ""
             }
            },
            "type": "scatterpolargl"
           }
          ],
          "scatterternary": [
           {
            "marker": {
             "colorbar": {
              "outlinewidth": 0,
              "ticks": ""
             }
            },
            "type": "scatterternary"
           }
          ],
          "surface": [
           {
            "colorbar": {
             "outlinewidth": 0,
             "ticks": ""
            },
            "colorscale": [
             [
              0,
              "#0d0887"
             ],
             [
              0.1111111111111111,
              "#46039f"
             ],
             [
              0.2222222222222222,
              "#7201a8"
             ],
             [
              0.3333333333333333,
              "#9c179e"
             ],
             [
              0.4444444444444444,
              "#bd3786"
             ],
             [
              0.5555555555555556,
              "#d8576b"
             ],
             [
              0.6666666666666666,
              "#ed7953"
             ],
             [
              0.7777777777777778,
              "#fb9f3a"
             ],
             [
              0.8888888888888888,
              "#fdca26"
             ],
             [
              1,
              "#f0f921"
             ]
            ],
            "type": "surface"
           }
          ],
          "table": [
           {
            "cells": {
             "fill": {
              "color": "#EBF0F8"
             },
             "line": {
              "color": "white"
             }
            },
            "header": {
             "fill": {
              "color": "#C8D4E3"
             },
             "line": {
              "color": "white"
             }
            },
            "type": "table"
           }
          ]
         },
         "layout": {
          "annotationdefaults": {
           "arrowcolor": "#2a3f5f",
           "arrowhead": 0,
           "arrowwidth": 1
          },
          "autotypenumbers": "strict",
          "coloraxis": {
           "colorbar": {
            "outlinewidth": 0,
            "ticks": ""
           }
          },
          "colorscale": {
           "diverging": [
            [
             0,
             "#8e0152"
            ],
            [
             0.1,
             "#c51b7d"
            ],
            [
             0.2,
             "#de77ae"
            ],
            [
             0.3,
             "#f1b6da"
            ],
            [
             0.4,
             "#fde0ef"
            ],
            [
             0.5,
             "#f7f7f7"
            ],
            [
             0.6,
             "#e6f5d0"
            ],
            [
             0.7,
             "#b8e186"
            ],
            [
             0.8,
             "#7fbc41"
            ],
            [
             0.9,
             "#4d9221"
            ],
            [
             1,
             "#276419"
            ]
           ],
           "sequential": [
            [
             0,
             "#0d0887"
            ],
            [
             0.1111111111111111,
             "#46039f"
            ],
            [
             0.2222222222222222,
             "#7201a8"
            ],
            [
             0.3333333333333333,
             "#9c179e"
            ],
            [
             0.4444444444444444,
             "#bd3786"
            ],
            [
             0.5555555555555556,
             "#d8576b"
            ],
            [
             0.6666666666666666,
             "#ed7953"
            ],
            [
             0.7777777777777778,
             "#fb9f3a"
            ],
            [
             0.8888888888888888,
             "#fdca26"
            ],
            [
             1,
             "#f0f921"
            ]
           ],
           "sequentialminus": [
            [
             0,
             "#0d0887"
            ],
            [
             0.1111111111111111,
             "#46039f"
            ],
            [
             0.2222222222222222,
             "#7201a8"
            ],
            [
             0.3333333333333333,
             "#9c179e"
            ],
            [
             0.4444444444444444,
             "#bd3786"
            ],
            [
             0.5555555555555556,
             "#d8576b"
            ],
            [
             0.6666666666666666,
             "#ed7953"
            ],
            [
             0.7777777777777778,
             "#fb9f3a"
            ],
            [
             0.8888888888888888,
             "#fdca26"
            ],
            [
             1,
             "#f0f921"
            ]
           ]
          },
          "colorway": [
           "#636efa",
           "#EF553B",
           "#00cc96",
           "#ab63fa",
           "#FFA15A",
           "#19d3f3",
           "#FF6692",
           "#B6E880",
           "#FF97FF",
           "#FECB52"
          ],
          "font": {
           "color": "#2a3f5f"
          },
          "geo": {
           "bgcolor": "white",
           "lakecolor": "white",
           "landcolor": "#E5ECF6",
           "showlakes": true,
           "showland": true,
           "subunitcolor": "white"
          },
          "hoverlabel": {
           "align": "left"
          },
          "hovermode": "closest",
          "mapbox": {
           "style": "light"
          },
          "paper_bgcolor": "white",
          "plot_bgcolor": "#E5ECF6",
          "polar": {
           "angularaxis": {
            "gridcolor": "white",
            "linecolor": "white",
            "ticks": ""
           },
           "bgcolor": "#E5ECF6",
           "radialaxis": {
            "gridcolor": "white",
            "linecolor": "white",
            "ticks": ""
           }
          },
          "scene": {
           "xaxis": {
            "backgroundcolor": "#E5ECF6",
            "gridcolor": "white",
            "gridwidth": 2,
            "linecolor": "white",
            "showbackground": true,
            "ticks": "",
            "zerolinecolor": "white"
           },
           "yaxis": {
            "backgroundcolor": "#E5ECF6",
            "gridcolor": "white",
            "gridwidth": 2,
            "linecolor": "white",
            "showbackground": true,
            "ticks": "",
            "zerolinecolor": "white"
           },
           "zaxis": {
            "backgroundcolor": "#E5ECF6",
            "gridcolor": "white",
            "gridwidth": 2,
            "linecolor": "white",
            "showbackground": true,
            "ticks": "",
            "zerolinecolor": "white"
           }
          },
          "shapedefaults": {
           "line": {
            "color": "#2a3f5f"
           }
          },
          "ternary": {
           "aaxis": {
            "gridcolor": "white",
            "linecolor": "white",
            "ticks": ""
           },
           "baxis": {
            "gridcolor": "white",
            "linecolor": "white",
            "ticks": ""
           },
           "bgcolor": "#E5ECF6",
           "caxis": {
            "gridcolor": "white",
            "linecolor": "white",
            "ticks": ""
           }
          },
          "title": {
           "x": 0.05
          },
          "xaxis": {
           "automargin": true,
           "gridcolor": "white",
           "linecolor": "white",
           "ticks": "",
           "title": {
            "standoff": 15
           },
           "zerolinecolor": "white",
           "zerolinewidth": 2
          },
          "yaxis": {
           "automargin": true,
           "gridcolor": "white",
           "linecolor": "white",
           "ticks": "",
           "title": {
            "standoff": 15
           },
           "zerolinecolor": "white",
           "zerolinewidth": 2
          }
         }
        },
        "width": 2000
       }
      },
      "text/html": [
       "<div>                            <div id=\"f017ba33-80d6-4c0d-90d7-ec2fea0281d4\" class=\"plotly-graph-div\" style=\"height:600px; width:2000px;\"></div>            <script type=\"text/javascript\">                require([\"plotly\"], function(Plotly) {                    window.PLOTLYENV=window.PLOTLYENV || {};                                    if (document.getElementById(\"f017ba33-80d6-4c0d-90d7-ec2fea0281d4\")) {                    Plotly.newPlot(                        \"f017ba33-80d6-4c0d-90d7-ec2fea0281d4\",                        [{\"dimensions\": [{\"label\": \"A.1_Expected Number of Deaths\", \"values\": [0.0, 0.0, 0.0, 0.0, 0.0, 0.0, 0.0, 0.0, 0.0, 0.0, 0.0, 0.0, 0.0, 0.0, 0.0, 0.0, 0.0, 0.0, 0.0, 0.0, 0.0, 0.0, 0.0, 0.0, 0.0, 0.0, 0.0, 0.0, 0.0, 0.0, 0.0, 0.0, 0.0, 0.0, 0.0, 0.0, 0.0, 0.0, 0.0, 0.0, 0.0, 0.0, 0.0, 0.0, 0.0, 0.0, 0.0, 0.0, 0.0, 0.0, 0.0, 0.0, 0.0, 0.0, 0.0, 0.0, 0.0, 0.0, 0.0, 0.0, 0.0, 0.0, 0.0, 0.0, 0.0, 0.0, 0.0, 0.0, 0.0, 0.0, 0.0, 0.0, 0.0, 0.0, 0.0, 0.0, 0.0, 0.0, 0.0, 0.0]}, {\"label\": \"A.1_Expected Annual Damage\", \"values\": [0.0, 0.0, 0.0, 0.0, 0.0, 0.0, 0.0, 0.0, 0.0, 0.0, 0.0, 0.0, 0.0, 0.0, 0.0, 0.0, 0.0, 0.0, 0.0, 0.0, 0.0, 0.0, 0.0, 0.0, 0.0, 0.0, 0.0, 0.0, 0.0, 0.0, 0.0, 0.0, 0.0, 0.0, 0.0, 0.0, 0.0, 0.0, 0.0, 0.0, 0.0, 0.0, 0.0, 0.0, 0.0, 0.0, 0.0, 0.0, 0.0, 0.0, 0.0, 0.0, 0.0, 0.0, 0.0, 0.0, 0.0, 0.0, 0.0, 0.0, 0.0, 0.0, 0.0, 0.0, 0.0, 0.0, 0.0, 0.0, 0.0, 0.0, 0.0, 0.0, 0.0, 0.0, 0.0, 0.0, 0.0, 0.0, 0.0, 0.0]}, {\"label\": \"A.1_Dike Investment Costs\", \"values\": [0.0, 42291505.65437629, 103162272.08375776, 66507014.9338145, 0.0, 82486364.32617709, 0.0, 0.0, 32694901.09416193, 32694901.09416193, 0.0, 76431543.68310125, 0.0, 0.0, 42291505.65437629, 0.0, 0.0, 0.0, 0.0, 125797238.44921105, 0.0, 66507014.9338145, 32694901.09416193, 0.0, 125788764.77143934, 66507014.9338145, 0.0, 0.0, 47847947.0, 32694901.09416193, 0.0, 0.0, 32694901.09416193, 0.0, 0.0, 0.0, 0.0, 42291505.0, 0.0, 0.0, 0.0, 0.0, 0.0, 60717312.84309486, 32694901.09416193, 0.0, 0.0, 32694901.09416193, 0.0, 0.0, 83497824.69174261, 0.0, 0.0, 78453877.84187987, 0.0, 32694901.09416193, 0.0, 68139002.95605196, 0.0, 0.0, 32694901.09416193, 0.0, 0.0, 32694901.09416193, 0.0, 32694901.09416193, 0.0, 0.0, 0.0, 0.0, 0.0, 42291505.0, 0.0, 0.0, 37255203.0, 0.0, 0.0, 0.0, 32694901.0, 0.0]}, {\"label\": \"A.2_Expected Number of Deaths\", \"values\": [0.0, 0.009067007012168823, 0.0, 0.0, 0.0, 0.009067007012168823, 0.005211056630899173, 0.005211056630899173, 0.0008001162711420771, 0.0008001162711420771, 0.0, 0.0019202790507409848, 0.0045335035060844135, 0.0034740377539327822, 0.0, 0.01360051051825324, 0.008089575822271421, 0.0, 0.008089575822271421, 0.0, 0.0008001162711420771, 0.0039042155412944385, 0.008089575822271421, 0.0, 0.0008001162711420771, 0.005334108474280513, 0.0, 0.0, 0.0, 0.0, 0.0, 0.0, 0.0, 0.0, 0.0006400930169136617, 0.005334108474280513, 0.005334108474280513, 0.005334108474280513, 0.005334108474280513, 0.0012134363733407134, 0.010845043170262329, 0.0019202790507409848, 0.0029122472960177114, 0.009067007012168823, 0.0, 0.0, 0.0, 0.010845043170262329, 0.0, 0.005088004787517832, 0.0, 0.010845043170262329, 0.01360051051825324, 0.0, 0.009067007012168823, 0.003264122524380777, 0.009067007012168823, 0.0045335035060844135, 0.0019202790507409848, 0.0029122472960177114, 0.0, 0.0, 0.0013600510518253235, 0.0016320612621903885, 0.005334108474280513, 0.005334108474280513, 0.003264122524380777, 0.0016267564755393495, 0.0, 0.008089575822271421, 0.008089575822271421, 0.0, 0.0, 0.0016320612621903885, 0.0, 0.009067007012168823, 0.0016267564755393495, 0.0045335035060844135, 0.0016267564755393495, 0.0050387840501652965]}, {\"label\": \"A.2_Expected Annual Damage\", \"values\": [0.0, 10770043.246504102, 0.0, 0.0, 0.0, 10770043.246504102, 6153869.497370499, 6153869.497370499, 6230797.509217682, 6230797.509217682, 0.0, 6230797.509217682, 5385021.623252051, 4102579.6649136664, 0.0, 16155064.869756153, 9538886.629397172, 0.0, 9538886.629397172, 0.0, 6230797.509217682, 12846975.749576665, 9538886.629397172, 0.0, 6230797.509217682, 6230797.509217682, 0.0, 0.0, 0.0, 0.0, 0.0, 0.0, 0.0, 0.0, 6230797.509217682, 6230797.509217682, 6230797.509217682, 6230797.509217682, 6230797.509217682, 9538886.629397172, 12846975.749576665, 6230797.509217682, 9538886.629397172, 10770043.246504102, 0.0, 0.0, 0.0, 12846975.749576665, 0.0, 6076941.485523312, 0.0, 12846975.749576665, 16155064.869756153, 0.0, 10770043.246504102, 10770043.246504102, 10770043.246504102, 5385021.623252051, 6230797.509217682, 9538886.629397172, 0.0, 0.0, 10770043.246504102, 5385021.623252051, 6230797.509217682, 6230797.509217682, 10770043.246504102, 12846975.749576665, 0.0, 9538886.629397172, 9538886.629397172, 0.0, 0.0, 5385021.623252051, 0.0, 10770043.246504102, 12846975.749576665, 5385021.623252051, 12846975.749576665, 6046170.280784442]}, {\"label\": \"A.2_Dike Investment Costs\", \"values\": [0.0, 53358573.0, 0.0, 0.0, 47842699.56310011, 47842699.56310011, 0.0, 0.0, 38245121.0, 38245121.0, 73315450.0, 38245121.0, 53358573.0, 38245121.0, 38245121.0, 0.0, 38245121.0, 47842699.0, 38245121.951764055, 42818415.0, 38245121.0, 38245121.0, 38245121.0, 42818415.0, 38245121.0, 38245121.0, 42818415.6714978, 38245121.951764055, 42818415.6714978, 47842699.56310011, 38245121.0, 42818415.0, 0.0, 42818415.0, 38245121.0, 38245121.0, 38245121.0, 38245121.0, 38245121.0, 38245121.0, 38245121.0, 38245121.951764055, 38245121.951764055, 47842699.56310011, 47842699.56310011, 42818415.6714978, 42818415.6714978, 38245121.951764055, 59410102.93073928, 0.0, 42818415.6714978, 38245121.951764055, 0.0, 42818415.6714978, 73315450.27094865, 47842699.56310011, 53358573.6002109, 47842699.56310011, 38245121.0, 38245121.0, 47842699.0, 38245121.0, 42818415.6714978, 42818415.6714978, 38245121.951764055, 38245121.951764055, 47842699.56310011, 38245121.951764055, 38245121.0, 38245121.0, 38245121.0, 42818415.0, 42818415.0, 42818415.0, 42818415.0, 73315450.0, 38245121.0, 42818415.0, 38245121.0, 0.0]}, {\"label\": \"A.3_Expected Number of Deaths\", \"values\": [0.0, 0.006258243103199858, 0.0, 0.0, 0.018774729309599576, 0.06573665503048845, 0.0, 0.0181860882820448, 0.0, 0.007562620550765875, 0.018774729309599576, 0.012454595936646974, 0.012516486206399715, 0.0, 0.0, 0.06548556211930318, 0.05016637742725391, 0.018150289321838098, 0.0659877479416737, 0.018774729309599576, 0.0018774729309599574, 0.0022529675171519487, 0.0659877479416737, 0.012454595936646974, 0.0, 0.006258243103199858, 0.0051894149736029065, 0.0, 0.0022529675171519487, 0.0, 0.0, 0.0, 0.0, 0.023845982707029225, 0.000750989172383983, 0.006258243103199858, 0.06623884085285897, 0.006258243103199858, 0.018774729309599576, 0.009898162191251057, 0.0, 0.006758902551455847, 0.004505935034303897, 0.006258243103199858, 0.018774729309599576, 0.006758902551455847, 0.06623884085285897, 0.06573665503048845, 0.0028162093964399365, 0.0, 0.018774729309599576, 0.006258243103199858, 0.0, 0.006758902551455847, 0.006258243103199858, 0.0022529675171519487, 0.06573665503048845, 0.012516486206399715, 0.0, 0.0022529675171519487, 0.018774729309599576, 0.0181860882820448, 0.0009387364654799787, 0.004505935034303897, 0.0, 0.018774729309599576, 0.023665195810975842, 0.00986049825457327, 0.0, 0.0, 0.012516486206399715, 0.06623884085285897, 0.0028162093964399365, 0.004505935034303897, 0.006758902551455847, 0.006258243103199858, 0.0, 0.0659877479416737, 0.00986049825457327, 0.0]}, {\"label\": \"A.3_Expected Annual Damage\", \"values\": [0.0, 3932240.4916289286, 0.0, 0.0, 11796721.474886784, 41936137.20462406, 0.0, 11585409.415509012, 0.0, 32009849.374479514, 11796721.474886784, 21903285.42468315, 7864480.983257857, 0.0, 0.0, 41845999.14479815, 31919711.314653605, 32009849.374479514, 42026275.26444997, 11796721.474886784, 7864480.983257857, 3932240.4916289286, 42026275.26444997, 21903285.42468315, 0.0, 3932240.4916289286, 21903285.42468315, 0.0, 11796721.474886784, 0.0, 0.0, 0.0, 0.0, 42116413.32427587, 3932240.4916289286, 3932240.4916289286, 42116413.32427587, 3932240.4916289286, 11796721.474886784, 42026275.26444997, 0.0, 11796721.474886784, 7864480.983257857, 3932240.4916289286, 11796721.474886784, 11796721.474886784, 42116413.32427587, 41936137.20462406, 11796721.474886784, 0.0, 11796721.474886784, 3932240.4916289286, 0.0, 11796721.474886784, 3932240.4916289286, 3932240.4916289286, 41936137.20462406, 7864480.983257857, 0.0, 3932240.4916289286, 11796721.474886784, 11585409.415509012, 3932240.4916289286, 7864480.983257857, 0.0, 11796721.474886784, 41936137.20462406, 41936137.20462406, 0.0, 0.0, 7864480.983257857, 42116413.32427587, 11796721.474886784, 7864480.983257857, 11796721.474886784, 3932240.4916289286, 0.0, 42026275.26444997, 41936137.20462406, 0.0]}, {\"label\": \"A.3_Dike Investment Costs\", \"values\": [41292219.28177295, 20299287.62732069, 0.0, 20299287.62732069, 20299287.62732069, 0.0, 20299287.0, 0.0, 48047840.0, 20299287.0, 20299287.0, 20299287.0, 20299287.0, 20299287.0, 20299287.0, 0.0, 20299287.0, 20299287.0, 0.0, 20299287.62732069, 41292219.28177295, 20299287.62732069, 0.0, 20299287.62732069, 22167818.198803756, 41292219.28177295, 20299287.0, 20299287.0, 20299287.0, 22167818.0, 20299287.62732069, 22167818.198803756, 0.0, 0.0, 43224599.14167526, 45324187.55237766, 0.0, 43224599.14167526, 20299287.62732069, 0.0, 45324187.55237766, 20299287.0, 20299287.0, 20299287.0, 20299287.0, 20299287.62732069, 0.0, 0.0, 20299287.0, 0.0, 20299287.0, 20299287.0, 20299287.0, 20299287.0, 20299287.0, 20299287.62732069, 0.0, 20299287.62732069, 61001668.01785916, 41292219.28177295, 20299287.62732069, 0.0, 20299287.0, 20299287.0, 22167818.0, 20299287.0, 0.0, 0.0, 0.0, 50081750.6289765, 20299287.62732069, 0.0, 20299287.62732069, 20299287.62732069, 20299287.62732069, 20299287.62732069, 34221561.73832255, 0.0, 0.0, 0.0]}, {\"label\": \"RfR Total Costs\", \"values\": [432800000.0, 0.0, 92100000.0, 92100000.0, 0.0, 0.0, 30700000.0, 30700000.0, 0.0, 0.0, 0.0, 0.0, 0.0, 30700000.0, 30700000.0, 0.0, 0.0, 0.0, 0.0, 0.0, 0.0, 0.0, 0.0, 0.0, 0.0, 0.0, 0.0, 30700000.0, 0.0, 0.0, 30700000.0, 0.0, 303800000.0, 0.0, 0.0, 0.0, 0.0, 0.0, 0.0, 0.0, 0.0, 0.0, 0.0, 0.0, 0.0, 0.0, 0.0, 0.0, 0.0, 61400000.0, 0.0, 0.0, 0.0, 0.0, 0.0, 0.0, 0.0, 0.0, 0.0, 0.0, 0.0, 30700000.0, 0.0, 0.0, 0.0, 0.0, 0.0, 0.0, 61400000.0, 0.0, 0.0, 0.0, 0.0, 0.0, 0.0, 0.0, 0.0, 0.0, 0.0, 182600000.0]}, {\"label\": \"Expected Evacuation Costs\", \"values\": [0.0, 0.0, 0.0, 0.0, 0.0, 0.0, 0.0, 0.0, 230.04970859228757, 1188.3564793322998, 0.0, 532.3522820163715, 0.0, 0.0, 0.0, 0.0, 0.0, 577.2389019045721, 0.0, 0.0, 462.82954089755196, 357.1155283150724, 0.0, 393.78116342901717, 230.04970859228757, 0.0, 653.7382595989544, 0.0, 537.9021405371088, 0.0, 0.0, 0.0, 0.0, 760.6966403801271, 430.4002867419238, 0.0, 0.0, 0.0, 0.0, 1615.6877640616378, 0.0, 348.89454354081664, 353.0050359279445, 0.0, 0.0, 210.3234249534623, 0.0, 0.0, 349.16974845789633, 0.0, 0.0, 0.0, 0.0, 210.3234249534623, 0.0, 310.9251554526209, 0.0, 0.0, 477.2489247522674, 282.89722761012376, 0.0, 0.0, 516.1843401068902, 260.6242902030416, 0.0, 0.0, 1000.9704215807933, 1738.4505376499178, 0.0, 0.0, 0.0, 0.0, 911.4278250988654, 260.6242902030416, 210.3234249534623, 0.0, 476.47766015168725, 0.0, 1738.4505376499178, 0.0]}], \"domain\": {\"x\": [0.0, 1.0], \"y\": [0.0, 1.0]}, \"line\": {\"color\": [0, 1, 2, 3, 4, 5, 6, 7, 8, 9, 10, 11, 12, 13, 14, 15, 16, 17, 18, 19, 20, 21, 22, 23, 24, 25, 26, 27, 28, 29, 30, 31, 32, 33, 34, 35, 36, 37, 38, 39, 40, 41, 42, 43, 44, 45, 46, 47, 48, 49, 50, 51, 52, 53, 54, 55, 56, 57, 58, 59, 60, 61, 62, 63, 64, 65, 66, 67, 68, 69, 70, 71, 72, 73, 74, 75, 76, 77, 78, 79], \"coloraxis\": \"coloraxis\"}, \"name\": \"\", \"type\": \"parcoords\"}],                        {\"coloraxis\": {\"colorbar\": {\"title\": {\"text\": \"index\"}}, \"colorscale\": [[0.0, \"#0d0887\"], [0.1111111111111111, \"#46039f\"], [0.2222222222222222, \"#7201a8\"], [0.3333333333333333, \"#9c179e\"], [0.4444444444444444, \"#bd3786\"], [0.5555555555555556, \"#d8576b\"], [0.6666666666666666, \"#ed7953\"], [0.7777777777777778, \"#fb9f3a\"], [0.8888888888888888, \"#fdca26\"], [1.0, \"#f0f921\"]]}, \"height\": 600, \"legend\": {\"tracegroupgap\": 0}, \"margin\": {\"t\": 60}, \"template\": {\"data\": {\"bar\": [{\"error_x\": {\"color\": \"#2a3f5f\"}, \"error_y\": {\"color\": \"#2a3f5f\"}, \"marker\": {\"line\": {\"color\": \"#E5ECF6\", \"width\": 0.5}}, \"type\": \"bar\"}], \"barpolar\": [{\"marker\": {\"line\": {\"color\": \"#E5ECF6\", \"width\": 0.5}}, \"type\": \"barpolar\"}], \"carpet\": [{\"aaxis\": {\"endlinecolor\": \"#2a3f5f\", \"gridcolor\": \"white\", \"linecolor\": \"white\", \"minorgridcolor\": \"white\", \"startlinecolor\": \"#2a3f5f\"}, \"baxis\": {\"endlinecolor\": \"#2a3f5f\", \"gridcolor\": \"white\", \"linecolor\": \"white\", \"minorgridcolor\": \"white\", \"startlinecolor\": \"#2a3f5f\"}, \"type\": \"carpet\"}], \"choropleth\": [{\"colorbar\": {\"outlinewidth\": 0, \"ticks\": \"\"}, \"type\": \"choropleth\"}], \"contour\": [{\"colorbar\": {\"outlinewidth\": 0, \"ticks\": \"\"}, \"colorscale\": [[0.0, \"#0d0887\"], [0.1111111111111111, \"#46039f\"], [0.2222222222222222, \"#7201a8\"], [0.3333333333333333, \"#9c179e\"], [0.4444444444444444, \"#bd3786\"], [0.5555555555555556, \"#d8576b\"], [0.6666666666666666, \"#ed7953\"], [0.7777777777777778, \"#fb9f3a\"], [0.8888888888888888, \"#fdca26\"], [1.0, \"#f0f921\"]], \"type\": \"contour\"}], \"contourcarpet\": [{\"colorbar\": {\"outlinewidth\": 0, \"ticks\": \"\"}, \"type\": \"contourcarpet\"}], \"heatmap\": [{\"colorbar\": {\"outlinewidth\": 0, \"ticks\": \"\"}, \"colorscale\": [[0.0, \"#0d0887\"], [0.1111111111111111, \"#46039f\"], [0.2222222222222222, \"#7201a8\"], [0.3333333333333333, \"#9c179e\"], [0.4444444444444444, \"#bd3786\"], [0.5555555555555556, \"#d8576b\"], [0.6666666666666666, \"#ed7953\"], [0.7777777777777778, \"#fb9f3a\"], [0.8888888888888888, \"#fdca26\"], [1.0, \"#f0f921\"]], \"type\": \"heatmap\"}], \"heatmapgl\": [{\"colorbar\": {\"outlinewidth\": 0, \"ticks\": \"\"}, \"colorscale\": [[0.0, \"#0d0887\"], [0.1111111111111111, \"#46039f\"], [0.2222222222222222, \"#7201a8\"], [0.3333333333333333, \"#9c179e\"], [0.4444444444444444, \"#bd3786\"], [0.5555555555555556, \"#d8576b\"], [0.6666666666666666, \"#ed7953\"], [0.7777777777777778, \"#fb9f3a\"], [0.8888888888888888, \"#fdca26\"], [1.0, \"#f0f921\"]], \"type\": \"heatmapgl\"}], \"histogram\": [{\"marker\": {\"colorbar\": {\"outlinewidth\": 0, \"ticks\": \"\"}}, \"type\": \"histogram\"}], \"histogram2d\": [{\"colorbar\": {\"outlinewidth\": 0, \"ticks\": \"\"}, \"colorscale\": [[0.0, \"#0d0887\"], [0.1111111111111111, \"#46039f\"], [0.2222222222222222, \"#7201a8\"], [0.3333333333333333, \"#9c179e\"], [0.4444444444444444, \"#bd3786\"], [0.5555555555555556, \"#d8576b\"], [0.6666666666666666, \"#ed7953\"], [0.7777777777777778, \"#fb9f3a\"], [0.8888888888888888, \"#fdca26\"], [1.0, \"#f0f921\"]], \"type\": \"histogram2d\"}], \"histogram2dcontour\": [{\"colorbar\": {\"outlinewidth\": 0, \"ticks\": \"\"}, \"colorscale\": [[0.0, \"#0d0887\"], [0.1111111111111111, \"#46039f\"], [0.2222222222222222, \"#7201a8\"], [0.3333333333333333, \"#9c179e\"], [0.4444444444444444, \"#bd3786\"], [0.5555555555555556, \"#d8576b\"], [0.6666666666666666, \"#ed7953\"], [0.7777777777777778, \"#fb9f3a\"], [0.8888888888888888, \"#fdca26\"], [1.0, \"#f0f921\"]], \"type\": \"histogram2dcontour\"}], \"mesh3d\": [{\"colorbar\": {\"outlinewidth\": 0, \"ticks\": \"\"}, \"type\": \"mesh3d\"}], \"parcoords\": [{\"line\": {\"colorbar\": {\"outlinewidth\": 0, \"ticks\": \"\"}}, \"type\": \"parcoords\"}], \"pie\": [{\"automargin\": true, \"type\": \"pie\"}], \"scatter\": [{\"marker\": {\"colorbar\": {\"outlinewidth\": 0, \"ticks\": \"\"}}, \"type\": \"scatter\"}], \"scatter3d\": [{\"line\": {\"colorbar\": {\"outlinewidth\": 0, \"ticks\": \"\"}}, \"marker\": {\"colorbar\": {\"outlinewidth\": 0, \"ticks\": \"\"}}, \"type\": \"scatter3d\"}], \"scattercarpet\": [{\"marker\": {\"colorbar\": {\"outlinewidth\": 0, \"ticks\": \"\"}}, \"type\": \"scattercarpet\"}], \"scattergeo\": [{\"marker\": {\"colorbar\": {\"outlinewidth\": 0, \"ticks\": \"\"}}, \"type\": \"scattergeo\"}], \"scattergl\": [{\"marker\": {\"colorbar\": {\"outlinewidth\": 0, \"ticks\": \"\"}}, \"type\": \"scattergl\"}], \"scattermapbox\": [{\"marker\": {\"colorbar\": {\"outlinewidth\": 0, \"ticks\": \"\"}}, \"type\": \"scattermapbox\"}], \"scatterpolar\": [{\"marker\": {\"colorbar\": {\"outlinewidth\": 0, \"ticks\": \"\"}}, \"type\": \"scatterpolar\"}], \"scatterpolargl\": [{\"marker\": {\"colorbar\": {\"outlinewidth\": 0, \"ticks\": \"\"}}, \"type\": \"scatterpolargl\"}], \"scatterternary\": [{\"marker\": {\"colorbar\": {\"outlinewidth\": 0, \"ticks\": \"\"}}, \"type\": \"scatterternary\"}], \"surface\": [{\"colorbar\": {\"outlinewidth\": 0, \"ticks\": \"\"}, \"colorscale\": [[0.0, \"#0d0887\"], [0.1111111111111111, \"#46039f\"], [0.2222222222222222, \"#7201a8\"], [0.3333333333333333, \"#9c179e\"], [0.4444444444444444, \"#bd3786\"], [0.5555555555555556, \"#d8576b\"], [0.6666666666666666, \"#ed7953\"], [0.7777777777777778, \"#fb9f3a\"], [0.8888888888888888, \"#fdca26\"], [1.0, \"#f0f921\"]], \"type\": \"surface\"}], \"table\": [{\"cells\": {\"fill\": {\"color\": \"#EBF0F8\"}, \"line\": {\"color\": \"white\"}}, \"header\": {\"fill\": {\"color\": \"#C8D4E3\"}, \"line\": {\"color\": \"white\"}}, \"type\": \"table\"}]}, \"layout\": {\"annotationdefaults\": {\"arrowcolor\": \"#2a3f5f\", \"arrowhead\": 0, \"arrowwidth\": 1}, \"autotypenumbers\": \"strict\", \"coloraxis\": {\"colorbar\": {\"outlinewidth\": 0, \"ticks\": \"\"}}, \"colorscale\": {\"diverging\": [[0, \"#8e0152\"], [0.1, \"#c51b7d\"], [0.2, \"#de77ae\"], [0.3, \"#f1b6da\"], [0.4, \"#fde0ef\"], [0.5, \"#f7f7f7\"], [0.6, \"#e6f5d0\"], [0.7, \"#b8e186\"], [0.8, \"#7fbc41\"], [0.9, \"#4d9221\"], [1, \"#276419\"]], \"sequential\": [[0.0, \"#0d0887\"], [0.1111111111111111, \"#46039f\"], [0.2222222222222222, \"#7201a8\"], [0.3333333333333333, \"#9c179e\"], [0.4444444444444444, \"#bd3786\"], [0.5555555555555556, \"#d8576b\"], [0.6666666666666666, \"#ed7953\"], [0.7777777777777778, \"#fb9f3a\"], [0.8888888888888888, \"#fdca26\"], [1.0, \"#f0f921\"]], \"sequentialminus\": [[0.0, \"#0d0887\"], [0.1111111111111111, \"#46039f\"], [0.2222222222222222, \"#7201a8\"], [0.3333333333333333, \"#9c179e\"], [0.4444444444444444, \"#bd3786\"], [0.5555555555555556, \"#d8576b\"], [0.6666666666666666, \"#ed7953\"], [0.7777777777777778, \"#fb9f3a\"], [0.8888888888888888, \"#fdca26\"], [1.0, \"#f0f921\"]]}, \"colorway\": [\"#636efa\", \"#EF553B\", \"#00cc96\", \"#ab63fa\", \"#FFA15A\", \"#19d3f3\", \"#FF6692\", \"#B6E880\", \"#FF97FF\", \"#FECB52\"], \"font\": {\"color\": \"#2a3f5f\"}, \"geo\": {\"bgcolor\": \"white\", \"lakecolor\": \"white\", \"landcolor\": \"#E5ECF6\", \"showlakes\": true, \"showland\": true, \"subunitcolor\": \"white\"}, \"hoverlabel\": {\"align\": \"left\"}, \"hovermode\": \"closest\", \"mapbox\": {\"style\": \"light\"}, \"paper_bgcolor\": \"white\", \"plot_bgcolor\": \"#E5ECF6\", \"polar\": {\"angularaxis\": {\"gridcolor\": \"white\", \"linecolor\": \"white\", \"ticks\": \"\"}, \"bgcolor\": \"#E5ECF6\", \"radialaxis\": {\"gridcolor\": \"white\", \"linecolor\": \"white\", \"ticks\": \"\"}}, \"scene\": {\"xaxis\": {\"backgroundcolor\": \"#E5ECF6\", \"gridcolor\": \"white\", \"gridwidth\": 2, \"linecolor\": \"white\", \"showbackground\": true, \"ticks\": \"\", \"zerolinecolor\": \"white\"}, \"yaxis\": {\"backgroundcolor\": \"#E5ECF6\", \"gridcolor\": \"white\", \"gridwidth\": 2, \"linecolor\": \"white\", \"showbackground\": true, \"ticks\": \"\", \"zerolinecolor\": \"white\"}, \"zaxis\": {\"backgroundcolor\": \"#E5ECF6\", \"gridcolor\": \"white\", \"gridwidth\": 2, \"linecolor\": \"white\", \"showbackground\": true, \"ticks\": \"\", \"zerolinecolor\": \"white\"}}, \"shapedefaults\": {\"line\": {\"color\": \"#2a3f5f\"}}, \"ternary\": {\"aaxis\": {\"gridcolor\": \"white\", \"linecolor\": \"white\", \"ticks\": \"\"}, \"baxis\": {\"gridcolor\": \"white\", \"linecolor\": \"white\", \"ticks\": \"\"}, \"bgcolor\": \"#E5ECF6\", \"caxis\": {\"gridcolor\": \"white\", \"linecolor\": \"white\", \"ticks\": \"\"}}, \"title\": {\"x\": 0.05}, \"xaxis\": {\"automargin\": true, \"gridcolor\": \"white\", \"linecolor\": \"white\", \"ticks\": \"\", \"title\": {\"standoff\": 15}, \"zerolinecolor\": \"white\", \"zerolinewidth\": 2}, \"yaxis\": {\"automargin\": true, \"gridcolor\": \"white\", \"linecolor\": \"white\", \"ticks\": \"\", \"title\": {\"standoff\": 15}, \"zerolinecolor\": \"white\", \"zerolinewidth\": 2}}}, \"width\": 2000},                        {\"responsive\": true}                    ).then(function(){\n",
       "                            \n",
       "var gd = document.getElementById('f017ba33-80d6-4c0d-90d7-ec2fea0281d4');\n",
       "var x = new MutationObserver(function (mutations, observer) {{\n",
       "        var display = window.getComputedStyle(gd).display;\n",
       "        if (!display || display === 'none') {{\n",
       "            console.log([gd, 'removed!']);\n",
       "            Plotly.purge(gd);\n",
       "            observer.disconnect();\n",
       "        }}\n",
       "}});\n",
       "\n",
       "// Listen for the removal of the full notebook cells\n",
       "var notebookContainer = gd.closest('#notebook-container');\n",
       "if (notebookContainer) {{\n",
       "    x.observe(notebookContainer, {childList: true});\n",
       "}}\n",
       "\n",
       "// Listen for the clearing of the current output cell\n",
       "var outputEl = gd.closest('.output');\n",
       "if (outputEl) {{\n",
       "    x.observe(outputEl, {childList: true});\n",
       "}}\n",
       "\n",
       "                        })                };                });            </script>        </div>"
      ]
     },
     "metadata": {},
     "output_type": "display_data"
    }
   ],
   "source": [
    "import plotly.express as px\n",
    "# fig, ax = plt.subplots(figsize=(20,20))\n",
    "\n",
    "fig = px.parallel_coordinates(results_index.iloc[:,32:43],color=results_index.index,\n",
    "                              dimensions=results_load.iloc[:,31:42].columns\n",
    "                              , width=2000, height=600)\n",
    "fig.show()"
   ]
  },
  {
   "cell_type": "code",
   "execution_count": 67,
   "metadata": {},
   "outputs": [],
   "source": [
    "give_me_deaths = results_index.loc[:,['index','A.1_Expected Number of Deaths','A.2_Expected Number of Deaths','A.3_Expected Number of Deaths']]"
   ]
  },
  {
   "cell_type": "code",
   "execution_count": 74,
   "metadata": {},
   "outputs": [
    {
     "data": {
      "application/vnd.plotly.v1+json": {
       "config": {
        "plotlyServerURL": "https://plot.ly"
       },
       "data": [
        {
         "dimensions": [
          {
           "label": "A.1_Expected Number of Deaths",
           "values": [
            0,
            0,
            0,
            0,
            0,
            0,
            0,
            0,
            0,
            0,
            0,
            0,
            0,
            0,
            0,
            0,
            0,
            0,
            0,
            0,
            0,
            0,
            0,
            0,
            0,
            0,
            0,
            0,
            0,
            0,
            0,
            0,
            0,
            0,
            0,
            0,
            0,
            0,
            0,
            0,
            0,
            0,
            0,
            0,
            0,
            0,
            0,
            0,
            0,
            0,
            0,
            0,
            0,
            0,
            0,
            0,
            0,
            0,
            0,
            0,
            0,
            0,
            0,
            0,
            0,
            0,
            0,
            0,
            0,
            0,
            0,
            0,
            0,
            0,
            0,
            0,
            0,
            0,
            0,
            0
           ]
          },
          {
           "label": "A.2_Expected Number of Deaths",
           "values": [
            0,
            0.009067007012168823,
            0,
            0,
            0,
            0.009067007012168823,
            0.005211056630899173,
            0.005211056630899173,
            0.0008001162711420771,
            0.0008001162711420771,
            0,
            0.0019202790507409848,
            0.0045335035060844135,
            0.0034740377539327822,
            0,
            0.01360051051825324,
            0.008089575822271421,
            0,
            0.008089575822271421,
            0,
            0.0008001162711420771,
            0.0039042155412944385,
            0.008089575822271421,
            0,
            0.0008001162711420771,
            0.005334108474280513,
            0,
            0,
            0,
            0,
            0,
            0,
            0,
            0,
            0.0006400930169136617,
            0.005334108474280513,
            0.005334108474280513,
            0.005334108474280513,
            0.005334108474280513,
            0.0012134363733407134,
            0.010845043170262329,
            0.0019202790507409848,
            0.0029122472960177114,
            0.009067007012168823,
            0,
            0,
            0,
            0.010845043170262329,
            0,
            0.005088004787517832,
            0,
            0.010845043170262329,
            0.01360051051825324,
            0,
            0.009067007012168823,
            0.003264122524380777,
            0.009067007012168823,
            0.0045335035060844135,
            0.0019202790507409848,
            0.0029122472960177114,
            0,
            0,
            0.0013600510518253235,
            0.0016320612621903885,
            0.005334108474280513,
            0.005334108474280513,
            0.003264122524380777,
            0.0016267564755393495,
            0,
            0.008089575822271421,
            0.008089575822271421,
            0,
            0,
            0.0016320612621903885,
            0,
            0.009067007012168823,
            0.0016267564755393495,
            0.0045335035060844135,
            0.0016267564755393495,
            0.0050387840501652965
           ]
          },
          {
           "label": "A.3_Expected Number of Deaths",
           "values": [
            0,
            0.006258243103199858,
            0,
            0,
            0.018774729309599576,
            0.06573665503048845,
            0,
            0.0181860882820448,
            0,
            0.007562620550765875,
            0.018774729309599576,
            0.012454595936646974,
            0.012516486206399715,
            0,
            0,
            0.06548556211930318,
            0.05016637742725391,
            0.018150289321838098,
            0.0659877479416737,
            0.018774729309599576,
            0.0018774729309599574,
            0.0022529675171519487,
            0.0659877479416737,
            0.012454595936646974,
            0,
            0.006258243103199858,
            0.0051894149736029065,
            0,
            0.0022529675171519487,
            0,
            0,
            0,
            0,
            0.023845982707029225,
            0.000750989172383983,
            0.006258243103199858,
            0.06623884085285897,
            0.006258243103199858,
            0.018774729309599576,
            0.009898162191251057,
            0,
            0.006758902551455847,
            0.004505935034303897,
            0.006258243103199858,
            0.018774729309599576,
            0.006758902551455847,
            0.06623884085285897,
            0.06573665503048845,
            0.0028162093964399365,
            0,
            0.018774729309599576,
            0.006258243103199858,
            0,
            0.006758902551455847,
            0.006258243103199858,
            0.0022529675171519487,
            0.06573665503048845,
            0.012516486206399715,
            0,
            0.0022529675171519487,
            0.018774729309599576,
            0.0181860882820448,
            0.0009387364654799787,
            0.004505935034303897,
            0,
            0.018774729309599576,
            0.023665195810975842,
            0.00986049825457327,
            0,
            0,
            0.012516486206399715,
            0.06623884085285897,
            0.0028162093964399365,
            0.004505935034303897,
            0.006758902551455847,
            0.006258243103199858,
            0,
            0.0659877479416737,
            0.00986049825457327,
            0
           ]
          }
         ],
         "domain": {
          "x": [
           0,
           1
          ],
          "y": [
           0,
           1
          ]
         },
         "line": {
          "color": [
           0,
           1,
           2,
           3,
           4,
           5,
           6,
           7,
           8,
           9,
           10,
           11,
           12,
           13,
           14,
           15,
           16,
           17,
           18,
           19,
           20,
           21,
           22,
           23,
           24,
           25,
           26,
           27,
           28,
           29,
           30,
           31,
           32,
           33,
           34,
           35,
           36,
           37,
           38,
           39,
           40,
           41,
           42,
           43,
           44,
           45,
           46,
           47,
           48,
           49,
           50,
           51,
           52,
           53,
           54,
           55,
           56,
           57,
           58,
           59,
           60,
           61,
           62,
           63,
           64,
           65,
           66,
           67,
           68,
           69,
           70,
           71,
           72,
           73,
           74,
           75,
           76,
           77,
           78,
           79
          ],
          "coloraxis": "coloraxis"
         },
         "name": "",
         "type": "parcoords"
        }
       ],
       "layout": {
        "coloraxis": {
         "colorbar": {
          "title": {
           "text": "_index"
          }
         },
         "colorscale": [
          [
           0,
           "#0d0887"
          ],
          [
           0.1111111111111111,
           "#46039f"
          ],
          [
           0.2222222222222222,
           "#7201a8"
          ],
          [
           0.3333333333333333,
           "#9c179e"
          ],
          [
           0.4444444444444444,
           "#bd3786"
          ],
          [
           0.5555555555555556,
           "#d8576b"
          ],
          [
           0.6666666666666666,
           "#ed7953"
          ],
          [
           0.7777777777777778,
           "#fb9f3a"
          ],
          [
           0.8888888888888888,
           "#fdca26"
          ],
          [
           1,
           "#f0f921"
          ]
         ]
        },
        "height": 600,
        "legend": {
         "tracegroupgap": 0
        },
        "margin": {
         "t": 60
        },
        "template": {
         "data": {
          "bar": [
           {
            "error_x": {
             "color": "#2a3f5f"
            },
            "error_y": {
             "color": "#2a3f5f"
            },
            "marker": {
             "line": {
              "color": "#E5ECF6",
              "width": 0.5
             }
            },
            "type": "bar"
           }
          ],
          "barpolar": [
           {
            "marker": {
             "line": {
              "color": "#E5ECF6",
              "width": 0.5
             }
            },
            "type": "barpolar"
           }
          ],
          "carpet": [
           {
            "aaxis": {
             "endlinecolor": "#2a3f5f",
             "gridcolor": "white",
             "linecolor": "white",
             "minorgridcolor": "white",
             "startlinecolor": "#2a3f5f"
            },
            "baxis": {
             "endlinecolor": "#2a3f5f",
             "gridcolor": "white",
             "linecolor": "white",
             "minorgridcolor": "white",
             "startlinecolor": "#2a3f5f"
            },
            "type": "carpet"
           }
          ],
          "choropleth": [
           {
            "colorbar": {
             "outlinewidth": 0,
             "ticks": ""
            },
            "type": "choropleth"
           }
          ],
          "contour": [
           {
            "colorbar": {
             "outlinewidth": 0,
             "ticks": ""
            },
            "colorscale": [
             [
              0,
              "#0d0887"
             ],
             [
              0.1111111111111111,
              "#46039f"
             ],
             [
              0.2222222222222222,
              "#7201a8"
             ],
             [
              0.3333333333333333,
              "#9c179e"
             ],
             [
              0.4444444444444444,
              "#bd3786"
             ],
             [
              0.5555555555555556,
              "#d8576b"
             ],
             [
              0.6666666666666666,
              "#ed7953"
             ],
             [
              0.7777777777777778,
              "#fb9f3a"
             ],
             [
              0.8888888888888888,
              "#fdca26"
             ],
             [
              1,
              "#f0f921"
             ]
            ],
            "type": "contour"
           }
          ],
          "contourcarpet": [
           {
            "colorbar": {
             "outlinewidth": 0,
             "ticks": ""
            },
            "type": "contourcarpet"
           }
          ],
          "heatmap": [
           {
            "colorbar": {
             "outlinewidth": 0,
             "ticks": ""
            },
            "colorscale": [
             [
              0,
              "#0d0887"
             ],
             [
              0.1111111111111111,
              "#46039f"
             ],
             [
              0.2222222222222222,
              "#7201a8"
             ],
             [
              0.3333333333333333,
              "#9c179e"
             ],
             [
              0.4444444444444444,
              "#bd3786"
             ],
             [
              0.5555555555555556,
              "#d8576b"
             ],
             [
              0.6666666666666666,
              "#ed7953"
             ],
             [
              0.7777777777777778,
              "#fb9f3a"
             ],
             [
              0.8888888888888888,
              "#fdca26"
             ],
             [
              1,
              "#f0f921"
             ]
            ],
            "type": "heatmap"
           }
          ],
          "heatmapgl": [
           {
            "colorbar": {
             "outlinewidth": 0,
             "ticks": ""
            },
            "colorscale": [
             [
              0,
              "#0d0887"
             ],
             [
              0.1111111111111111,
              "#46039f"
             ],
             [
              0.2222222222222222,
              "#7201a8"
             ],
             [
              0.3333333333333333,
              "#9c179e"
             ],
             [
              0.4444444444444444,
              "#bd3786"
             ],
             [
              0.5555555555555556,
              "#d8576b"
             ],
             [
              0.6666666666666666,
              "#ed7953"
             ],
             [
              0.7777777777777778,
              "#fb9f3a"
             ],
             [
              0.8888888888888888,
              "#fdca26"
             ],
             [
              1,
              "#f0f921"
             ]
            ],
            "type": "heatmapgl"
           }
          ],
          "histogram": [
           {
            "marker": {
             "colorbar": {
              "outlinewidth": 0,
              "ticks": ""
             }
            },
            "type": "histogram"
           }
          ],
          "histogram2d": [
           {
            "colorbar": {
             "outlinewidth": 0,
             "ticks": ""
            },
            "colorscale": [
             [
              0,
              "#0d0887"
             ],
             [
              0.1111111111111111,
              "#46039f"
             ],
             [
              0.2222222222222222,
              "#7201a8"
             ],
             [
              0.3333333333333333,
              "#9c179e"
             ],
             [
              0.4444444444444444,
              "#bd3786"
             ],
             [
              0.5555555555555556,
              "#d8576b"
             ],
             [
              0.6666666666666666,
              "#ed7953"
             ],
             [
              0.7777777777777778,
              "#fb9f3a"
             ],
             [
              0.8888888888888888,
              "#fdca26"
             ],
             [
              1,
              "#f0f921"
             ]
            ],
            "type": "histogram2d"
           }
          ],
          "histogram2dcontour": [
           {
            "colorbar": {
             "outlinewidth": 0,
             "ticks": ""
            },
            "colorscale": [
             [
              0,
              "#0d0887"
             ],
             [
              0.1111111111111111,
              "#46039f"
             ],
             [
              0.2222222222222222,
              "#7201a8"
             ],
             [
              0.3333333333333333,
              "#9c179e"
             ],
             [
              0.4444444444444444,
              "#bd3786"
             ],
             [
              0.5555555555555556,
              "#d8576b"
             ],
             [
              0.6666666666666666,
              "#ed7953"
             ],
             [
              0.7777777777777778,
              "#fb9f3a"
             ],
             [
              0.8888888888888888,
              "#fdca26"
             ],
             [
              1,
              "#f0f921"
             ]
            ],
            "type": "histogram2dcontour"
           }
          ],
          "mesh3d": [
           {
            "colorbar": {
             "outlinewidth": 0,
             "ticks": ""
            },
            "type": "mesh3d"
           }
          ],
          "parcoords": [
           {
            "line": {
             "colorbar": {
              "outlinewidth": 0,
              "ticks": ""
             }
            },
            "type": "parcoords"
           }
          ],
          "pie": [
           {
            "automargin": true,
            "type": "pie"
           }
          ],
          "scatter": [
           {
            "marker": {
             "colorbar": {
              "outlinewidth": 0,
              "ticks": ""
             }
            },
            "type": "scatter"
           }
          ],
          "scatter3d": [
           {
            "line": {
             "colorbar": {
              "outlinewidth": 0,
              "ticks": ""
             }
            },
            "marker": {
             "colorbar": {
              "outlinewidth": 0,
              "ticks": ""
             }
            },
            "type": "scatter3d"
           }
          ],
          "scattercarpet": [
           {
            "marker": {
             "colorbar": {
              "outlinewidth": 0,
              "ticks": ""
             }
            },
            "type": "scattercarpet"
           }
          ],
          "scattergeo": [
           {
            "marker": {
             "colorbar": {
              "outlinewidth": 0,
              "ticks": ""
             }
            },
            "type": "scattergeo"
           }
          ],
          "scattergl": [
           {
            "marker": {
             "colorbar": {
              "outlinewidth": 0,
              "ticks": ""
             }
            },
            "type": "scattergl"
           }
          ],
          "scattermapbox": [
           {
            "marker": {
             "colorbar": {
              "outlinewidth": 0,
              "ticks": ""
             }
            },
            "type": "scattermapbox"
           }
          ],
          "scatterpolar": [
           {
            "marker": {
             "colorbar": {
              "outlinewidth": 0,
              "ticks": ""
             }
            },
            "type": "scatterpolar"
           }
          ],
          "scatterpolargl": [
           {
            "marker": {
             "colorbar": {
              "outlinewidth": 0,
              "ticks": ""
             }
            },
            "type": "scatterpolargl"
           }
          ],
          "scatterternary": [
           {
            "marker": {
             "colorbar": {
              "outlinewidth": 0,
              "ticks": ""
             }
            },
            "type": "scatterternary"
           }
          ],
          "surface": [
           {
            "colorbar": {
             "outlinewidth": 0,
             "ticks": ""
            },
            "colorscale": [
             [
              0,
              "#0d0887"
             ],
             [
              0.1111111111111111,
              "#46039f"
             ],
             [
              0.2222222222222222,
              "#7201a8"
             ],
             [
              0.3333333333333333,
              "#9c179e"
             ],
             [
              0.4444444444444444,
              "#bd3786"
             ],
             [
              0.5555555555555556,
              "#d8576b"
             ],
             [
              0.6666666666666666,
              "#ed7953"
             ],
             [
              0.7777777777777778,
              "#fb9f3a"
             ],
             [
              0.8888888888888888,
              "#fdca26"
             ],
             [
              1,
              "#f0f921"
             ]
            ],
            "type": "surface"
           }
          ],
          "table": [
           {
            "cells": {
             "fill": {
              "color": "#EBF0F8"
             },
             "line": {
              "color": "white"
             }
            },
            "header": {
             "fill": {
              "color": "#C8D4E3"
             },
             "line": {
              "color": "white"
             }
            },
            "type": "table"
           }
          ]
         },
         "layout": {
          "annotationdefaults": {
           "arrowcolor": "#2a3f5f",
           "arrowhead": 0,
           "arrowwidth": 1
          },
          "autotypenumbers": "strict",
          "coloraxis": {
           "colorbar": {
            "outlinewidth": 0,
            "ticks": ""
           }
          },
          "colorscale": {
           "diverging": [
            [
             0,
             "#8e0152"
            ],
            [
             0.1,
             "#c51b7d"
            ],
            [
             0.2,
             "#de77ae"
            ],
            [
             0.3,
             "#f1b6da"
            ],
            [
             0.4,
             "#fde0ef"
            ],
            [
             0.5,
             "#f7f7f7"
            ],
            [
             0.6,
             "#e6f5d0"
            ],
            [
             0.7,
             "#b8e186"
            ],
            [
             0.8,
             "#7fbc41"
            ],
            [
             0.9,
             "#4d9221"
            ],
            [
             1,
             "#276419"
            ]
           ],
           "sequential": [
            [
             0,
             "#0d0887"
            ],
            [
             0.1111111111111111,
             "#46039f"
            ],
            [
             0.2222222222222222,
             "#7201a8"
            ],
            [
             0.3333333333333333,
             "#9c179e"
            ],
            [
             0.4444444444444444,
             "#bd3786"
            ],
            [
             0.5555555555555556,
             "#d8576b"
            ],
            [
             0.6666666666666666,
             "#ed7953"
            ],
            [
             0.7777777777777778,
             "#fb9f3a"
            ],
            [
             0.8888888888888888,
             "#fdca26"
            ],
            [
             1,
             "#f0f921"
            ]
           ],
           "sequentialminus": [
            [
             0,
             "#0d0887"
            ],
            [
             0.1111111111111111,
             "#46039f"
            ],
            [
             0.2222222222222222,
             "#7201a8"
            ],
            [
             0.3333333333333333,
             "#9c179e"
            ],
            [
             0.4444444444444444,
             "#bd3786"
            ],
            [
             0.5555555555555556,
             "#d8576b"
            ],
            [
             0.6666666666666666,
             "#ed7953"
            ],
            [
             0.7777777777777778,
             "#fb9f3a"
            ],
            [
             0.8888888888888888,
             "#fdca26"
            ],
            [
             1,
             "#f0f921"
            ]
           ]
          },
          "colorway": [
           "#636efa",
           "#EF553B",
           "#00cc96",
           "#ab63fa",
           "#FFA15A",
           "#19d3f3",
           "#FF6692",
           "#B6E880",
           "#FF97FF",
           "#FECB52"
          ],
          "font": {
           "color": "#2a3f5f"
          },
          "geo": {
           "bgcolor": "white",
           "lakecolor": "white",
           "landcolor": "#E5ECF6",
           "showlakes": true,
           "showland": true,
           "subunitcolor": "white"
          },
          "hoverlabel": {
           "align": "left"
          },
          "hovermode": "closest",
          "mapbox": {
           "style": "light"
          },
          "paper_bgcolor": "white",
          "plot_bgcolor": "#E5ECF6",
          "polar": {
           "angularaxis": {
            "gridcolor": "white",
            "linecolor": "white",
            "ticks": ""
           },
           "bgcolor": "#E5ECF6",
           "radialaxis": {
            "gridcolor": "white",
            "linecolor": "white",
            "ticks": ""
           }
          },
          "scene": {
           "xaxis": {
            "backgroundcolor": "#E5ECF6",
            "gridcolor": "white",
            "gridwidth": 2,
            "linecolor": "white",
            "showbackground": true,
            "ticks": "",
            "zerolinecolor": "white"
           },
           "yaxis": {
            "backgroundcolor": "#E5ECF6",
            "gridcolor": "white",
            "gridwidth": 2,
            "linecolor": "white",
            "showbackground": true,
            "ticks": "",
            "zerolinecolor": "white"
           },
           "zaxis": {
            "backgroundcolor": "#E5ECF6",
            "gridcolor": "white",
            "gridwidth": 2,
            "linecolor": "white",
            "showbackground": true,
            "ticks": "",
            "zerolinecolor": "white"
           }
          },
          "shapedefaults": {
           "line": {
            "color": "#2a3f5f"
           }
          },
          "ternary": {
           "aaxis": {
            "gridcolor": "white",
            "linecolor": "white",
            "ticks": ""
           },
           "baxis": {
            "gridcolor": "white",
            "linecolor": "white",
            "ticks": ""
           },
           "bgcolor": "#E5ECF6",
           "caxis": {
            "gridcolor": "white",
            "linecolor": "white",
            "ticks": ""
           }
          },
          "title": {
           "x": 0.05
          },
          "xaxis": {
           "automargin": true,
           "gridcolor": "white",
           "linecolor": "white",
           "ticks": "",
           "title": {
            "standoff": 15
           },
           "zerolinecolor": "white",
           "zerolinewidth": 2
          },
          "yaxis": {
           "automargin": true,
           "gridcolor": "white",
           "linecolor": "white",
           "ticks": "",
           "title": {
            "standoff": 15
           },
           "zerolinecolor": "white",
           "zerolinewidth": 2
          }
         }
        },
        "width": 900
       }
      },
      "text/html": [
       "<div>                            <div id=\"41e99d34-f767-4f7d-acd5-0c16c3133865\" class=\"plotly-graph-div\" style=\"height:600px; width:900px;\"></div>            <script type=\"text/javascript\">                require([\"plotly\"], function(Plotly) {                    window.PLOTLYENV=window.PLOTLYENV || {};                                    if (document.getElementById(\"41e99d34-f767-4f7d-acd5-0c16c3133865\")) {                    Plotly.newPlot(                        \"41e99d34-f767-4f7d-acd5-0c16c3133865\",                        [{\"dimensions\": [{\"label\": \"A.1_Expected Number of Deaths\", \"values\": [0.0, 0.0, 0.0, 0.0, 0.0, 0.0, 0.0, 0.0, 0.0, 0.0, 0.0, 0.0, 0.0, 0.0, 0.0, 0.0, 0.0, 0.0, 0.0, 0.0, 0.0, 0.0, 0.0, 0.0, 0.0, 0.0, 0.0, 0.0, 0.0, 0.0, 0.0, 0.0, 0.0, 0.0, 0.0, 0.0, 0.0, 0.0, 0.0, 0.0, 0.0, 0.0, 0.0, 0.0, 0.0, 0.0, 0.0, 0.0, 0.0, 0.0, 0.0, 0.0, 0.0, 0.0, 0.0, 0.0, 0.0, 0.0, 0.0, 0.0, 0.0, 0.0, 0.0, 0.0, 0.0, 0.0, 0.0, 0.0, 0.0, 0.0, 0.0, 0.0, 0.0, 0.0, 0.0, 0.0, 0.0, 0.0, 0.0, 0.0]}, {\"label\": \"A.2_Expected Number of Deaths\", \"values\": [0.0, 0.009067007012168823, 0.0, 0.0, 0.0, 0.009067007012168823, 0.005211056630899173, 0.005211056630899173, 0.0008001162711420771, 0.0008001162711420771, 0.0, 0.0019202790507409848, 0.0045335035060844135, 0.0034740377539327822, 0.0, 0.01360051051825324, 0.008089575822271421, 0.0, 0.008089575822271421, 0.0, 0.0008001162711420771, 0.0039042155412944385, 0.008089575822271421, 0.0, 0.0008001162711420771, 0.005334108474280513, 0.0, 0.0, 0.0, 0.0, 0.0, 0.0, 0.0, 0.0, 0.0006400930169136617, 0.005334108474280513, 0.005334108474280513, 0.005334108474280513, 0.005334108474280513, 0.0012134363733407134, 0.010845043170262329, 0.0019202790507409848, 0.0029122472960177114, 0.009067007012168823, 0.0, 0.0, 0.0, 0.010845043170262329, 0.0, 0.005088004787517832, 0.0, 0.010845043170262329, 0.01360051051825324, 0.0, 0.009067007012168823, 0.003264122524380777, 0.009067007012168823, 0.0045335035060844135, 0.0019202790507409848, 0.0029122472960177114, 0.0, 0.0, 0.0013600510518253235, 0.0016320612621903885, 0.005334108474280513, 0.005334108474280513, 0.003264122524380777, 0.0016267564755393495, 0.0, 0.008089575822271421, 0.008089575822271421, 0.0, 0.0, 0.0016320612621903885, 0.0, 0.009067007012168823, 0.0016267564755393495, 0.0045335035060844135, 0.0016267564755393495, 0.0050387840501652965]}, {\"label\": \"A.3_Expected Number of Deaths\", \"values\": [0.0, 0.006258243103199858, 0.0, 0.0, 0.018774729309599576, 0.06573665503048845, 0.0, 0.0181860882820448, 0.0, 0.007562620550765875, 0.018774729309599576, 0.012454595936646974, 0.012516486206399715, 0.0, 0.0, 0.06548556211930318, 0.05016637742725391, 0.018150289321838098, 0.0659877479416737, 0.018774729309599576, 0.0018774729309599574, 0.0022529675171519487, 0.0659877479416737, 0.012454595936646974, 0.0, 0.006258243103199858, 0.0051894149736029065, 0.0, 0.0022529675171519487, 0.0, 0.0, 0.0, 0.0, 0.023845982707029225, 0.000750989172383983, 0.006258243103199858, 0.06623884085285897, 0.006258243103199858, 0.018774729309599576, 0.009898162191251057, 0.0, 0.006758902551455847, 0.004505935034303897, 0.006258243103199858, 0.018774729309599576, 0.006758902551455847, 0.06623884085285897, 0.06573665503048845, 0.0028162093964399365, 0.0, 0.018774729309599576, 0.006258243103199858, 0.0, 0.006758902551455847, 0.006258243103199858, 0.0022529675171519487, 0.06573665503048845, 0.012516486206399715, 0.0, 0.0022529675171519487, 0.018774729309599576, 0.0181860882820448, 0.0009387364654799787, 0.004505935034303897, 0.0, 0.018774729309599576, 0.023665195810975842, 0.00986049825457327, 0.0, 0.0, 0.012516486206399715, 0.06623884085285897, 0.0028162093964399365, 0.004505935034303897, 0.006758902551455847, 0.006258243103199858, 0.0, 0.0659877479416737, 0.00986049825457327, 0.0]}], \"domain\": {\"x\": [0.0, 1.0], \"y\": [0.0, 1.0]}, \"line\": {\"color\": [0, 1, 2, 3, 4, 5, 6, 7, 8, 9, 10, 11, 12, 13, 14, 15, 16, 17, 18, 19, 20, 21, 22, 23, 24, 25, 26, 27, 28, 29, 30, 31, 32, 33, 34, 35, 36, 37, 38, 39, 40, 41, 42, 43, 44, 45, 46, 47, 48, 49, 50, 51, 52, 53, 54, 55, 56, 57, 58, 59, 60, 61, 62, 63, 64, 65, 66, 67, 68, 69, 70, 71, 72, 73, 74, 75, 76, 77, 78, 79], \"coloraxis\": \"coloraxis\"}, \"name\": \"\", \"type\": \"parcoords\"}],                        {\"coloraxis\": {\"colorbar\": {\"title\": {\"text\": \"_index\"}}, \"colorscale\": [[0.0, \"#0d0887\"], [0.1111111111111111, \"#46039f\"], [0.2222222222222222, \"#7201a8\"], [0.3333333333333333, \"#9c179e\"], [0.4444444444444444, \"#bd3786\"], [0.5555555555555556, \"#d8576b\"], [0.6666666666666666, \"#ed7953\"], [0.7777777777777778, \"#fb9f3a\"], [0.8888888888888888, \"#fdca26\"], [1.0, \"#f0f921\"]]}, \"height\": 600, \"legend\": {\"tracegroupgap\": 0}, \"margin\": {\"t\": 60}, \"template\": {\"data\": {\"bar\": [{\"error_x\": {\"color\": \"#2a3f5f\"}, \"error_y\": {\"color\": \"#2a3f5f\"}, \"marker\": {\"line\": {\"color\": \"#E5ECF6\", \"width\": 0.5}}, \"type\": \"bar\"}], \"barpolar\": [{\"marker\": {\"line\": {\"color\": \"#E5ECF6\", \"width\": 0.5}}, \"type\": \"barpolar\"}], \"carpet\": [{\"aaxis\": {\"endlinecolor\": \"#2a3f5f\", \"gridcolor\": \"white\", \"linecolor\": \"white\", \"minorgridcolor\": \"white\", \"startlinecolor\": \"#2a3f5f\"}, \"baxis\": {\"endlinecolor\": \"#2a3f5f\", \"gridcolor\": \"white\", \"linecolor\": \"white\", \"minorgridcolor\": \"white\", \"startlinecolor\": \"#2a3f5f\"}, \"type\": \"carpet\"}], \"choropleth\": [{\"colorbar\": {\"outlinewidth\": 0, \"ticks\": \"\"}, \"type\": \"choropleth\"}], \"contour\": [{\"colorbar\": {\"outlinewidth\": 0, \"ticks\": \"\"}, \"colorscale\": [[0.0, \"#0d0887\"], [0.1111111111111111, \"#46039f\"], [0.2222222222222222, \"#7201a8\"], [0.3333333333333333, \"#9c179e\"], [0.4444444444444444, \"#bd3786\"], [0.5555555555555556, \"#d8576b\"], [0.6666666666666666, \"#ed7953\"], [0.7777777777777778, \"#fb9f3a\"], [0.8888888888888888, \"#fdca26\"], [1.0, \"#f0f921\"]], \"type\": \"contour\"}], \"contourcarpet\": [{\"colorbar\": {\"outlinewidth\": 0, \"ticks\": \"\"}, \"type\": \"contourcarpet\"}], \"heatmap\": [{\"colorbar\": {\"outlinewidth\": 0, \"ticks\": \"\"}, \"colorscale\": [[0.0, \"#0d0887\"], [0.1111111111111111, \"#46039f\"], [0.2222222222222222, \"#7201a8\"], [0.3333333333333333, \"#9c179e\"], [0.4444444444444444, \"#bd3786\"], [0.5555555555555556, \"#d8576b\"], [0.6666666666666666, \"#ed7953\"], [0.7777777777777778, \"#fb9f3a\"], [0.8888888888888888, \"#fdca26\"], [1.0, \"#f0f921\"]], \"type\": \"heatmap\"}], \"heatmapgl\": [{\"colorbar\": {\"outlinewidth\": 0, \"ticks\": \"\"}, \"colorscale\": [[0.0, \"#0d0887\"], [0.1111111111111111, \"#46039f\"], [0.2222222222222222, \"#7201a8\"], [0.3333333333333333, \"#9c179e\"], [0.4444444444444444, \"#bd3786\"], [0.5555555555555556, \"#d8576b\"], [0.6666666666666666, \"#ed7953\"], [0.7777777777777778, \"#fb9f3a\"], [0.8888888888888888, \"#fdca26\"], [1.0, \"#f0f921\"]], \"type\": \"heatmapgl\"}], \"histogram\": [{\"marker\": {\"colorbar\": {\"outlinewidth\": 0, \"ticks\": \"\"}}, \"type\": \"histogram\"}], \"histogram2d\": [{\"colorbar\": {\"outlinewidth\": 0, \"ticks\": \"\"}, \"colorscale\": [[0.0, \"#0d0887\"], [0.1111111111111111, \"#46039f\"], [0.2222222222222222, \"#7201a8\"], [0.3333333333333333, \"#9c179e\"], [0.4444444444444444, \"#bd3786\"], [0.5555555555555556, \"#d8576b\"], [0.6666666666666666, \"#ed7953\"], [0.7777777777777778, \"#fb9f3a\"], [0.8888888888888888, \"#fdca26\"], [1.0, \"#f0f921\"]], \"type\": \"histogram2d\"}], \"histogram2dcontour\": [{\"colorbar\": {\"outlinewidth\": 0, \"ticks\": \"\"}, \"colorscale\": [[0.0, \"#0d0887\"], [0.1111111111111111, \"#46039f\"], [0.2222222222222222, \"#7201a8\"], [0.3333333333333333, \"#9c179e\"], [0.4444444444444444, \"#bd3786\"], [0.5555555555555556, \"#d8576b\"], [0.6666666666666666, \"#ed7953\"], [0.7777777777777778, \"#fb9f3a\"], [0.8888888888888888, \"#fdca26\"], [1.0, \"#f0f921\"]], \"type\": \"histogram2dcontour\"}], \"mesh3d\": [{\"colorbar\": {\"outlinewidth\": 0, \"ticks\": \"\"}, \"type\": \"mesh3d\"}], \"parcoords\": [{\"line\": {\"colorbar\": {\"outlinewidth\": 0, \"ticks\": \"\"}}, \"type\": \"parcoords\"}], \"pie\": [{\"automargin\": true, \"type\": \"pie\"}], \"scatter\": [{\"marker\": {\"colorbar\": {\"outlinewidth\": 0, \"ticks\": \"\"}}, \"type\": \"scatter\"}], \"scatter3d\": [{\"line\": {\"colorbar\": {\"outlinewidth\": 0, \"ticks\": \"\"}}, \"marker\": {\"colorbar\": {\"outlinewidth\": 0, \"ticks\": \"\"}}, \"type\": \"scatter3d\"}], \"scattercarpet\": [{\"marker\": {\"colorbar\": {\"outlinewidth\": 0, \"ticks\": \"\"}}, \"type\": \"scattercarpet\"}], \"scattergeo\": [{\"marker\": {\"colorbar\": {\"outlinewidth\": 0, \"ticks\": \"\"}}, \"type\": \"scattergeo\"}], \"scattergl\": [{\"marker\": {\"colorbar\": {\"outlinewidth\": 0, \"ticks\": \"\"}}, \"type\": \"scattergl\"}], \"scattermapbox\": [{\"marker\": {\"colorbar\": {\"outlinewidth\": 0, \"ticks\": \"\"}}, \"type\": \"scattermapbox\"}], \"scatterpolar\": [{\"marker\": {\"colorbar\": {\"outlinewidth\": 0, \"ticks\": \"\"}}, \"type\": \"scatterpolar\"}], \"scatterpolargl\": [{\"marker\": {\"colorbar\": {\"outlinewidth\": 0, \"ticks\": \"\"}}, \"type\": \"scatterpolargl\"}], \"scatterternary\": [{\"marker\": {\"colorbar\": {\"outlinewidth\": 0, \"ticks\": \"\"}}, \"type\": \"scatterternary\"}], \"surface\": [{\"colorbar\": {\"outlinewidth\": 0, \"ticks\": \"\"}, \"colorscale\": [[0.0, \"#0d0887\"], [0.1111111111111111, \"#46039f\"], [0.2222222222222222, \"#7201a8\"], [0.3333333333333333, \"#9c179e\"], [0.4444444444444444, \"#bd3786\"], [0.5555555555555556, \"#d8576b\"], [0.6666666666666666, \"#ed7953\"], [0.7777777777777778, \"#fb9f3a\"], [0.8888888888888888, \"#fdca26\"], [1.0, \"#f0f921\"]], \"type\": \"surface\"}], \"table\": [{\"cells\": {\"fill\": {\"color\": \"#EBF0F8\"}, \"line\": {\"color\": \"white\"}}, \"header\": {\"fill\": {\"color\": \"#C8D4E3\"}, \"line\": {\"color\": \"white\"}}, \"type\": \"table\"}]}, \"layout\": {\"annotationdefaults\": {\"arrowcolor\": \"#2a3f5f\", \"arrowhead\": 0, \"arrowwidth\": 1}, \"autotypenumbers\": \"strict\", \"coloraxis\": {\"colorbar\": {\"outlinewidth\": 0, \"ticks\": \"\"}}, \"colorscale\": {\"diverging\": [[0, \"#8e0152\"], [0.1, \"#c51b7d\"], [0.2, \"#de77ae\"], [0.3, \"#f1b6da\"], [0.4, \"#fde0ef\"], [0.5, \"#f7f7f7\"], [0.6, \"#e6f5d0\"], [0.7, \"#b8e186\"], [0.8, \"#7fbc41\"], [0.9, \"#4d9221\"], [1, \"#276419\"]], \"sequential\": [[0.0, \"#0d0887\"], [0.1111111111111111, \"#46039f\"], [0.2222222222222222, \"#7201a8\"], [0.3333333333333333, \"#9c179e\"], [0.4444444444444444, \"#bd3786\"], [0.5555555555555556, \"#d8576b\"], [0.6666666666666666, \"#ed7953\"], [0.7777777777777778, \"#fb9f3a\"], [0.8888888888888888, \"#fdca26\"], [1.0, \"#f0f921\"]], \"sequentialminus\": [[0.0, \"#0d0887\"], [0.1111111111111111, \"#46039f\"], [0.2222222222222222, \"#7201a8\"], [0.3333333333333333, \"#9c179e\"], [0.4444444444444444, \"#bd3786\"], [0.5555555555555556, \"#d8576b\"], [0.6666666666666666, \"#ed7953\"], [0.7777777777777778, \"#fb9f3a\"], [0.8888888888888888, \"#fdca26\"], [1.0, \"#f0f921\"]]}, \"colorway\": [\"#636efa\", \"#EF553B\", \"#00cc96\", \"#ab63fa\", \"#FFA15A\", \"#19d3f3\", \"#FF6692\", \"#B6E880\", \"#FF97FF\", \"#FECB52\"], \"font\": {\"color\": \"#2a3f5f\"}, \"geo\": {\"bgcolor\": \"white\", \"lakecolor\": \"white\", \"landcolor\": \"#E5ECF6\", \"showlakes\": true, \"showland\": true, \"subunitcolor\": \"white\"}, \"hoverlabel\": {\"align\": \"left\"}, \"hovermode\": \"closest\", \"mapbox\": {\"style\": \"light\"}, \"paper_bgcolor\": \"white\", \"plot_bgcolor\": \"#E5ECF6\", \"polar\": {\"angularaxis\": {\"gridcolor\": \"white\", \"linecolor\": \"white\", \"ticks\": \"\"}, \"bgcolor\": \"#E5ECF6\", \"radialaxis\": {\"gridcolor\": \"white\", \"linecolor\": \"white\", \"ticks\": \"\"}}, \"scene\": {\"xaxis\": {\"backgroundcolor\": \"#E5ECF6\", \"gridcolor\": \"white\", \"gridwidth\": 2, \"linecolor\": \"white\", \"showbackground\": true, \"ticks\": \"\", \"zerolinecolor\": \"white\"}, \"yaxis\": {\"backgroundcolor\": \"#E5ECF6\", \"gridcolor\": \"white\", \"gridwidth\": 2, \"linecolor\": \"white\", \"showbackground\": true, \"ticks\": \"\", \"zerolinecolor\": \"white\"}, \"zaxis\": {\"backgroundcolor\": \"#E5ECF6\", \"gridcolor\": \"white\", \"gridwidth\": 2, \"linecolor\": \"white\", \"showbackground\": true, \"ticks\": \"\", \"zerolinecolor\": \"white\"}}, \"shapedefaults\": {\"line\": {\"color\": \"#2a3f5f\"}}, \"ternary\": {\"aaxis\": {\"gridcolor\": \"white\", \"linecolor\": \"white\", \"ticks\": \"\"}, \"baxis\": {\"gridcolor\": \"white\", \"linecolor\": \"white\", \"ticks\": \"\"}, \"bgcolor\": \"#E5ECF6\", \"caxis\": {\"gridcolor\": \"white\", \"linecolor\": \"white\", \"ticks\": \"\"}}, \"title\": {\"x\": 0.05}, \"xaxis\": {\"automargin\": true, \"gridcolor\": \"white\", \"linecolor\": \"white\", \"ticks\": \"\", \"title\": {\"standoff\": 15}, \"zerolinecolor\": \"white\", \"zerolinewidth\": 2}, \"yaxis\": {\"automargin\": true, \"gridcolor\": \"white\", \"linecolor\": \"white\", \"ticks\": \"\", \"title\": {\"standoff\": 15}, \"zerolinecolor\": \"white\", \"zerolinewidth\": 2}}}, \"width\": 900},                        {\"responsive\": true}                    ).then(function(){\n",
       "                            \n",
       "var gd = document.getElementById('41e99d34-f767-4f7d-acd5-0c16c3133865');\n",
       "var x = new MutationObserver(function (mutations, observer) {{\n",
       "        var display = window.getComputedStyle(gd).display;\n",
       "        if (!display || display === 'none') {{\n",
       "            console.log([gd, 'removed!']);\n",
       "            Plotly.purge(gd);\n",
       "            observer.disconnect();\n",
       "        }}\n",
       "}});\n",
       "\n",
       "// Listen for the removal of the full notebook cells\n",
       "var notebookContainer = gd.closest('#notebook-container');\n",
       "if (notebookContainer) {{\n",
       "    x.observe(notebookContainer, {childList: true});\n",
       "}}\n",
       "\n",
       "// Listen for the clearing of the current output cell\n",
       "var outputEl = gd.closest('.output');\n",
       "if (outputEl) {{\n",
       "    x.observe(outputEl, {childList: true});\n",
       "}}\n",
       "\n",
       "                        })                };                });            </script>        </div>"
      ]
     },
     "metadata": {},
     "output_type": "display_data"
    }
   ],
   "source": [
    "import plotly.express as px\n",
    "# fig, ax = plt.subplots(figsize=(20,20))\n",
    "\n",
    "fig = px.parallel_coordinates(give_me_deaths,color=give_me_deaths.index,\n",
    "                              dimensions=give_me_deaths.iloc[:,1:4].columns\n",
    "                              , width=900, height=600)\n",
    "fig.show()"
   ]
  },
  {
   "cell_type": "markdown",
   "metadata": {},
   "source": [
    "## A1 has 0 expected deaths but A2 and A3 do not. We need to make them 0 too for meeting our goal of safety of citizens. This is will be used in further analysis as a limiting criteria to have better policies. \n",
    "\n",
    "## The 80 optimal policies resulting from this analysis is used further in MORDM for getting robust polcies. "
   ]
  },
  {
   "cell_type": "code",
   "execution_count": null,
   "metadata": {},
   "outputs": [],
   "source": []
  }
 ],
 "metadata": {
  "kernelspec": {
   "display_name": "Python 3",
   "language": "python",
   "name": "python3"
  },
  "language_info": {
   "codemirror_mode": {
    "name": "ipython",
    "version": 3
   },
   "file_extension": ".py",
   "mimetype": "text/x-python",
   "name": "python",
   "nbconvert_exporter": "python",
   "pygments_lexer": "ipython3",
   "version": "3.7.8"
  }
 },
 "nbformat": 4,
 "nbformat_minor": 4
}
